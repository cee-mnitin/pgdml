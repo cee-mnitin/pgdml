{
 "cells": [
  {
   "cell_type": "markdown",
   "metadata": {},
   "source": [
    "# Gesture Recognition\n",
    "In this group project, you are going to build a 3D Conv model that will be able to predict the 5 gestures correctly. Please import the following libraries to get started."
   ]
  },
  {
   "cell_type": "code",
   "execution_count": 9,
   "metadata": {},
   "outputs": [],
   "source": [
    "import numpy as np\n",
    "import os\n",
    "from scipy.misc import imread, imresize\n",
    "import datetime\n",
    "import os\n",
    "from timeit import default_timer as timer\n",
    "from datetime import timedelta"
   ]
  },
  {
   "cell_type": "markdown",
   "metadata": {},
   "source": [
    "We set the random seed so that the results don't vary drastically."
   ]
  },
  {
   "cell_type": "code",
   "execution_count": 2,
   "metadata": {},
   "outputs": [],
   "source": [
    "np.random.seed(30)\n",
    "import random as rn\n",
    "rn.seed(30)\n",
    "import tensorflow as tf\n",
    "tf.random.set_seed(30)"
   ]
  },
  {
   "cell_type": "markdown",
   "metadata": {},
   "source": [
    "## Generator\n",
    "This is one of the most important part of the code. The overall structure of the generator has been given. In the generator, you are going to preprocess the images as you have images of 2 different dimensions as well as create a batch of video frames. You have to experiment with `img_idx`, `y`,`z` and normalization such that you get high accuracy."
   ]
  },
  {
   "cell_type": "code",
   "execution_count": 3,
   "metadata": {},
   "outputs": [],
   "source": [
    "def generator(source_path, folder_list, batch_size=10, frames = 30, image_height=100, image_width=100, channels = 3):\n",
    "    print( 'Source path = ', source_path, '; batch size =', batch_size)\n",
    "    img_idx = [x for x in range(0, frames)]\n",
    "    while True:\n",
    "        t = np.random.permutation(folder_list)\n",
    "        num_batches = len(folder_list)//batch_size\n",
    "        for batch in range(num_batches): # we iterate over the number of batches\n",
    "            batch_data = np.zeros((batch_size, frames, image_width, image_width, channels)) # x is the number of images you use for each video, (y,z) is the final size of the input images and 3 is the number of channels RGB\n",
    "            batch_labels = np.zeros((batch_size,5)) # batch_labels is the one hot representation of the output\n",
    "            for folder in range(batch_size): # iterate over the batch_size\n",
    "                imgs = os.listdir(source_path+'/'+ t[folder + (batch*batch_size)].split(';')[0]) # read all the images in the folder\n",
    "                for idx,item in enumerate(img_idx): #  Iterate iver the frames/images of a folder to read them in\n",
    "                    image = imread(source_path+'/'+ t[folder + (batch*batch_size)].strip().split(';')[0]+'/'+imgs[item]).astype(np.float32)\n",
    "                    \n",
    "                    #crop the images and resize them. Note that the images are of 2 different shape \n",
    "                    #and the conv3D will throw error if the inputs in a batch have different shapes\n",
    "                    \n",
    "                    image_resized=imresize(image,(image_height, image_width, channels))\n",
    "                    \n",
    "                    batch_data[folder,idx,:,:,0] = (image_resized[:,:,0])/255\n",
    "                    batch_data[folder,idx,:,:,1] = (image_resized[:,:,1])/255\n",
    "                    batch_data[folder,idx,:,:,2] = (image_resized[:,:,2])/255\n",
    "                    \n",
    "                batch_labels[folder, int(t[folder + (batch*batch_size)].strip().split(';')[2])] = 1\n",
    "            yield batch_data, batch_labels #you yield the batch_data and the batch_labels, remember what does yield do\n",
    "\n",
    "        \n",
    "        # write the code for the remaining data points which are left after full batches\n",
    "        remaining_seq=len(t)%batch_size\n",
    "        \n",
    "        if (remaining_seq != 0):\n",
    "            batch_data = np.zeros((remaining_seq, frames, image_width, image_width, channels))\n",
    "            batch_labels = np.zeros((remaining_seq,5))\n",
    "            \n",
    "            for folder in range(remaining_seq): # iterate over the remaining images\n",
    "                imgs = os.listdir(source_path+'/'+ t[folder + (num_batches*remaining_seq)].split(';')[0]) # read all the images in the folder\n",
    "                for idx,item in enumerate(img_idx): #  Iterate iver the frames/images of a folder to read them in\n",
    "                    image = imread(source_path+'/'+ t[folder + (num_batches*remaining_seq)].strip().split(';')[0]+'/'+imgs[item]).astype(np.float32)\n",
    "                    \n",
    "                    #crop the images and resize them. Note that the images are of 2 different shape \n",
    "                    #and the conv3D will throw error if the inputs in a batch have different shapes\n",
    "                    \n",
    "                    image_resized=imresize(image,(image_height, image_width, channels))\n",
    "                    \n",
    "                    batch_data[folder,idx,:,:,0] = (image_resized[:,:,0])/255\n",
    "                    batch_data[folder,idx,:,:,1] = (image_resized[:,:,1])/255\n",
    "                    batch_data[folder,idx,:,:,2] = (image_resized[:,:,2])/255\n",
    "                    \n",
    "                batch_labels[folder, int(t[folder + (num_batches*remaining_seq)].strip().split(';')[2])] = 1\n",
    "                yield batch_data, batch_labels"
   ]
  },
  {
   "cell_type": "markdown",
   "metadata": {},
   "source": [
    "Note here that a video is represented above in the generator as (number of images, height, width, number of channels). Take this into consideration while creating the model architecture."
   ]
  },
  {
   "cell_type": "code",
   "execution_count": 4,
   "metadata": {},
   "outputs": [],
   "source": [
    "def train_model(dl_model, batch_size=50, num_epochs = 1, frames = 30, image_height=100, image_width=100, channels = 3):\n",
    "    \n",
    "    start = round(timer())\n",
    "    \n",
    "    train_doc = np.random.permutation(open('Project_data/train.csv').readlines())\n",
    "    val_doc = np.random.permutation(open('Project_data/val.csv').readlines())\n",
    "    \n",
    "    curr_dt_time = datetime.datetime.now()\n",
    "    train_path = 'Project_data/train'\n",
    "    val_path = 'Project_data/val'\n",
    "    num_train_sequences = len(train_doc)\n",
    "    print('# training sequences =', num_train_sequences)\n",
    "    num_val_sequences = len(val_doc)\n",
    "    print('# validation sequences =', num_val_sequences)\n",
    "    \n",
    "    print ('# epochs =', num_epochs)\n",
    "\n",
    "    train_generator = generator(train_path, train_doc, batch_size, frames, image_height, image_width, channels)\n",
    "    val_generator = generator(val_path, val_doc, batch_size, frames, image_height, image_width, channels)\n",
    "\n",
    "    model_name = 'model_init' + '_' + str(curr_dt_time).replace(' ','').replace(':','_') + '/'\n",
    "\n",
    "    if not os.path.exists(model_name):\n",
    "        os.mkdir(model_name)\n",
    "\n",
    "    filepath = model_name + 'model-{epoch:05d}-{loss:.5f}-{categorical_accuracy:.5f}-{val_loss:.5f}-{val_categorical_accuracy:.5f}.h5'\n",
    "\n",
    "    checkpoint = ModelCheckpoint(filepath, monitor='val_loss', verbose=1, save_best_only=False, save_weights_only=False, mode='auto', period=1)\n",
    "\n",
    "    #LR = ReduceLROnPlateau(monitor='val_loss', factor=0.5, patience=2, cooldown=1, verbose=1)\n",
    "    LR = ReduceLROnPlateau(monitor='val_loss', factor=0.2, verbose=1, patience=4)\n",
    "    callbacks_list = [checkpoint, LR]\n",
    "\n",
    "    if (num_train_sequences%batch_size) == 0:\n",
    "        steps_per_epoch = int(num_train_sequences/batch_size)\n",
    "    else:\n",
    "        steps_per_epoch = (num_train_sequences//batch_size) + 1\n",
    "\n",
    "    if (num_val_sequences%batch_size) == 0:\n",
    "        validation_steps = int(num_val_sequences/batch_size)\n",
    "    else:\n",
    "        validation_steps = (num_val_sequences//batch_size) + 1\n",
    "\n",
    "    hist = dl_model.fit(train_generator, steps_per_epoch=steps_per_epoch, epochs=num_epochs, verbose=1, \n",
    "                        callbacks=callbacks_list, validation_data=val_generator, \n",
    "                        validation_steps=validation_steps, class_weight=None, workers=1, initial_epoch=0)\n",
    "    \n",
    "    end = round(timer())\n",
    "    time_elapsed = timedelta(seconds=end-start)\n",
    "    print(\"=\" * 100)\n",
    "    print(f\"Time for Training: {time_elapsed}\")\n",
    "    print(\"=\" * 100)\n",
    "    \n",
    "    print(hist)\n",
    "    return hist, time_elapsed"
   ]
  },
  {
   "cell_type": "code",
   "execution_count": 5,
   "metadata": {},
   "outputs": [],
   "source": [
    "import matplotlib.pyplot as plt\n",
    "%matplotlib inline\n",
    "def plot(history):\n",
    "    fig, axes = plt.subplots(nrows=1, ncols=2, figsize=(15,4))\n",
    "    axes[0].plot(history.history['loss'])   \n",
    "    axes[0].plot(history.history['val_loss'])\n",
    "    axes[0].legend(['loss','val_loss'])\n",
    "\n",
    "    axes[1].plot(history.history['categorical_accuracy'])   \n",
    "    axes[1].plot(history.history['val_categorical_accuracy'])\n",
    "    axes[1].legend(['categorical_accuracy','val_categorical_accuracy'])\n",
    "    \n",
    "results = []"
   ]
  },
  {
   "cell_type": "markdown",
   "metadata": {},
   "source": [
    "# Models\n",
    "Here you make the model using different functionalities that Keras provides. Remember to use `Conv3D` and `MaxPooling3D` and not `Conv2D` and `Maxpooling2D` for a 3D convolution model. You would want to use `TimeDistributed` while building a Conv2D + RNN model. Also remember that the last layer is the softmax. Design the network in such a way that the model is able to give good accuracy on the least number of parameters so that it can fit in the memory of the webcam."
   ]
  },
  {
   "cell_type": "markdown",
   "metadata": {},
   "source": [
    "## Test Conv3D Model"
   ]
  },
  {
   "cell_type": "code",
   "execution_count": 6,
   "metadata": {},
   "outputs": [],
   "source": [
    "from keras.models import Sequential, Model\n",
    "from keras.layers import Dense, GRU, Flatten, TimeDistributed, Flatten, BatchNormalization, Activation, Dropout\n",
    "from keras.layers.convolutional import Conv3D, MaxPooling3D\n",
    "from keras.callbacks import ModelCheckpoint, ReduceLROnPlateau\n",
    "from keras import optimizers\n",
    "\n",
    "def create_Conv3D_test_model(filtersize=(3,3,3),dense_neurons=64,dropout=0.25, \n",
    "                        num_classes = 5, frames=30, image_height=100, image_width=100, channels=3):\n",
    "\n",
    "    model = Sequential()\n",
    "    model.add(Conv3D(16, filtersize, padding='same',\n",
    "             input_shape=(frames,image_height,image_width,channels)))\n",
    "    model.add(Activation('relu'))\n",
    "    model.add(BatchNormalization())\n",
    "    model.add(MaxPooling3D(pool_size=(2, 2, 2)))\n",
    "\n",
    "    model.add(Conv3D(32, filtersize, padding='same'))\n",
    "    model.add(Activation('relu'))\n",
    "    model.add(BatchNormalization())\n",
    "    model.add(MaxPooling3D(pool_size=(2, 2, 2)))\n",
    "\n",
    "    model.add(Flatten())\n",
    "    model.add(Dense(dense_neurons,activation='relu'))\n",
    "    model.add(BatchNormalization())\n",
    "    model.add(Dropout(dropout))\n",
    "\n",
    "    model.add(Dense(num_classes,activation='softmax'))\n",
    "\n",
    "    optimiser = optimizers.Adam()\n",
    "    model.compile(optimizer=optimiser, loss='categorical_crossentropy', metrics=['categorical_accuracy'])\n",
    "    return model"
   ]
  },
  {
   "cell_type": "markdown",
   "metadata": {},
   "source": [
    "## Test Model 1 - Batch Size : 10 Image Size: (100 x 100)"
   ]
  },
  {
   "cell_type": "code",
   "execution_count": 7,
   "metadata": {
    "scrolled": false
   },
   "outputs": [
    {
     "name": "stderr",
     "output_type": "stream",
     "text": [
      "WARNING: Logging before flag parsing goes to stderr.\n",
      "W0502 08:55:35.124202 140651016116032 callbacks.py:1071] `period` argument is deprecated. Please use `save_freq` to specify the frequency in number of batches seen.\n"
     ]
    },
    {
     "name": "stdout",
     "output_type": "stream",
     "text": [
      "# training sequences = 663\n",
      "# validation sequences = 100\n",
      "# epochs = 5\n",
      "Source path =  Project_data/train ; batch size = 10\n"
     ]
    },
    {
     "name": "stderr",
     "output_type": "stream",
     "text": [
      "/mnt/disks/user/anaconda3/lib/python3.7/site-packages/ipykernel_launcher.py:13: DeprecationWarning: `imread` is deprecated!\n",
      "`imread` is deprecated in SciPy 1.0.0, and will be removed in 1.2.0.\n",
      "Use ``imageio.imread`` instead.\n",
      "  del sys.path[0]\n",
      "/mnt/disks/user/anaconda3/lib/python3.7/site-packages/ipykernel_launcher.py:18: DeprecationWarning: `imresize` is deprecated!\n",
      "`imresize` is deprecated in SciPy 1.0.0, and will be removed in 1.3.0.\n",
      "Use Pillow instead: ``numpy.array(Image.fromarray(arr).resize())``.\n"
     ]
    },
    {
     "name": "stdout",
     "output_type": "stream",
     "text": [
      "Epoch 1/5\n",
      "65/67 [============================>.] - ETA: 5s - loss: 1.4727 - categorical_accuracy: 0.4123"
     ]
    },
    {
     "name": "stderr",
     "output_type": "stream",
     "text": [
      "/mnt/disks/user/anaconda3/lib/python3.7/site-packages/ipykernel_launcher.py:38: DeprecationWarning: `imread` is deprecated!\n",
      "`imread` is deprecated in SciPy 1.0.0, and will be removed in 1.2.0.\n",
      "Use ``imageio.imread`` instead.\n",
      "/mnt/disks/user/anaconda3/lib/python3.7/site-packages/ipykernel_launcher.py:43: DeprecationWarning: `imresize` is deprecated!\n",
      "`imresize` is deprecated in SciPy 1.0.0, and will be removed in 1.3.0.\n",
      "Use Pillow instead: ``numpy.array(Image.fromarray(arr).resize())``.\n"
     ]
    },
    {
     "name": "stdout",
     "output_type": "stream",
     "text": [
      "67/67 [==============================] - ETA: 0s - loss: 1.4653 - categorical_accuracy: 0.4118Source path =  Project_data/val ; batch size = 10\n",
      "\n",
      "Epoch 00001: saving model to model_init_2021-05-0208_55_35.108623/model-00001-1.46531-0.41176-5.70784-0.26000.h5\n",
      "67/67 [==============================] - 227s 3s/step - loss: 1.4653 - categorical_accuracy: 0.4118 - val_loss: 5.7078 - val_categorical_accuracy: 0.2600 - lr: 0.0010\n",
      "Epoch 2/5\n",
      "67/67 [==============================] - ETA: 0s - loss: 1.0235 - categorical_accuracy: 0.6280\n",
      "Epoch 00002: saving model to model_init_2021-05-0208_55_35.108623/model-00002-1.02347-0.62805-19.01862-0.15000.h5\n",
      "67/67 [==============================] - 93s 1s/step - loss: 1.0235 - categorical_accuracy: 0.6280 - val_loss: 19.0186 - val_categorical_accuracy: 0.1500 - lr: 0.0010\n",
      "Epoch 3/5\n",
      "67/67 [==============================] - ETA: 0s - loss: 0.8562 - categorical_accuracy: 0.7026\n",
      "Epoch 00003: saving model to model_init_2021-05-0208_55_35.108623/model-00003-0.85623-0.70262-36.83412-0.18000.h5\n",
      "67/67 [==============================] - 89s 1s/step - loss: 0.8562 - categorical_accuracy: 0.7026 - val_loss: 36.8341 - val_categorical_accuracy: 0.1800 - lr: 0.0010\n",
      "Epoch 4/5\n",
      "11/67 [===>..........................] - ETA: 41s - loss: 0.9529 - categorical_accuracy: 0.6404"
     ]
    },
    {
     "ename": "KeyboardInterrupt",
     "evalue": "",
     "output_type": "error",
     "traceback": [
      "\u001b[0;31m---------------------------------------------------------------------------\u001b[0m",
      "\u001b[0;31mKeyboardInterrupt\u001b[0m                         Traceback (most recent call last)",
      "\u001b[0;32m<ipython-input-7-c470a7847714>\u001b[0m in \u001b[0;36m<module>\u001b[0;34m\u001b[0m\n\u001b[1;32m     16\u001b[0m \u001b[0;34m\u001b[0m\u001b[0m\n\u001b[1;32m     17\u001b[0m hist, time_elapsed = train_model(dl_model, batch_size=batch_size, num_epochs = num_epochs,\n\u001b[0;32m---> 18\u001b[0;31m                                 frames=frames, image_height=image_height, image_width=image_width, channels=channels)\n\u001b[0m\u001b[1;32m     19\u001b[0m \u001b[0;34m\u001b[0m\u001b[0m\n\u001b[1;32m     20\u001b[0m results.append({'params':(num_classes, frames, image_height, image_width, channels, batch_size),\n",
      "\u001b[0;32m<ipython-input-4-d6ef8747ea88>\u001b[0m in \u001b[0;36mtrain_model\u001b[0;34m(dl_model, batch_size, num_epochs, frames, image_height, image_width, channels)\u001b[0m\n\u001b[1;32m     44\u001b[0m     hist = dl_model.fit(train_generator, steps_per_epoch=steps_per_epoch, epochs=num_epochs, verbose=1, \n\u001b[1;32m     45\u001b[0m                         \u001b[0mcallbacks\u001b[0m\u001b[0;34m=\u001b[0m\u001b[0mcallbacks_list\u001b[0m\u001b[0;34m,\u001b[0m \u001b[0mvalidation_data\u001b[0m\u001b[0;34m=\u001b[0m\u001b[0mval_generator\u001b[0m\u001b[0;34m,\u001b[0m\u001b[0;34m\u001b[0m\u001b[0;34m\u001b[0m\u001b[0m\n\u001b[0;32m---> 46\u001b[0;31m                         validation_steps=validation_steps, class_weight=None, workers=1, initial_epoch=0)\n\u001b[0m\u001b[1;32m     47\u001b[0m \u001b[0;34m\u001b[0m\u001b[0m\n\u001b[1;32m     48\u001b[0m     \u001b[0mend\u001b[0m \u001b[0;34m=\u001b[0m \u001b[0mround\u001b[0m\u001b[0;34m(\u001b[0m\u001b[0mtimer\u001b[0m\u001b[0;34m(\u001b[0m\u001b[0;34m)\u001b[0m\u001b[0;34m)\u001b[0m\u001b[0;34m\u001b[0m\u001b[0;34m\u001b[0m\u001b[0m\n",
      "\u001b[0;32m/mnt/disks/user/anaconda3/lib/python3.7/site-packages/tensorflow/python/keras/engine/training.py\u001b[0m in \u001b[0;36m_method_wrapper\u001b[0;34m(self, *args, **kwargs)\u001b[0m\n\u001b[1;32m     64\u001b[0m   \u001b[0;32mdef\u001b[0m \u001b[0m_method_wrapper\u001b[0m\u001b[0;34m(\u001b[0m\u001b[0mself\u001b[0m\u001b[0;34m,\u001b[0m \u001b[0;34m*\u001b[0m\u001b[0margs\u001b[0m\u001b[0;34m,\u001b[0m \u001b[0;34m**\u001b[0m\u001b[0mkwargs\u001b[0m\u001b[0;34m)\u001b[0m\u001b[0;34m:\u001b[0m\u001b[0;34m\u001b[0m\u001b[0;34m\u001b[0m\u001b[0m\n\u001b[1;32m     65\u001b[0m     \u001b[0;32mif\u001b[0m \u001b[0;32mnot\u001b[0m \u001b[0mself\u001b[0m\u001b[0;34m.\u001b[0m\u001b[0m_in_multi_worker_mode\u001b[0m\u001b[0;34m(\u001b[0m\u001b[0;34m)\u001b[0m\u001b[0;34m:\u001b[0m  \u001b[0;31m# pylint: disable=protected-access\u001b[0m\u001b[0;34m\u001b[0m\u001b[0;34m\u001b[0m\u001b[0m\n\u001b[0;32m---> 66\u001b[0;31m       \u001b[0;32mreturn\u001b[0m \u001b[0mmethod\u001b[0m\u001b[0;34m(\u001b[0m\u001b[0mself\u001b[0m\u001b[0;34m,\u001b[0m \u001b[0;34m*\u001b[0m\u001b[0margs\u001b[0m\u001b[0;34m,\u001b[0m \u001b[0;34m**\u001b[0m\u001b[0mkwargs\u001b[0m\u001b[0;34m)\u001b[0m\u001b[0;34m\u001b[0m\u001b[0;34m\u001b[0m\u001b[0m\n\u001b[0m\u001b[1;32m     67\u001b[0m \u001b[0;34m\u001b[0m\u001b[0m\n\u001b[1;32m     68\u001b[0m     \u001b[0;31m# Running inside `run_distribute_coordinator` already.\u001b[0m\u001b[0;34m\u001b[0m\u001b[0;34m\u001b[0m\u001b[0;34m\u001b[0m\u001b[0m\n",
      "\u001b[0;32m/mnt/disks/user/anaconda3/lib/python3.7/site-packages/tensorflow/python/keras/engine/training.py\u001b[0m in \u001b[0;36mfit\u001b[0;34m(self, x, y, batch_size, epochs, verbose, callbacks, validation_split, validation_data, shuffle, class_weight, sample_weight, initial_epoch, steps_per_epoch, validation_steps, validation_batch_size, validation_freq, max_queue_size, workers, use_multiprocessing)\u001b[0m\n\u001b[1;32m    846\u001b[0m                 batch_size=batch_size):\n\u001b[1;32m    847\u001b[0m               \u001b[0mcallbacks\u001b[0m\u001b[0;34m.\u001b[0m\u001b[0mon_train_batch_begin\u001b[0m\u001b[0;34m(\u001b[0m\u001b[0mstep\u001b[0m\u001b[0;34m)\u001b[0m\u001b[0;34m\u001b[0m\u001b[0;34m\u001b[0m\u001b[0m\n\u001b[0;32m--> 848\u001b[0;31m               \u001b[0mtmp_logs\u001b[0m \u001b[0;34m=\u001b[0m \u001b[0mtrain_function\u001b[0m\u001b[0;34m(\u001b[0m\u001b[0miterator\u001b[0m\u001b[0;34m)\u001b[0m\u001b[0;34m\u001b[0m\u001b[0;34m\u001b[0m\u001b[0m\n\u001b[0m\u001b[1;32m    849\u001b[0m               \u001b[0;31m# Catch OutOfRangeError for Datasets of unknown size.\u001b[0m\u001b[0;34m\u001b[0m\u001b[0;34m\u001b[0m\u001b[0;34m\u001b[0m\u001b[0m\n\u001b[1;32m    850\u001b[0m               \u001b[0;31m# This blocks until the batch has finished executing.\u001b[0m\u001b[0;34m\u001b[0m\u001b[0;34m\u001b[0m\u001b[0;34m\u001b[0m\u001b[0m\n",
      "\u001b[0;32m/mnt/disks/user/anaconda3/lib/python3.7/site-packages/tensorflow/python/eager/def_function.py\u001b[0m in \u001b[0;36m__call__\u001b[0;34m(self, *args, **kwds)\u001b[0m\n\u001b[1;32m    578\u001b[0m         \u001b[0mxla_context\u001b[0m\u001b[0;34m.\u001b[0m\u001b[0mExit\u001b[0m\u001b[0;34m(\u001b[0m\u001b[0;34m)\u001b[0m\u001b[0;34m\u001b[0m\u001b[0;34m\u001b[0m\u001b[0m\n\u001b[1;32m    579\u001b[0m     \u001b[0;32melse\u001b[0m\u001b[0;34m:\u001b[0m\u001b[0;34m\u001b[0m\u001b[0;34m\u001b[0m\u001b[0m\n\u001b[0;32m--> 580\u001b[0;31m       \u001b[0mresult\u001b[0m \u001b[0;34m=\u001b[0m \u001b[0mself\u001b[0m\u001b[0;34m.\u001b[0m\u001b[0m_call\u001b[0m\u001b[0;34m(\u001b[0m\u001b[0;34m*\u001b[0m\u001b[0margs\u001b[0m\u001b[0;34m,\u001b[0m \u001b[0;34m**\u001b[0m\u001b[0mkwds\u001b[0m\u001b[0;34m)\u001b[0m\u001b[0;34m\u001b[0m\u001b[0;34m\u001b[0m\u001b[0m\n\u001b[0m\u001b[1;32m    581\u001b[0m \u001b[0;34m\u001b[0m\u001b[0m\n\u001b[1;32m    582\u001b[0m     \u001b[0;32mif\u001b[0m \u001b[0mtracing_count\u001b[0m \u001b[0;34m==\u001b[0m \u001b[0mself\u001b[0m\u001b[0;34m.\u001b[0m\u001b[0m_get_tracing_count\u001b[0m\u001b[0;34m(\u001b[0m\u001b[0;34m)\u001b[0m\u001b[0;34m:\u001b[0m\u001b[0;34m\u001b[0m\u001b[0;34m\u001b[0m\u001b[0m\n",
      "\u001b[0;32m/mnt/disks/user/anaconda3/lib/python3.7/site-packages/tensorflow/python/eager/def_function.py\u001b[0m in \u001b[0;36m_call\u001b[0;34m(self, *args, **kwds)\u001b[0m\n\u001b[1;32m    609\u001b[0m       \u001b[0;31m# In this case we have created variables on the first call, so we run the\u001b[0m\u001b[0;34m\u001b[0m\u001b[0;34m\u001b[0m\u001b[0;34m\u001b[0m\u001b[0m\n\u001b[1;32m    610\u001b[0m       \u001b[0;31m# defunned version which is guaranteed to never create variables.\u001b[0m\u001b[0;34m\u001b[0m\u001b[0;34m\u001b[0m\u001b[0;34m\u001b[0m\u001b[0m\n\u001b[0;32m--> 611\u001b[0;31m       \u001b[0;32mreturn\u001b[0m \u001b[0mself\u001b[0m\u001b[0;34m.\u001b[0m\u001b[0m_stateless_fn\u001b[0m\u001b[0;34m(\u001b[0m\u001b[0;34m*\u001b[0m\u001b[0margs\u001b[0m\u001b[0;34m,\u001b[0m \u001b[0;34m**\u001b[0m\u001b[0mkwds\u001b[0m\u001b[0;34m)\u001b[0m  \u001b[0;31m# pylint: disable=not-callable\u001b[0m\u001b[0;34m\u001b[0m\u001b[0;34m\u001b[0m\u001b[0m\n\u001b[0m\u001b[1;32m    612\u001b[0m     \u001b[0;32melif\u001b[0m \u001b[0mself\u001b[0m\u001b[0;34m.\u001b[0m\u001b[0m_stateful_fn\u001b[0m \u001b[0;32mis\u001b[0m \u001b[0;32mnot\u001b[0m \u001b[0;32mNone\u001b[0m\u001b[0;34m:\u001b[0m\u001b[0;34m\u001b[0m\u001b[0;34m\u001b[0m\u001b[0m\n\u001b[1;32m    613\u001b[0m       \u001b[0;31m# Release the lock early so that multiple threads can perform the call\u001b[0m\u001b[0;34m\u001b[0m\u001b[0;34m\u001b[0m\u001b[0;34m\u001b[0m\u001b[0m\n",
      "\u001b[0;32m/mnt/disks/user/anaconda3/lib/python3.7/site-packages/tensorflow/python/eager/function.py\u001b[0m in \u001b[0;36m__call__\u001b[0;34m(self, *args, **kwargs)\u001b[0m\n\u001b[1;32m   2418\u001b[0m     \u001b[0;32mwith\u001b[0m \u001b[0mself\u001b[0m\u001b[0;34m.\u001b[0m\u001b[0m_lock\u001b[0m\u001b[0;34m:\u001b[0m\u001b[0;34m\u001b[0m\u001b[0;34m\u001b[0m\u001b[0m\n\u001b[1;32m   2419\u001b[0m       \u001b[0mgraph_function\u001b[0m\u001b[0;34m,\u001b[0m \u001b[0margs\u001b[0m\u001b[0;34m,\u001b[0m \u001b[0mkwargs\u001b[0m \u001b[0;34m=\u001b[0m \u001b[0mself\u001b[0m\u001b[0;34m.\u001b[0m\u001b[0m_maybe_define_function\u001b[0m\u001b[0;34m(\u001b[0m\u001b[0margs\u001b[0m\u001b[0;34m,\u001b[0m \u001b[0mkwargs\u001b[0m\u001b[0;34m)\u001b[0m\u001b[0;34m\u001b[0m\u001b[0;34m\u001b[0m\u001b[0m\n\u001b[0;32m-> 2420\u001b[0;31m     \u001b[0;32mreturn\u001b[0m \u001b[0mgraph_function\u001b[0m\u001b[0;34m.\u001b[0m\u001b[0m_filtered_call\u001b[0m\u001b[0;34m(\u001b[0m\u001b[0margs\u001b[0m\u001b[0;34m,\u001b[0m \u001b[0mkwargs\u001b[0m\u001b[0;34m)\u001b[0m  \u001b[0;31m# pylint: disable=protected-access\u001b[0m\u001b[0;34m\u001b[0m\u001b[0;34m\u001b[0m\u001b[0m\n\u001b[0m\u001b[1;32m   2421\u001b[0m \u001b[0;34m\u001b[0m\u001b[0m\n\u001b[1;32m   2422\u001b[0m   \u001b[0;34m@\u001b[0m\u001b[0mproperty\u001b[0m\u001b[0;34m\u001b[0m\u001b[0;34m\u001b[0m\u001b[0m\n",
      "\u001b[0;32m/mnt/disks/user/anaconda3/lib/python3.7/site-packages/tensorflow/python/eager/function.py\u001b[0m in \u001b[0;36m_filtered_call\u001b[0;34m(self, args, kwargs)\u001b[0m\n\u001b[1;32m   1663\u001b[0m          if isinstance(t, (ops.Tensor,\n\u001b[1;32m   1664\u001b[0m                            resource_variable_ops.BaseResourceVariable))),\n\u001b[0;32m-> 1665\u001b[0;31m         self.captured_inputs)\n\u001b[0m\u001b[1;32m   1666\u001b[0m \u001b[0;34m\u001b[0m\u001b[0m\n\u001b[1;32m   1667\u001b[0m   \u001b[0;32mdef\u001b[0m \u001b[0m_call_flat\u001b[0m\u001b[0;34m(\u001b[0m\u001b[0mself\u001b[0m\u001b[0;34m,\u001b[0m \u001b[0margs\u001b[0m\u001b[0;34m,\u001b[0m \u001b[0mcaptured_inputs\u001b[0m\u001b[0;34m,\u001b[0m \u001b[0mcancellation_manager\u001b[0m\u001b[0;34m=\u001b[0m\u001b[0;32mNone\u001b[0m\u001b[0;34m)\u001b[0m\u001b[0;34m:\u001b[0m\u001b[0;34m\u001b[0m\u001b[0;34m\u001b[0m\u001b[0m\n",
      "\u001b[0;32m/mnt/disks/user/anaconda3/lib/python3.7/site-packages/tensorflow/python/eager/function.py\u001b[0m in \u001b[0;36m_call_flat\u001b[0;34m(self, args, captured_inputs, cancellation_manager)\u001b[0m\n\u001b[1;32m   1744\u001b[0m       \u001b[0;31m# No tape is watching; skip to running the function.\u001b[0m\u001b[0;34m\u001b[0m\u001b[0;34m\u001b[0m\u001b[0;34m\u001b[0m\u001b[0m\n\u001b[1;32m   1745\u001b[0m       return self._build_call_outputs(self._inference_function.call(\n\u001b[0;32m-> 1746\u001b[0;31m           ctx, args, cancellation_manager=cancellation_manager))\n\u001b[0m\u001b[1;32m   1747\u001b[0m     forward_backward = self._select_forward_and_backward_functions(\n\u001b[1;32m   1748\u001b[0m         \u001b[0margs\u001b[0m\u001b[0;34m,\u001b[0m\u001b[0;34m\u001b[0m\u001b[0;34m\u001b[0m\u001b[0m\n",
      "\u001b[0;32m/mnt/disks/user/anaconda3/lib/python3.7/site-packages/tensorflow/python/eager/function.py\u001b[0m in \u001b[0;36mcall\u001b[0;34m(self, ctx, args, cancellation_manager)\u001b[0m\n\u001b[1;32m    596\u001b[0m               \u001b[0minputs\u001b[0m\u001b[0;34m=\u001b[0m\u001b[0margs\u001b[0m\u001b[0;34m,\u001b[0m\u001b[0;34m\u001b[0m\u001b[0;34m\u001b[0m\u001b[0m\n\u001b[1;32m    597\u001b[0m               \u001b[0mattrs\u001b[0m\u001b[0;34m=\u001b[0m\u001b[0mattrs\u001b[0m\u001b[0;34m,\u001b[0m\u001b[0;34m\u001b[0m\u001b[0;34m\u001b[0m\u001b[0m\n\u001b[0;32m--> 598\u001b[0;31m               ctx=ctx)\n\u001b[0m\u001b[1;32m    599\u001b[0m         \u001b[0;32melse\u001b[0m\u001b[0;34m:\u001b[0m\u001b[0;34m\u001b[0m\u001b[0;34m\u001b[0m\u001b[0m\n\u001b[1;32m    600\u001b[0m           outputs = execute.execute_with_cancellation(\n",
      "\u001b[0;32m/mnt/disks/user/anaconda3/lib/python3.7/site-packages/tensorflow/python/eager/execute.py\u001b[0m in \u001b[0;36mquick_execute\u001b[0;34m(op_name, num_outputs, inputs, attrs, ctx, name)\u001b[0m\n\u001b[1;32m     58\u001b[0m     \u001b[0mctx\u001b[0m\u001b[0;34m.\u001b[0m\u001b[0mensure_initialized\u001b[0m\u001b[0;34m(\u001b[0m\u001b[0;34m)\u001b[0m\u001b[0;34m\u001b[0m\u001b[0;34m\u001b[0m\u001b[0m\n\u001b[1;32m     59\u001b[0m     tensors = pywrap_tfe.TFE_Py_Execute(ctx._handle, device_name, op_name,\n\u001b[0;32m---> 60\u001b[0;31m                                         inputs, attrs, num_outputs)\n\u001b[0m\u001b[1;32m     61\u001b[0m   \u001b[0;32mexcept\u001b[0m \u001b[0mcore\u001b[0m\u001b[0;34m.\u001b[0m\u001b[0m_NotOkStatusException\u001b[0m \u001b[0;32mas\u001b[0m \u001b[0me\u001b[0m\u001b[0;34m:\u001b[0m\u001b[0;34m\u001b[0m\u001b[0;34m\u001b[0m\u001b[0m\n\u001b[1;32m     62\u001b[0m     \u001b[0;32mif\u001b[0m \u001b[0mname\u001b[0m \u001b[0;32mis\u001b[0m \u001b[0;32mnot\u001b[0m \u001b[0;32mNone\u001b[0m\u001b[0;34m:\u001b[0m\u001b[0;34m\u001b[0m\u001b[0;34m\u001b[0m\u001b[0m\n",
      "\u001b[0;31mKeyboardInterrupt\u001b[0m: "
     ]
    }
   ],
   "source": [
    "filtersize=(3,3,3)\n",
    "dense_neurons=16\n",
    "dropout=0.25\n",
    "\n",
    "num_classes=5\n",
    "frames=30\n",
    "image_height=100\n",
    "image_width=100\n",
    "channels=3\n",
    "\n",
    "batch_size=10\n",
    "num_epochs = 5\n",
    "\n",
    "dl_model = create_Conv3D_test_model(filtersize, dense_neurons, dropout,\n",
    "                               num_classes, frames, image_height, image_width, channels)\n",
    "\n",
    "hist, time_elapsed = train_model(dl_model, batch_size=batch_size, num_epochs = num_epochs,\n",
    "                                frames=frames, image_height=image_height, image_width=image_width, channels=channels)\n",
    "\n",
    "results.append({'params':(num_classes, frames, image_height, image_width, channels, batch_size),\n",
    "                \"hist\":hist, \n",
    "                \"time_elapsed\":time_elapsed\n",
    "               })"
   ]
  },
  {
   "cell_type": "markdown",
   "metadata": {},
   "source": [
    "## Test Model 2 - Batch Size : 10 Image Size: (160 x 160)"
   ]
  },
  {
   "cell_type": "code",
   "execution_count": 8,
   "metadata": {},
   "outputs": [
    {
     "name": "stderr",
     "output_type": "stream",
     "text": [
      "W0429 15:37:32.139760 139878492301120 callbacks.py:1071] `period` argument is deprecated. Please use `save_freq` to specify the frequency in number of batches seen.\n"
     ]
    },
    {
     "name": "stdout",
     "output_type": "stream",
     "text": [
      "# training sequences = 663\n",
      "# validation sequences = 100\n",
      "# epochs = 1\n",
      "Source path =  Project_data/train ; batch size = 10\n"
     ]
    },
    {
     "name": "stderr",
     "output_type": "stream",
     "text": [
      "/mnt/disks/user/anaconda3/lib/python3.7/site-packages/ipykernel_launcher.py:13: DeprecationWarning: `imread` is deprecated!\n",
      "`imread` is deprecated in SciPy 1.0.0, and will be removed in 1.2.0.\n",
      "Use ``imageio.imread`` instead.\n",
      "  del sys.path[0]\n",
      "/mnt/disks/user/anaconda3/lib/python3.7/site-packages/ipykernel_launcher.py:18: DeprecationWarning: `imresize` is deprecated!\n",
      "`imresize` is deprecated in SciPy 1.0.0, and will be removed in 1.3.0.\n",
      "Use Pillow instead: ``numpy.array(Image.fromarray(arr).resize())``.\n"
     ]
    },
    {
     "name": "stdout",
     "output_type": "stream",
     "text": [
      "67/67 [==============================] - ETA: 0s - loss: 1.4782 - categorical_accuracy: 0.3776 Source path =  Project_data/val ; batch size = 10\n",
      "\n",
      "Epoch 00001: saving model to model_init_2021-04-2915_37_32.138703/model-00001-1.47817-0.37761-4.07185-0.27000.h5\n",
      "67/67 [==============================] - 1725s 26s/step - loss: 1.4782 - categorical_accuracy: 0.3776 - val_loss: 4.0719 - val_categorical_accuracy: 0.2700 - lr: 0.0010\n",
      "====================================================================================================\n",
      "Time for Training: 0:29:14\n",
      "====================================================================================================\n",
      "<tensorflow.python.keras.callbacks.History object at 0x7f3735703828>\n"
     ]
    }
   ],
   "source": [
    "filtersize=(3,3,3)\n",
    "dense_neurons=16\n",
    "dropout=0.25\n",
    "\n",
    "num_classes=5\n",
    "frames=30\n",
    "image_height=160\n",
    "image_width=160\n",
    "channels=3\n",
    "\n",
    "batch_size=10\n",
    "num_epochs = 1\n",
    "\n",
    "dl_model = create_Conv3D_test_model(filtersize, dense_neurons, dropout,\n",
    "                               num_classes, frames, image_height, image_width, channels)\n",
    "\n",
    "hist, time_elapsed = train_model(dl_model, batch_size=batch_size, num_epochs = num_epochs,\n",
    "                                frames=frames, image_height=image_height, image_width=image_width, channels=channels)\n",
    "\n",
    "results.append({'params':(num_classes, frames, image_height, image_width, channels, batch_size),\n",
    "                \"hist\":hist, \n",
    "                \"time_elapsed\":time_elapsed\n",
    "               })"
   ]
  },
  {
   "cell_type": "markdown",
   "metadata": {},
   "source": [
    "## Test Model 3 - Batch Size : 50 Image Size: (100 x 100)"
   ]
  },
  {
   "cell_type": "code",
   "execution_count": 9,
   "metadata": {},
   "outputs": [
    {
     "name": "stderr",
     "output_type": "stream",
     "text": [
      "W0429 16:06:46.438178 139878492301120 callbacks.py:1071] `period` argument is deprecated. Please use `save_freq` to specify the frequency in number of batches seen.\n"
     ]
    },
    {
     "name": "stdout",
     "output_type": "stream",
     "text": [
      "# training sequences = 663\n",
      "# validation sequences = 100\n",
      "# epochs = 1\n",
      "Source path =  Project_data/train ; batch size = 50\n"
     ]
    },
    {
     "name": "stderr",
     "output_type": "stream",
     "text": [
      "/mnt/disks/user/anaconda3/lib/python3.7/site-packages/ipykernel_launcher.py:13: DeprecationWarning: `imread` is deprecated!\n",
      "`imread` is deprecated in SciPy 1.0.0, and will be removed in 1.2.0.\n",
      "Use ``imageio.imread`` instead.\n",
      "  del sys.path[0]\n",
      "/mnt/disks/user/anaconda3/lib/python3.7/site-packages/ipykernel_launcher.py:18: DeprecationWarning: `imresize` is deprecated!\n",
      "`imresize` is deprecated in SciPy 1.0.0, and will be removed in 1.3.0.\n",
      "Use Pillow instead: ``numpy.array(Image.fromarray(arr).resize())``.\n"
     ]
    },
    {
     "name": "stdout",
     "output_type": "stream",
     "text": [
      "14/14 [==============================] - ETA: 0s - loss: 1.5801 - categorical_accuracy: 0.4157 Source path =  Project_data/val ; batch size = 50\n",
      "\n",
      "Epoch 00001: saving model to model_init_2021-04-2916_06_46.436990/model-00001-1.58011-0.41571-2.02008-0.23000.h5\n",
      "14/14 [==============================] - 691s 49s/step - loss: 1.5801 - categorical_accuracy: 0.4157 - val_loss: 2.0201 - val_categorical_accuracy: 0.2300 - lr: 0.0010\n",
      "====================================================================================================\n",
      "Time for Training: 0:12:34\n",
      "====================================================================================================\n",
      "<tensorflow.python.keras.callbacks.History object at 0x7f37343c5358>\n"
     ]
    }
   ],
   "source": [
    "filtersize=(3,3,3)\n",
    "dense_neurons=16\n",
    "dropout=0.25\n",
    "\n",
    "num_classes=5\n",
    "frames=30\n",
    "image_height=100\n",
    "image_width=100\n",
    "channels=3\n",
    "\n",
    "batch_size=50\n",
    "num_epochs = 1\n",
    "\n",
    "dl_model = create_Conv3D_test_model(filtersize, dense_neurons, dropout,\n",
    "                               num_classes, frames, image_height, image_width, channels)\n",
    "\n",
    "hist, time_elapsed = train_model(dl_model, batch_size=batch_size, num_epochs = num_epochs,\n",
    "                                frames=frames, image_height=image_height, image_width=image_width, channels=channels)\n",
    "\n",
    "results.append({'params':(num_classes, frames, image_height, image_width, channels, batch_size),\n",
    "                \"hist\":hist, \n",
    "                \"time_elapsed\":time_elapsed\n",
    "               })"
   ]
  },
  {
   "cell_type": "markdown",
   "metadata": {},
   "source": [
    "## Test Model 4 - Batch Size : 50 Image Size: (160,160)"
   ]
  },
  {
   "cell_type": "code",
   "execution_count": null,
   "metadata": {},
   "outputs": [
    {
     "name": "stderr",
     "output_type": "stream",
     "text": [
      "WARNING: Logging before flag parsing goes to stderr.\n",
      "W0430 04:20:39.589228 140415793997632 callbacks.py:1071] `period` argument is deprecated. Please use `save_freq` to specify the frequency in number of batches seen.\n"
     ]
    },
    {
     "name": "stdout",
     "output_type": "stream",
     "text": [
      "# training sequences = 663\n",
      "# validation sequences = 100\n",
      "# epochs = 1\n",
      "Source path =  Project_data/train ; batch size = 50\n"
     ]
    },
    {
     "name": "stderr",
     "output_type": "stream",
     "text": [
      "/mnt/disks/user/anaconda3/lib/python3.7/site-packages/ipykernel_launcher.py:13: DeprecationWarning: `imread` is deprecated!\n",
      "`imread` is deprecated in SciPy 1.0.0, and will be removed in 1.2.0.\n",
      "Use ``imageio.imread`` instead.\n",
      "  del sys.path[0]\n",
      "/mnt/disks/user/anaconda3/lib/python3.7/site-packages/ipykernel_launcher.py:18: DeprecationWarning: `imresize` is deprecated!\n",
      "`imresize` is deprecated in SciPy 1.0.0, and will be removed in 1.3.0.\n",
      "Use Pillow instead: ``numpy.array(Image.fromarray(arr).resize())``.\n"
     ]
    }
   ],
   "source": [
    "filtersize=(3,3,3)\n",
    "dense_neurons=16\n",
    "dropout=0.25\n",
    "\n",
    "num_classes=5\n",
    "frames=30\n",
    "image_height=160\n",
    "image_width=160\n",
    "channels=3\n",
    "\n",
    "batch_size=50\n",
    "num_epochs = 1\n",
    "\n",
    "dl_model = create_Conv3D_test_model(filtersize, dense_neurons, dropout,\n",
    "                               num_classes, frames, image_height, image_width, channels)\n",
    "\n",
    "hist, time_elapsed = train_model(dl_model, batch_size=batch_size, num_epochs = num_epochs,\n",
    "                                frames=frames, image_height=image_height, image_width=image_width, channels=channels)\n",
    "\n",
    "results.append({'params':(num_classes, frames, image_height, image_width, channels, batch_size),\n",
    "                \"hist\":hist, \n",
    "                \"time_elapsed\":time_elapsed\n",
    "               })"
   ]
  },
  {
   "cell_type": "markdown",
   "metadata": {},
   "source": [
    "## Cov2D-LSTM Model"
   ]
  },
  {
   "cell_type": "code",
   "execution_count": 7,
   "metadata": {},
   "outputs": [],
   "source": [
    "from keras.layers.recurrent import LSTM\n",
    "from keras.layers.convolutional import Conv2D, MaxPooling2D\n",
    "\n",
    "def create_Conv2D_LSTM_model(filtersize=(3,3),dense_neurons=64,dropout=0.25, lstm_cells=64,\n",
    "                        num_classes = 5, frames=30, image_height=100, image_width=100, channels=3):\n",
    "\n",
    "    model = Sequential()\n",
    "\n",
    "    model.add(TimeDistributed(Conv2D(16, (3, 3) , padding='same', activation='relu'),\n",
    "                              input_shape=(frames, image_height, image_width, channels)))\n",
    "    #model.add(TimeDistributed(BatchNormalization()))\n",
    "    model.add(TimeDistributed(MaxPooling2D((2, 2))))\n",
    "\n",
    "    model.add(TimeDistributed(Conv2D(32, (3, 3) , padding='same', activation='relu')))\n",
    "    #model.add(TimeDistributed(BatchNormalization()))\n",
    "    model.add(TimeDistributed(MaxPooling2D((2, 2))))\n",
    "\n",
    "    model.add(TimeDistributed(Conv2D(64, (3, 3) , padding='same', activation='relu')))\n",
    "    #model.add(TimeDistributed(BatchNormalization()))\n",
    "    model.add(TimeDistributed(MaxPooling2D((2, 2))))\n",
    "\n",
    "    model.add(TimeDistributed(Conv2D(128, (3, 3) , padding='same', activation='relu')))\n",
    "    #model.add(TimeDistributed(BatchNormalization()))\n",
    "    model.add(TimeDistributed(MaxPooling2D((2, 2))))\n",
    "\n",
    "    model.add(TimeDistributed(Conv2D(256, (3, 3) , padding='same', activation='relu')))\n",
    "    #model.add(TimeDistributed(BatchNormalization()))\n",
    "    model.add(TimeDistributed(MaxPooling2D((2, 2))))\n",
    "\n",
    "    #model.add(TimeDistributed(Conv2D(512, (2, 2) , padding='valid', activation='relu')))\n",
    "    # model.add(TimeDistributed(BatchNormalization()))\n",
    "    # model.add(TimeDistributed(MaxPooling2D((2, 2))))\n",
    "\n",
    "    model.add(TimeDistributed(Flatten()))\n",
    "\n",
    "\n",
    "    model.add(LSTM(lstm_cells))\n",
    "    model.add(Dropout(dropout))\n",
    "\n",
    "    model.add(Dense(dense_neurons,activation='relu'))\n",
    "    model.add(Dropout(dropout))\n",
    "\n",
    "    model.add(Dense(num_classes, activation='softmax'))\n",
    "    optimiser = optimizers.Adam()\n",
    "    model.compile(optimizer=optimiser, loss='categorical_crossentropy', metrics=['categorical_accuracy'])\n",
    "\n",
    "    print (model.summary())\n",
    "    return model"
   ]
  },
  {
   "cell_type": "code",
   "execution_count": 8,
   "metadata": {
    "scrolled": false
   },
   "outputs": [
    {
     "name": "stderr",
     "output_type": "stream",
     "text": [
      "WARNING: Logging before flag parsing goes to stderr.\n",
      "W0502 15:30:04.807165 140627641685824 callbacks.py:1071] `period` argument is deprecated. Please use `save_freq` to specify the frequency in number of batches seen.\n"
     ]
    },
    {
     "name": "stdout",
     "output_type": "stream",
     "text": [
      "Model: \"sequential\"\n",
      "_________________________________________________________________\n",
      "Layer (type)                 Output Shape              Param #   \n",
      "=================================================================\n",
      "time_distributed (TimeDistri (None, 30, 100, 100, 16)  448       \n",
      "_________________________________________________________________\n",
      "time_distributed_1 (TimeDist (None, 30, 50, 50, 16)    0         \n",
      "_________________________________________________________________\n",
      "time_distributed_2 (TimeDist (None, 30, 50, 50, 32)    4640      \n",
      "_________________________________________________________________\n",
      "time_distributed_3 (TimeDist (None, 30, 25, 25, 32)    0         \n",
      "_________________________________________________________________\n",
      "time_distributed_4 (TimeDist (None, 30, 25, 25, 64)    18496     \n",
      "_________________________________________________________________\n",
      "time_distributed_5 (TimeDist (None, 30, 12, 12, 64)    0         \n",
      "_________________________________________________________________\n",
      "time_distributed_6 (TimeDist (None, 30, 12, 12, 128)   73856     \n",
      "_________________________________________________________________\n",
      "time_distributed_7 (TimeDist (None, 30, 6, 6, 128)     0         \n",
      "_________________________________________________________________\n",
      "time_distributed_8 (TimeDist (None, 30, 6, 6, 256)     295168    \n",
      "_________________________________________________________________\n",
      "time_distributed_9 (TimeDist (None, 30, 3, 3, 256)     0         \n",
      "_________________________________________________________________\n",
      "time_distributed_10 (TimeDis (None, 30, 2304)          0         \n",
      "_________________________________________________________________\n",
      "lstm (LSTM)                  (None, 64)                606464    \n",
      "_________________________________________________________________\n",
      "dropout (Dropout)            (None, 64)                0         \n",
      "_________________________________________________________________\n",
      "dense (Dense)                (None, 32)                2080      \n",
      "_________________________________________________________________\n",
      "dropout_1 (Dropout)          (None, 32)                0         \n",
      "_________________________________________________________________\n",
      "dense_1 (Dense)              (None, 5)                 165       \n",
      "=================================================================\n",
      "Total params: 1,001,317\n",
      "Trainable params: 1,001,317\n",
      "Non-trainable params: 0\n",
      "_________________________________________________________________\n",
      "None\n",
      "# training sequences = 663\n",
      "# validation sequences = 100\n",
      "# epochs = 25\n",
      "Source path =  Project_data/train ; batch size = 50\n"
     ]
    },
    {
     "name": "stderr",
     "output_type": "stream",
     "text": [
      "/mnt/disks/user/anaconda3/lib/python3.7/site-packages/ipykernel_launcher.py:13: DeprecationWarning: `imread` is deprecated!\n",
      "`imread` is deprecated in SciPy 1.0.0, and will be removed in 1.2.0.\n",
      "Use ``imageio.imread`` instead.\n",
      "  del sys.path[0]\n",
      "/mnt/disks/user/anaconda3/lib/python3.7/site-packages/ipykernel_launcher.py:18: DeprecationWarning: `imresize` is deprecated!\n",
      "`imresize` is deprecated in SciPy 1.0.0, and will be removed in 1.3.0.\n",
      "Use Pillow instead: ``numpy.array(Image.fromarray(arr).resize())``.\n"
     ]
    },
    {
     "name": "stdout",
     "output_type": "stream",
     "text": [
      "Epoch 1/25\n",
      "12/14 [========================>.....] - ETA: 26s - loss: 1.6176 - categorical_accuracy: 0.2033"
     ]
    },
    {
     "name": "stderr",
     "output_type": "stream",
     "text": [
      "/mnt/disks/user/anaconda3/lib/python3.7/site-packages/ipykernel_launcher.py:38: DeprecationWarning: `imread` is deprecated!\n",
      "`imread` is deprecated in SciPy 1.0.0, and will be removed in 1.2.0.\n",
      "Use ``imageio.imread`` instead.\n",
      "/mnt/disks/user/anaconda3/lib/python3.7/site-packages/ipykernel_launcher.py:43: DeprecationWarning: `imresize` is deprecated!\n",
      "`imresize` is deprecated in SciPy 1.0.0, and will be removed in 1.3.0.\n",
      "Use Pillow instead: ``numpy.array(Image.fromarray(arr).resize())``.\n"
     ]
    },
    {
     "name": "stdout",
     "output_type": "stream",
     "text": [
      "14/14 [==============================] - ETA: 0s - loss: 1.5869 - categorical_accuracy: 0.2081 Source path =  Project_data/val ; batch size = 50\n",
      "\n",
      "Epoch 00001: saving model to model_init_2021-05-0215_30_04.784986/model-00001-1.58686-0.20814-1.60059-0.23000.h5\n",
      "14/14 [==============================] - 217s 15s/step - loss: 1.5869 - categorical_accuracy: 0.2081 - val_loss: 1.6006 - val_categorical_accuracy: 0.2300 - lr: 0.0010\n",
      "Epoch 2/25\n",
      "14/14 [==============================] - ETA: 0s - loss: 1.1969 - categorical_accuracy: 0.3047\n",
      "Epoch 00002: saving model to model_init_2021-05-0215_30_04.784986/model-00002-1.19694-0.30469-1.60288-0.31000.h5\n",
      "14/14 [==============================] - 37s 3s/step - loss: 1.1969 - categorical_accuracy: 0.3047 - val_loss: 1.6029 - val_categorical_accuracy: 0.3100 - lr: 0.0010\n",
      "Epoch 3/25\n",
      "14/14 [==============================] - ETA: 0s - loss: 1.5175 - categorical_accuracy: 0.2190\n",
      "Epoch 00003: saving model to model_init_2021-05-0215_30_04.784986/model-00003-1.51753-0.21902-1.61090-0.18000.h5\n",
      "14/14 [==============================] - 80s 6s/step - loss: 1.5175 - categorical_accuracy: 0.2190 - val_loss: 1.6109 - val_categorical_accuracy: 0.1800 - lr: 0.0010\n",
      "Epoch 4/25\n",
      "14/14 [==============================] - ETA: 0s - loss: 1.3981 - categorical_accuracy: 0.1758\n",
      "Epoch 00004: saving model to model_init_2021-05-0215_30_04.784986/model-00004-1.39805-0.17576-1.59153-0.20000.h5\n",
      "14/14 [==============================] - 46s 3s/step - loss: 1.3981 - categorical_accuracy: 0.1758 - val_loss: 1.5915 - val_categorical_accuracy: 0.2000 - lr: 0.0010\n",
      "Epoch 5/25\n",
      "14/14 [==============================] - ETA: 0s - loss: 1.4326 - categorical_accuracy: 0.2097\n",
      "Epoch 00005: saving model to model_init_2021-05-0215_30_04.784986/model-00005-1.43261-0.20971-1.56674-0.24000.h5\n",
      "14/14 [==============================] - 68s 5s/step - loss: 1.4326 - categorical_accuracy: 0.2097 - val_loss: 1.5667 - val_categorical_accuracy: 0.2400 - lr: 0.0010\n",
      "Epoch 6/25\n",
      "14/14 [==============================] - ETA: 0s - loss: 1.5684 - categorical_accuracy: 0.2327\n",
      "Epoch 00006: saving model to model_init_2021-05-0215_30_04.784986/model-00006-1.56844-0.23267-1.58662-0.24000.h5\n",
      "14/14 [==============================] - 59s 4s/step - loss: 1.5684 - categorical_accuracy: 0.2327 - val_loss: 1.5866 - val_categorical_accuracy: 0.2400 - lr: 0.0010\n",
      "Epoch 7/25\n",
      "14/14 [==============================] - ETA: 0s - loss: 1.3714 - categorical_accuracy: 0.2290\n",
      "Epoch 00007: saving model to model_init_2021-05-0215_30_04.784986/model-00007-1.37141-0.22902-1.61690-0.25000.h5\n",
      "14/14 [==============================] - 55s 4s/step - loss: 1.3714 - categorical_accuracy: 0.2290 - val_loss: 1.6169 - val_categorical_accuracy: 0.2500 - lr: 0.0010\n",
      "Epoch 8/25\n",
      "14/14 [==============================] - ETA: 0s - loss: 1.5179 - categorical_accuracy: 0.2280\n",
      "Epoch 00008: saving model to model_init_2021-05-0215_30_04.784986/model-00008-1.51786-0.22803-1.47899-0.39000.h5\n",
      "14/14 [==============================] - 69s 5s/step - loss: 1.5179 - categorical_accuracy: 0.2280 - val_loss: 1.4790 - val_categorical_accuracy: 0.3900 - lr: 0.0010\n",
      "Epoch 9/25\n",
      "14/14 [==============================] - ETA: 0s - loss: 1.1912 - categorical_accuracy: 0.2670\n",
      "Epoch 00009: saving model to model_init_2021-05-0215_30_04.784986/model-00009-1.19118-0.26703-1.45899-0.37000.h5\n",
      "14/14 [==============================] - 47s 3s/step - loss: 1.1912 - categorical_accuracy: 0.2670 - val_loss: 1.4590 - val_categorical_accuracy: 0.3700 - lr: 0.0010\n",
      "Epoch 10/25\n",
      "14/14 [==============================] - ETA: 0s - loss: 1.4634 - categorical_accuracy: 0.3333\n",
      "Epoch 00010: saving model to model_init_2021-05-0215_30_04.784986/model-00010-1.46336-0.33333-1.32360-0.44000.h5\n",
      "14/14 [==============================] - 80s 6s/step - loss: 1.4634 - categorical_accuracy: 0.3333 - val_loss: 1.3236 - val_categorical_accuracy: 0.4400 - lr: 0.0010\n",
      "Epoch 11/25\n",
      "14/14 [==============================] - ETA: 0s - loss: 1.0786 - categorical_accuracy: 0.3311\n",
      "Epoch 00011: saving model to model_init_2021-05-0215_30_04.784986/model-00011-1.07864-0.33106-1.39200-0.46000.h5\n",
      "14/14 [==============================] - 35s 2s/step - loss: 1.0786 - categorical_accuracy: 0.3311 - val_loss: 1.3920 - val_categorical_accuracy: 0.4600 - lr: 0.0010\n",
      "Epoch 12/25\n",
      "14/14 [==============================] - ETA: 0s - loss: 1.4850 - categorical_accuracy: 0.2923\n",
      "Epoch 00012: saving model to model_init_2021-05-0215_30_04.784986/model-00012-1.48502-0.29233-1.38162-0.39000.h5\n",
      "14/14 [==============================] - 91s 6s/step - loss: 1.4850 - categorical_accuracy: 0.2923 - val_loss: 1.3816 - val_categorical_accuracy: 0.3900 - lr: 0.0010\n",
      "Epoch 13/25\n",
      "14/14 [==============================] - ETA: 0s - loss: 0.8631 - categorical_accuracy: 0.3014\n",
      "Epoch 00013: saving model to model_init_2021-05-0215_30_04.784986/model-00013-0.86311-0.30137-1.41392-0.27000.h5\n",
      "14/14 [==============================] - 24s 2s/step - loss: 0.8631 - categorical_accuracy: 0.3014 - val_loss: 1.4139 - val_categorical_accuracy: 0.2700 - lr: 0.0010\n",
      "Epoch 14/25\n",
      "14/14 [==============================] - ETA: 0s - loss: 1.4334 - categorical_accuracy: 0.3077\n",
      "Epoch 00014: saving model to model_init_2021-05-0215_30_04.784986/model-00014-1.43344-0.30769-1.27641-0.36000.h5\n",
      "14/14 [==============================] - 89s 6s/step - loss: 1.4334 - categorical_accuracy: 0.3077 - val_loss: 1.2764 - val_categorical_accuracy: 0.3600 - lr: 0.0010\n",
      "Epoch 15/25\n",
      "14/14 [==============================] - ETA: 0s - loss: 1.0041 - categorical_accuracy: 0.3789\n",
      "Epoch 00015: saving model to model_init_2021-05-0215_30_04.784986/model-00015-1.00407-0.37891-1.43440-0.31000.h5\n",
      "14/14 [==============================] - 34s 2s/step - loss: 1.0041 - categorical_accuracy: 0.3789 - val_loss: 1.4344 - val_categorical_accuracy: 0.3100 - lr: 0.0010\n",
      "Epoch 16/25\n",
      "14/14 [==============================] - ETA: 0s - loss: 1.3198 - categorical_accuracy: 0.3548\n",
      "Epoch 00016: saving model to model_init_2021-05-0215_30_04.784986/model-00016-1.31976-0.35484-1.31518-0.40000.h5\n",
      "14/14 [==============================] - 80s 6s/step - loss: 1.3198 - categorical_accuracy: 0.3548 - val_loss: 1.3152 - val_categorical_accuracy: 0.4000 - lr: 0.0010\n",
      "Epoch 17/25\n",
      "14/14 [==============================] - ETA: 0s - loss: 1.2586 - categorical_accuracy: 0.3030\n",
      "Epoch 00017: saving model to model_init_2021-05-0215_30_04.784986/model-00017-1.25863-0.30303-1.28559-0.34000.h5\n",
      "14/14 [==============================] - 45s 3s/step - loss: 1.2586 - categorical_accuracy: 0.3030 - val_loss: 1.2856 - val_categorical_accuracy: 0.3400 - lr: 0.0010\n",
      "Epoch 18/25\n",
      "14/14 [==============================] - ETA: 0s - loss: 1.2957 - categorical_accuracy: 0.2854\n",
      "Epoch 00018: saving model to model_init_2021-05-0215_30_04.784986/model-00018-1.29572-0.28544-1.21674-0.44000.h5\n",
      "14/14 [==============================] - 68s 5s/step - loss: 1.2957 - categorical_accuracy: 0.2854 - val_loss: 1.2167 - val_categorical_accuracy: 0.4400 - lr: 0.0010\n",
      "Epoch 19/25\n",
      "14/14 [==============================] - ETA: 0s - loss: 1.3455 - categorical_accuracy: 0.3267\n",
      "Epoch 00019: saving model to model_init_2021-05-0215_30_04.784986/model-00019-1.34550-0.32673-1.30994-0.38000.h5\n",
      "14/14 [==============================] - 58s 4s/step - loss: 1.3455 - categorical_accuracy: 0.3267 - val_loss: 1.3099 - val_categorical_accuracy: 0.3800 - lr: 0.0010\n",
      "Epoch 20/25\n",
      "14/14 [==============================] - ETA: 0s - loss: 1.2046 - categorical_accuracy: 0.2925\n",
      "Epoch 00020: saving model to model_init_2021-05-0215_30_04.784986/model-00020-1.20459-0.29252-1.28954-0.35000.h5\n",
      "14/14 [==============================] - 57s 4s/step - loss: 1.2046 - categorical_accuracy: 0.2925 - val_loss: 1.2895 - val_categorical_accuracy: 0.3500 - lr: 0.0010\n",
      "Epoch 21/25\n",
      "14/14 [==============================] - ETA: 0s - loss: 1.3845 - categorical_accuracy: 0.3473\n",
      "Epoch 00021: saving model to model_init_2021-05-0215_30_04.784986/model-00021-1.38449-0.34728-1.34140-0.34000.h5\n",
      "14/14 [==============================] - 68s 5s/step - loss: 1.3845 - categorical_accuracy: 0.3473 - val_loss: 1.3414 - val_categorical_accuracy: 0.3400 - lr: 0.0010\n",
      "Epoch 22/25\n",
      "14/14 [==============================] - ETA: 0s - loss: 1.1584 - categorical_accuracy: 0.3079\n",
      "Epoch 00022: saving model to model_init_2021-05-0215_30_04.784986/model-00022-1.15842-0.30790-1.36295-0.44000.h5\n",
      "\n",
      "Epoch 00022: ReduceLROnPlateau reducing learning rate to 0.00020000000949949026.\n",
      "14/14 [==============================] - 46s 3s/step - loss: 1.1584 - categorical_accuracy: 0.3079 - val_loss: 1.3629 - val_categorical_accuracy: 0.4400 - lr: 0.0010\n",
      "Epoch 23/25\n",
      "14/14 [==============================] - ETA: 0s - loss: 1.3835 - categorical_accuracy: 0.3152\n",
      "Epoch 00023: saving model to model_init_2021-05-0215_30_04.784986/model-00023-1.38351-0.31522-1.31741-0.37000.h5\n",
      "14/14 [==============================] - 80s 6s/step - loss: 1.3835 - categorical_accuracy: 0.3152 - val_loss: 1.3174 - val_categorical_accuracy: 0.3700 - lr: 2.0000e-04\n",
      "Epoch 24/25\n",
      "14/14 [==============================] - ETA: 0s - loss: 0.9190 - categorical_accuracy: 0.3345\n",
      "Epoch 00024: saving model to model_init_2021-05-0215_30_04.784986/model-00024-0.91901-0.33447-1.30141-0.46000.h5\n",
      "14/14 [==============================] - 33s 2s/step - loss: 0.9190 - categorical_accuracy: 0.3345 - val_loss: 1.3014 - val_categorical_accuracy: 0.4600 - lr: 2.0000e-04\n",
      "Epoch 25/25\n",
      "14/14 [==============================] - ETA: 0s - loss: 1.3779 - categorical_accuracy: 0.3323\n",
      "Epoch 00025: saving model to model_init_2021-05-0215_30_04.784986/model-00025-1.37791-0.33227-1.28571-0.41000.h5\n",
      "14/14 [==============================] - 92s 7s/step - loss: 1.3779 - categorical_accuracy: 0.3323 - val_loss: 1.2857 - val_categorical_accuracy: 0.4100 - lr: 2.0000e-04\n",
      "====================================================================================================\n",
      "Time for Training: 0:28:25\n",
      "====================================================================================================\n",
      "<tensorflow.python.keras.callbacks.History object at 0x7fe5d01f4ac8>\n"
     ]
    },
    {
     "data": {
      "image/png": "[encoded data removed]",
      "text/plain": [
       "<Figure size 1080x288 with 2 Axes>"
      ]
     },
     "metadata": {
      "needs_background": "light"
     },
     "output_type": "display_data"
    }
   ],
   "source": [
    "filtersize=(3,3)\n",
    "dense_neurons=32\n",
    "dropout=0.25\n",
    "\n",
    "num_classes=5\n",
    "frames=30\n",
    "image_height=100\n",
    "image_width=100\n",
    "channels=3\n",
    "\n",
    "lstm_cells=64\n",
    "\n",
    "batch_size=50\n",
    "num_epochs = 25\n",
    "\n",
    "dl_model = create_Conv2D_LSTM_model(filtersize, dense_neurons, dropout, lstm_cells,\n",
    "                               num_classes, frames, image_height, image_width, channels)\n",
    "\n",
    "hist, time_elapsed = train_model(dl_model, batch_size=batch_size, num_epochs = num_epochs,\n",
    "                                frames=frames, image_height=image_height, image_width=image_width, channels=channels)\n",
    "\n",
    "results.append({'params':(num_classes, frames, image_height, image_width, channels, batch_size),\n",
    "                \"hist\":hist, \n",
    "                \"time_elapsed\":time_elapsed\n",
    "               })\n",
    "\n",
    "plot(hist)"
   ]
  },
  {
   "cell_type": "markdown",
   "metadata": {},
   "source": [
    "## Conv3D Model"
   ]
  },
  {
   "cell_type": "code",
   "execution_count": 10,
   "metadata": {},
   "outputs": [],
   "source": [
    "def create_Conv3D_model(filtersize=(3,3,3),dense_neurons=64,dropout=0.25, \n",
    "                        num_classes = 5, frames=30, image_height=100, image_width=100, channels=3):\n",
    "\n",
    "    model = Sequential()\n",
    "    model.add(Conv3D(16, filtersize, padding='same',\n",
    "             input_shape=(frames,image_height,image_width,channels)))\n",
    "    model.add(Activation('relu'))\n",
    "    #model.add(BatchNormalization())\n",
    "    model.add(MaxPooling3D(pool_size=(2, 2, 2)))\n",
    "\n",
    "    model.add(Conv3D(32, filtersize, padding='same'))\n",
    "    model.add(Activation('relu'))\n",
    "    #model.add(BatchNormalization())\n",
    "    model.add(MaxPooling3D(pool_size=(2, 2, 2)))\n",
    "\n",
    "    model.add(Conv3D(64, filtersize, padding='same'))\n",
    "    model.add(Activation('relu'))\n",
    "    #model.add(BatchNormalization())\n",
    "    model.add(MaxPooling3D(pool_size=(2, 2, 2)))\n",
    "\n",
    "    model.add(Conv3D(128, filtersize, padding='same'))\n",
    "    model.add(Activation('relu'))\n",
    "    #model.add(BatchNormalization())\n",
    "    model.add(MaxPooling3D(pool_size=(2, 2, 2)))\n",
    "\n",
    "    model.add(Flatten())\n",
    "    model.add(Dense(dense_neurons,activation='relu'))\n",
    "    #model.add(BatchNormalization())\n",
    "    model.add(Dropout(dropout))\n",
    "\n",
    "    model.add(Dense(dense_neurons,activation='relu'))\n",
    "    #model.add(BatchNormalization())\n",
    "    model.add(Dropout(dropout))\n",
    "\n",
    "\n",
    "    model.add(Dense(num_classes,activation='softmax'))\n",
    "\n",
    "    optimiser = optimizers.Adam()\n",
    "    model.compile(optimizer=optimiser, loss='categorical_crossentropy', metrics=['categorical_accuracy'])\n",
    "    return model"
   ]
  },
  {
   "cell_type": "markdown",
   "metadata": {},
   "source": [
    "## Model Ver 1 - Conv3D with filtersize (3,3,3)"
   ]
  },
  {
   "cell_type": "code",
   "execution_count": null,
   "metadata": {
    "scrolled": false
   },
   "outputs": [
    {
     "name": "stderr",
     "output_type": "stream",
     "text": [
      "W0502 15:59:41.474117 140627641685824 callbacks.py:1071] `period` argument is deprecated. Please use `save_freq` to specify the frequency in number of batches seen.\n"
     ]
    },
    {
     "name": "stdout",
     "output_type": "stream",
     "text": [
      "# training sequences = 663\n",
      "# validation sequences = 100\n",
      "# epochs = 25\n",
      "Source path =  Project_data/train ; batch size = 40\n"
     ]
    },
    {
     "name": "stderr",
     "output_type": "stream",
     "text": [
      "/mnt/disks/user/anaconda3/lib/python3.7/site-packages/ipykernel_launcher.py:13: DeprecationWarning: `imread` is deprecated!\n",
      "`imread` is deprecated in SciPy 1.0.0, and will be removed in 1.2.0.\n",
      "Use ``imageio.imread`` instead.\n",
      "  del sys.path[0]\n",
      "/mnt/disks/user/anaconda3/lib/python3.7/site-packages/ipykernel_launcher.py:18: DeprecationWarning: `imresize` is deprecated!\n",
      "`imresize` is deprecated in SciPy 1.0.0, and will be removed in 1.3.0.\n",
      "Use Pillow instead: ``numpy.array(Image.fromarray(arr).resize())``.\n"
     ]
    },
    {
     "name": "stdout",
     "output_type": "stream",
     "text": [
      "Epoch 1/25\n",
      "15/17 [=========================>....] - ETA: 17s - loss: 1.6039 - categorical_accuracy: 0.1967"
     ]
    },
    {
     "name": "stderr",
     "output_type": "stream",
     "text": [
      "/mnt/disks/user/anaconda3/lib/python3.7/site-packages/ipykernel_launcher.py:38: DeprecationWarning: `imread` is deprecated!\n",
      "`imread` is deprecated in SciPy 1.0.0, and will be removed in 1.2.0.\n",
      "Use ``imageio.imread`` instead.\n",
      "/mnt/disks/user/anaconda3/lib/python3.7/site-packages/ipykernel_launcher.py:43: DeprecationWarning: `imresize` is deprecated!\n",
      "`imresize` is deprecated in SciPy 1.0.0, and will be removed in 1.3.0.\n",
      "Use Pillow instead: ``numpy.array(Image.fromarray(arr).resize())``.\n"
     ]
    },
    {
     "name": "stdout",
     "output_type": "stream",
     "text": [
      "17/17 [==============================] - ETA: 0s - loss: 1.5479 - categorical_accuracy: 0.1900Source path =  Project_data/val ; batch size = 40\n",
      "\n",
      "Epoch 00001: saving model to model_init_2021-05-0215_59_41.427295/model-00001-1.54789-0.19005-1.20533-0.17000.h5\n",
      "17/17 [==============================] - 161s 9s/step - loss: 1.5479 - categorical_accuracy: 0.1900 - val_loss: 1.2053 - val_categorical_accuracy: 0.1700 - lr: 0.0010\n",
      "Epoch 2/25\n",
      "17/17 [==============================] - ETA: 0s - loss: 0.5287 - categorical_accuracy: 0.1918\n",
      "Epoch 00002: saving model to model_init_2021-05-0215_59_41.427295/model-00002-0.52868-0.19182-0.24763-0.10000.h5\n",
      "17/17 [==============================] - 15s 880ms/step - loss: 0.5287 - categorical_accuracy: 0.1918 - val_loss: 0.2476 - val_categorical_accuracy: 0.1000 - lr: 0.0010\n",
      "Epoch 3/25\n",
      "17/17 [==============================] - ETA: 0s - loss: 1.4347 - categorical_accuracy: 0.3546\n",
      "Epoch 00003: saving model to model_init_2021-05-0215_59_41.427295/model-00003-1.43470-0.35462-0.57987-0.15000.h5\n",
      "17/17 [==============================] - 122s 7s/step - loss: 1.4347 - categorical_accuracy: 0.3546 - val_loss: 0.5799 - val_categorical_accuracy: 0.1500 - lr: 0.0010\n",
      "Epoch 4/25\n",
      "17/17 [==============================] - ETA: 0s - loss: 0.7798 - categorical_accuracy: 0.1808\n",
      "Epoch 00004: saving model to model_init_2021-05-0215_59_41.427295/model-00004-0.77978-0.18083-0.83221-0.33333.h5\n",
      "17/17 [==============================] - 45s 3s/step - loss: 0.7798 - categorical_accuracy: 0.1808 - val_loss: 0.8322 - val_categorical_accuracy: 0.3333 - lr: 0.0010\n",
      "Epoch 5/25\n",
      "17/17 [==============================] - ETA: 0s - loss: 1.2906 - categorical_accuracy: 0.3176\n",
      "Epoch 00005: saving model to model_init_2021-05-0215_59_41.427295/model-00005-1.29062-0.31765-1.20855-0.23333.h5\n",
      "17/17 [==============================] - 65s 4s/step - loss: 1.2906 - categorical_accuracy: 0.3176 - val_loss: 1.2085 - val_categorical_accuracy: 0.2333 - lr: 0.0010\n",
      "Epoch 6/25\n",
      "17/17 [==============================] - ETA: 0s - loss: 1.1015 - categorical_accuracy: 0.2426\n",
      "Epoch 00006: saving model to model_init_2021-05-0215_59_41.427295/model-00006-1.10145-0.24265-1.26239-0.47500.h5\n",
      "\n",
      "Epoch 00006: ReduceLROnPlateau reducing learning rate to 0.00020000000949949026.\n",
      "17/17 [==============================] - 107s 6s/step - loss: 1.1015 - categorical_accuracy: 0.2426 - val_loss: 1.2624 - val_categorical_accuracy: 0.4750 - lr: 0.0010\n",
      "Epoch 7/25\n",
      "17/17 [==============================] - ETA: 0s - loss: 0.9420 - categorical_accuracy: 0.3741\n",
      "Epoch 00007: saving model to model_init_2021-05-0215_59_41.427295/model-00007-0.94196-0.37412-0.05820-0.08333.h5\n",
      "17/17 [==============================] - 33s 2s/step - loss: 0.9420 - categorical_accuracy: 0.3741 - val_loss: 0.0582 - val_categorical_accuracy: 0.0833 - lr: 2.0000e-04\n",
      "Epoch 8/25\n",
      "17/17 [==============================] - ETA: 0s - loss: 1.2750 - categorical_accuracy: 0.3736\n",
      "Epoch 00008: saving model to model_init_2021-05-0215_59_41.427295/model-00008-1.27503-0.37361-0.29335-0.25000.h5\n",
      "17/17 [==============================] - 135s 8s/step - loss: 1.2750 - categorical_accuracy: 0.3736 - val_loss: 0.2933 - val_categorical_accuracy: 0.2500 - lr: 2.0000e-04\n",
      "Epoch 9/25\n",
      "17/17 [==============================] - ETA: 0s - loss: 0.8134 - categorical_accuracy: 0.1790\n",
      "Epoch 00009: saving model to model_init_2021-05-0215_59_41.427295/model-00009-0.81339-0.17903-0.56068-0.33333.h5\n",
      "17/17 [==============================] - 16s 938ms/step - loss: 0.8134 - categorical_accuracy: 0.1790 - val_loss: 0.5607 - val_categorical_accuracy: 0.3333 - lr: 2.0000e-04\n",
      "Epoch 10/25\n",
      "17/17 [==============================] - ETA: 0s - loss: 1.4616 - categorical_accuracy: 0.3434\n",
      "Epoch 00010: saving model to model_init_2021-05-0215_59_41.427295/model-00010-1.46159-0.34340-0.89683-0.35000.h5\n",
      "17/17 [==============================] - 133s 8s/step - loss: 1.4616 - categorical_accuracy: 0.3434 - val_loss: 0.8968 - val_categorical_accuracy: 0.3500 - lr: 2.0000e-04\n",
      "Epoch 11/25\n",
      "17/17 [==============================] - ETA: 0s - loss: 0.6486 - categorical_accuracy: 0.3035\n",
      "Epoch 00011: saving model to model_init_2021-05-0215_59_41.427295/model-00011-0.64856-0.30353-1.07235-0.51667.h5\n",
      "\n",
      "Epoch 00011: ReduceLROnPlateau reducing learning rate to 4.0000001899898055e-05.\n",
      "17/17 [==============================] - 25s 1s/step - loss: 0.6486 - categorical_accuracy: 0.3035 - val_loss: 1.0723 - val_categorical_accuracy: 0.5167 - lr: 2.0000e-04\n",
      "Epoch 12/25\n",
      " 5/17 [=======>......................] - ETA: 8s - loss: 1.1501 - categorical_accuracy: 0.4087"
     ]
    }
   ],
   "source": [
    "filtersize=(3,3,3)\n",
    "dense_neurons=64\n",
    "dropout=0.25\n",
    "\n",
    "num_classes=5\n",
    "frames=20\n",
    "image_height=160\n",
    "image_width=160\n",
    "channels=3\n",
    "\n",
    "batch_size=40\n",
    "num_epochs = 25\n",
    "\n",
    "dl_model = create_Conv3D_model(filtersize, dense_neurons, dropout,\n",
    "                               num_classes, frames, image_height, image_width, channels)\n",
    "\n",
    "hist, time_elapsed = train_model(dl_model, batch_size=batch_size, num_epochs = num_epochs,\n",
    "                                frames=frames, image_height=image_height, image_width=image_width, channels=channels)\n",
    "\n",
    "results.append({'params':(num_classes, frames, image_height, image_width, channels, batch_size),\n",
    "                \"hist\":hist, \n",
    "                \"time_elapsed\":time_elapsed\n",
    "               })\n",
    "\n",
    "plot(hist)"
   ]
  },
  {
   "cell_type": "markdown",
   "metadata": {},
   "source": [
    "## Model Ver 2 - Conv3D with filtersize (2,2,2)"
   ]
  },
  {
   "cell_type": "code",
   "execution_count": 8,
   "metadata": {
    "scrolled": false
   },
   "outputs": [
    {
     "name": "stderr",
     "output_type": "stream",
     "text": [
      "WARNING: Logging before flag parsing goes to stderr.\n",
      "W0430 13:06:16.445255 139833732212544 callbacks.py:1071] `period` argument is deprecated. Please use `save_freq` to specify the frequency in number of batches seen.\n"
     ]
    },
    {
     "name": "stdout",
     "output_type": "stream",
     "text": [
      "# training sequences = 663\n",
      "# validation sequences = 100\n",
      "# epochs = 25\n",
      "Source path =  Project_data/train ; batch size = 50\n"
     ]
    },
    {
     "name": "stderr",
     "output_type": "stream",
     "text": [
      "/mnt/disks/user/anaconda3/lib/python3.7/site-packages/ipykernel_launcher.py:13: DeprecationWarning: `imread` is deprecated!\n",
      "`imread` is deprecated in SciPy 1.0.0, and will be removed in 1.2.0.\n",
      "Use ``imageio.imread`` instead.\n",
      "  del sys.path[0]\n",
      "/mnt/disks/user/anaconda3/lib/python3.7/site-packages/ipykernel_launcher.py:18: DeprecationWarning: `imresize` is deprecated!\n",
      "`imresize` is deprecated in SciPy 1.0.0, and will be removed in 1.3.0.\n",
      "Use Pillow instead: ``numpy.array(Image.fromarray(arr).resize())``.\n"
     ]
    },
    {
     "name": "stdout",
     "output_type": "stream",
     "text": [
      "Epoch 1/25\n",
      "14/14 [==============================] - ETA: 0s - loss: 1.7046 - categorical_accuracy: 0.3800 Source path =  Project_data/val ; batch size = 50\n",
      "\n",
      "Epoch 00001: saving model to model_init_2021-04-3013_06_16.406132/model-00001-1.70457-0.38000-1.72123-0.16000.h5\n",
      "14/14 [==============================] - 225s 16s/step - loss: 1.7046 - categorical_accuracy: 0.3800 - val_loss: 1.7212 - val_categorical_accuracy: 0.1600 - lr: 0.0010\n",
      "Epoch 2/25\n",
      "14/14 [==============================] - ETA: 0s - loss: 0.9903 - categorical_accuracy: 0.6200\n",
      "Epoch 00002: saving model to model_init_2021-04-3013_06_16.406132/model-00002-0.99030-0.62000-2.68622-0.15000.h5\n",
      "14/14 [==============================] - 98s 7s/step - loss: 0.9903 - categorical_accuracy: 0.6200 - val_loss: 2.6862 - val_categorical_accuracy: 0.1500 - lr: 0.0010\n",
      "Epoch 3/25\n",
      "14/14 [==============================] - ETA: 0s - loss: 0.7759 - categorical_accuracy: 0.7071\n",
      "Epoch 00003: saving model to model_init_2021-04-3013_06_16.406132/model-00003-0.77590-0.70714-3.93034-0.16000.h5\n",
      "\n",
      "Epoch 00003: ReduceLROnPlateau reducing learning rate to 0.0005000000237487257.\n",
      "14/14 [==============================] - 98s 7s/step - loss: 0.7759 - categorical_accuracy: 0.7071 - val_loss: 3.9303 - val_categorical_accuracy: 0.1600 - lr: 0.0010\n",
      "Epoch 4/25\n",
      "14/14 [==============================] - ETA: 0s - loss: 0.5645 - categorical_accuracy: 0.7971\n",
      "Epoch 00004: saving model to model_init_2021-04-3013_06_16.406132/model-00004-0.56452-0.79714-5.19967-0.12000.h5\n",
      "14/14 [==============================] - 96s 7s/step - loss: 0.5645 - categorical_accuracy: 0.7971 - val_loss: 5.1997 - val_categorical_accuracy: 0.1200 - lr: 5.0000e-04\n",
      "Epoch 5/25\n",
      "14/14 [==============================] - ETA: 0s - loss: 0.4013 - categorical_accuracy: 0.8771\n",
      "Epoch 00005: saving model to model_init_2021-04-3013_06_16.406132/model-00005-0.40133-0.87714-6.10068-0.16000.h5\n",
      "\n",
      "Epoch 00005: ReduceLROnPlateau reducing learning rate to 0.0002500000118743628.\n",
      "14/14 [==============================] - 95s 7s/step - loss: 0.4013 - categorical_accuracy: 0.8771 - val_loss: 6.1007 - val_categorical_accuracy: 0.1600 - lr: 5.0000e-04\n",
      "Epoch 6/25\n",
      "14/14 [==============================] - ETA: 0s - loss: 0.3363 - categorical_accuracy: 0.9014\n",
      "Epoch 00006: saving model to model_init_2021-04-3013_06_16.406132/model-00006-0.33630-0.90143-6.89826-0.15000.h5\n",
      "14/14 [==============================] - 98s 7s/step - loss: 0.3363 - categorical_accuracy: 0.9014 - val_loss: 6.8983 - val_categorical_accuracy: 0.1500 - lr: 2.5000e-04\n",
      "Epoch 7/25\n",
      "14/14 [==============================] - ETA: 0s - loss: 0.3002 - categorical_accuracy: 0.9271\n",
      "Epoch 00007: saving model to model_init_2021-04-3013_06_16.406132/model-00007-0.30023-0.92714-7.61791-0.16000.h5\n",
      "\n",
      "Epoch 00007: ReduceLROnPlateau reducing learning rate to 0.0001250000059371814.\n",
      "14/14 [==============================] - 98s 7s/step - loss: 0.3002 - categorical_accuracy: 0.9271 - val_loss: 7.6179 - val_categorical_accuracy: 0.1600 - lr: 2.5000e-04\n",
      "Epoch 8/25\n",
      "14/14 [==============================] - ETA: 0s - loss: 0.2636 - categorical_accuracy: 0.9400\n",
      "Epoch 00008: saving model to model_init_2021-04-3013_06_16.406132/model-00008-0.26357-0.94000-8.60641-0.12000.h5\n",
      "14/14 [==============================] - 97s 7s/step - loss: 0.2636 - categorical_accuracy: 0.9400 - val_loss: 8.6064 - val_categorical_accuracy: 0.1200 - lr: 1.2500e-04\n",
      "Epoch 9/25\n",
      "14/14 [==============================] - ETA: 0s - loss: 0.2450 - categorical_accuracy: 0.9457\n",
      "Epoch 00009: saving model to model_init_2021-04-3013_06_16.406132/model-00009-0.24501-0.94571-8.47571-0.16000.h5\n",
      "\n",
      "Epoch 00009: ReduceLROnPlateau reducing learning rate to 6.25000029685907e-05.\n",
      "14/14 [==============================] - 97s 7s/step - loss: 0.2450 - categorical_accuracy: 0.9457 - val_loss: 8.4757 - val_categorical_accuracy: 0.1600 - lr: 1.2500e-04\n",
      "Epoch 10/25\n",
      "14/14 [==============================] - ETA: 0s - loss: 0.2362 - categorical_accuracy: 0.9443\n",
      "Epoch 00010: saving model to model_init_2021-04-3013_06_16.406132/model-00010-0.23618-0.94429-8.31457-0.20000.h5\n",
      "14/14 [==============================] - 95s 7s/step - loss: 0.2362 - categorical_accuracy: 0.9443 - val_loss: 8.3146 - val_categorical_accuracy: 0.2000 - lr: 6.2500e-05\n",
      "Epoch 11/25\n",
      "14/14 [==============================] - ETA: 0s - loss: 0.2252 - categorical_accuracy: 0.9529\n",
      "Epoch 00011: saving model to model_init_2021-04-3013_06_16.406132/model-00011-0.22524-0.95286-8.87522-0.16000.h5\n",
      "\n",
      "Epoch 00011: ReduceLROnPlateau reducing learning rate to 3.125000148429535e-05.\n",
      "14/14 [==============================] - 97s 7s/step - loss: 0.2252 - categorical_accuracy: 0.9529 - val_loss: 8.8752 - val_categorical_accuracy: 0.1600 - lr: 6.2500e-05\n",
      "Epoch 12/25\n",
      "14/14 [==============================] - ETA: 0s - loss: 0.2246 - categorical_accuracy: 0.9486\n",
      "Epoch 00012: saving model to model_init_2021-04-3013_06_16.406132/model-00012-0.22462-0.94857-8.21579-0.20000.h5\n",
      "14/14 [==============================] - 95s 7s/step - loss: 0.2246 - categorical_accuracy: 0.9486 - val_loss: 8.2158 - val_categorical_accuracy: 0.2000 - lr: 3.1250e-05\n",
      "Epoch 13/25\n",
      "14/14 [==============================] - ETA: 0s - loss: 0.2180 - categorical_accuracy: 0.9514\n",
      "Epoch 00013: saving model to model_init_2021-04-3013_06_16.406132/model-00013-0.21804-0.95143-8.74258-0.16000.h5\n",
      "\n",
      "Epoch 00013: ReduceLROnPlateau reducing learning rate to 1.5625000742147677e-05.\n",
      "14/14 [==============================] - 95s 7s/step - loss: 0.2180 - categorical_accuracy: 0.9514 - val_loss: 8.7426 - val_categorical_accuracy: 0.1600 - lr: 3.1250e-05\n",
      "Epoch 14/25\n",
      "14/14 [==============================] - ETA: 0s - loss: 0.2172 - categorical_accuracy: 0.9529\n",
      "Epoch 00014: saving model to model_init_2021-04-3013_06_16.406132/model-00014-0.21716-0.95286-8.51812-0.19000.h5\n",
      "14/14 [==============================] - 93s 7s/step - loss: 0.2172 - categorical_accuracy: 0.9529 - val_loss: 8.5181 - val_categorical_accuracy: 0.1900 - lr: 1.5625e-05\n",
      "Epoch 15/25\n",
      "14/14 [==============================] - ETA: 0s - loss: 0.1998 - categorical_accuracy: 0.9757\n",
      "Epoch 00015: saving model to model_init_2021-04-3013_06_16.406132/model-00015-0.19985-0.97571-8.39724-0.16000.h5\n",
      "\n",
      "Epoch 00015: ReduceLROnPlateau reducing learning rate to 7.812500371073838e-06.\n",
      "14/14 [==============================] - 91s 7s/step - loss: 0.1998 - categorical_accuracy: 0.9757 - val_loss: 8.3972 - val_categorical_accuracy: 0.1600 - lr: 1.5625e-05\n",
      "Epoch 16/25\n",
      "14/14 [==============================] - ETA: 0s - loss: 0.2147 - categorical_accuracy: 0.9557\n",
      "Epoch 00016: saving model to model_init_2021-04-3013_06_16.406132/model-00016-0.21468-0.95571-8.75719-0.11000.h5\n",
      "14/14 [==============================] - 93s 7s/step - loss: 0.2147 - categorical_accuracy: 0.9557 - val_loss: 8.7572 - val_categorical_accuracy: 0.1100 - lr: 7.8125e-06\n",
      "Epoch 17/25\n",
      "14/14 [==============================] - ETA: 0s - loss: 0.2111 - categorical_accuracy: 0.9657\n",
      "Epoch 00017: saving model to model_init_2021-04-3013_06_16.406132/model-00017-0.21111-0.96571-8.11356-0.16000.h5\n",
      "\n",
      "Epoch 00017: ReduceLROnPlateau reducing learning rate to 3.906250185536919e-06.\n",
      "14/14 [==============================] - 95s 7s/step - loss: 0.2111 - categorical_accuracy: 0.9657 - val_loss: 8.1136 - val_categorical_accuracy: 0.1600 - lr: 7.8125e-06\n",
      "Epoch 18/25\n",
      "14/14 [==============================] - ETA: 0s - loss: 0.1935 - categorical_accuracy: 0.9657\n",
      "Epoch 00018: saving model to model_init_2021-04-3013_06_16.406132/model-00018-0.19350-0.96571-8.41626-0.11000.h5\n",
      "14/14 [==============================] - 92s 7s/step - loss: 0.1935 - categorical_accuracy: 0.9657 - val_loss: 8.4163 - val_categorical_accuracy: 0.1100 - lr: 3.9063e-06\n",
      "Epoch 19/25\n",
      "14/14 [==============================] - ETA: 0s - loss: 0.2052 - categorical_accuracy: 0.9614\n",
      "Epoch 00019: saving model to model_init_2021-04-3013_06_16.406132/model-00019-0.20520-0.96143-7.68795-0.16000.h5\n",
      "\n",
      "Epoch 00019: ReduceLROnPlateau reducing learning rate to 1.9531250927684596e-06.\n",
      "14/14 [==============================] - 97s 7s/step - loss: 0.2052 - categorical_accuracy: 0.9614 - val_loss: 7.6880 - val_categorical_accuracy: 0.1600 - lr: 3.9063e-06\n",
      "Epoch 20/25\n",
      "14/14 [==============================] - ETA: 0s - loss: 0.2173 - categorical_accuracy: 0.9600\n",
      "Epoch 00020: saving model to model_init_2021-04-3013_06_16.406132/model-00020-0.21729-0.96000-8.36134-0.10000.h5\n",
      "14/14 [==============================] - 96s 7s/step - loss: 0.2173 - categorical_accuracy: 0.9600 - val_loss: 8.3613 - val_categorical_accuracy: 0.1000 - lr: 1.9531e-06\n",
      "Epoch 21/25\n",
      "14/14 [==============================] - ETA: 0s - loss: 0.2045 - categorical_accuracy: 0.9571\n",
      "Epoch 00021: saving model to model_init_2021-04-3013_06_16.406132/model-00021-0.20450-0.95714-7.20448-0.16000.h5\n",
      "\n",
      "Epoch 00021: ReduceLROnPlateau reducing learning rate to 9.765625463842298e-07.\n",
      "14/14 [==============================] - 95s 7s/step - loss: 0.2045 - categorical_accuracy: 0.9571 - val_loss: 7.2045 - val_categorical_accuracy: 0.1600 - lr: 1.9531e-06\n",
      "Epoch 22/25\n",
      "14/14 [==============================] - ETA: 0s - loss: 0.2030 - categorical_accuracy: 0.9543\n",
      "Epoch 00022: saving model to model_init_2021-04-3013_06_16.406132/model-00022-0.20301-0.95429-7.04249-0.13000.h5\n",
      "14/14 [==============================] - 95s 7s/step - loss: 0.2030 - categorical_accuracy: 0.9543 - val_loss: 7.0425 - val_categorical_accuracy: 0.1300 - lr: 9.7656e-07\n",
      "Epoch 23/25\n",
      "14/14 [==============================] - ETA: 0s - loss: 0.2033 - categorical_accuracy: 0.9600\n",
      "Epoch 00023: saving model to model_init_2021-04-3013_06_16.406132/model-00023-0.20334-0.96000-6.59417-0.16000.h5\n",
      "\n",
      "Epoch 00023: ReduceLROnPlateau reducing learning rate to 4.882812731921149e-07.\n",
      "14/14 [==============================] - 97s 7s/step - loss: 0.2033 - categorical_accuracy: 0.9600 - val_loss: 6.5942 - val_categorical_accuracy: 0.1600 - lr: 9.7656e-07\n",
      "Epoch 24/25\n",
      "14/14 [==============================] - ETA: 0s - loss: 0.1955 - categorical_accuracy: 0.9671\n",
      "Epoch 00024: saving model to model_init_2021-04-3013_06_16.406132/model-00024-0.19553-0.96714-6.46820-0.15000.h5\n",
      "14/14 [==============================] - 96s 7s/step - loss: 0.1955 - categorical_accuracy: 0.9671 - val_loss: 6.4682 - val_categorical_accuracy: 0.1500 - lr: 4.8828e-07\n",
      "Epoch 25/25\n",
      "14/14 [==============================] - ETA: 0s - loss: 0.1896 - categorical_accuracy: 0.9671\n",
      "Epoch 00025: saving model to model_init_2021-04-3013_06_16.406132/model-00025-0.18959-0.96714-5.74543-0.16000.h5\n",
      "\n",
      "Epoch 00025: ReduceLROnPlateau reducing learning rate to 2.4414063659605745e-07.\n",
      "14/14 [==============================] - 95s 7s/step - loss: 0.1896 - categorical_accuracy: 0.9671 - val_loss: 5.7454 - val_categorical_accuracy: 0.1600 - lr: 4.8828e-07\n",
      "====================================================================================================\n",
      "Time for Training: 0:43:00\n",
      "====================================================================================================\n",
      "<tensorflow.python.keras.callbacks.History object at 0x7f2cf04bc8d0>\n"
     ]
    },
    {
     "data": {
      "image/png": "[encoded data removed]",
      "text/plain": [
       "<Figure size 1080x288 with 2 Axes>"
      ]
     },
     "metadata": {
      "needs_background": "light"
     },
     "output_type": "display_data"
    }
   ],
   "source": [
    "filtersize=(2,2,2)\n",
    "dense_neurons=64\n",
    "dropout=0.25\n",
    "\n",
    "num_classes=5\n",
    "frames=30\n",
    "image_height=100\n",
    "image_width=100\n",
    "channels=3\n",
    "\n",
    "lstm_cells=64\n",
    "\n",
    "batch_size=50\n",
    "num_epochs = 25\n",
    "\n",
    "dl_model = create_Conv3D_model(filtersize, dense_neurons, dropout,\n",
    "                               num_classes, frames, image_height, image_width, channels)\n",
    "\n",
    "hist, time_elapsed = train_model(dl_model, batch_size=batch_size, num_epochs = num_epochs,\n",
    "                                frames=frames, image_height=image_height, image_width=image_width, channels=channels)\n",
    "\n",
    "results.append({'params':(num_classes, frames, image_height, image_width, channels, batch_size),\n",
    "                \"hist\":hist, \n",
    "                \"time_elapsed\":time_elapsed\n",
    "               })\n",
    "\n",
    "plot(hist)"
   ]
  },
  {
   "cell_type": "markdown",
   "metadata": {},
   "source": [
    "## Large Conv3D Model"
   ]
  },
  {
   "cell_type": "code",
   "execution_count": 7,
   "metadata": {},
   "outputs": [],
   "source": [
    "def create_Conv3D_large_model(filtersize=(3,3,3),dense_neurons=64,dropout=0.25, \n",
    "                        num_classes = 5, frames=30, image_height=100, image_width=100, channels=3):\n",
    "\n",
    "    model = Sequential()\n",
    "    model.add(Conv3D(16, filtersize, padding='same',\n",
    "             input_shape=(frames,image_height,image_width,channels)))\n",
    "    model.add(Activation('relu'))\n",
    "    #model.add(BatchNormalization())\n",
    "\n",
    "    model.add(Conv3D(16, filtersize, padding='same',\n",
    "             input_shape=(frames,image_height,image_width,channels)))\n",
    "    model.add(Activation('relu'))\n",
    "    #model.add(BatchNormalization())\n",
    "\n",
    "    model.add(MaxPooling3D(pool_size=(2, 2, 2)))\n",
    "\n",
    "    model.add(Conv3D(32, filtersize, padding='same'))\n",
    "    model.add(Activation('relu'))\n",
    "    #model.add(BatchNormalization())\n",
    "\n",
    "    model.add(Conv3D(32, filtersize, padding='same'))\n",
    "    model.add(Activation('relu'))\n",
    "    #model.add(BatchNormalization())\n",
    "\n",
    "    model.add(MaxPooling3D(pool_size=(2, 2, 2)))\n",
    "\n",
    "    model.add(Conv3D(64, filtersize, padding='same'))\n",
    "    model.add(Activation('relu'))\n",
    "    #model.add(BatchNormalization())\n",
    "\n",
    "    model.add(Conv3D(64, filtersize, padding='same'))\n",
    "    model.add(Activation('relu'))\n",
    "    #model.add(BatchNormalization())\n",
    "\n",
    "    model.add(MaxPooling3D(pool_size=(2, 2, 2)))\n",
    "\n",
    "    model.add(Conv3D(128, filtersize, padding='same'))\n",
    "    model.add(Activation('relu'))\n",
    "    #model.add(BatchNormalization())\n",
    "\n",
    "    model.add(Conv3D(128, filtersize, padding='same'))\n",
    "    model.add(Activation('relu'))\n",
    "    #model.add(BatchNormalization())\n",
    "\n",
    "    model.add(MaxPooling3D(pool_size=(2, 2, 2)))\n",
    "\n",
    "\n",
    "    model.add(Flatten())\n",
    "    model.add(Dense(dense_neurons,activation='relu'))\n",
    "    #model.add(BatchNormalization())\n",
    "    model.add(Dropout(dropout))\n",
    "\n",
    "    model.add(Dense(dense_neurons,activation='relu'))\n",
    "    #model.add(BatchNormalization())\n",
    "    model.add(Dropout(dropout))\n",
    "\n",
    "\n",
    "    model.add(Dense(num_classes,activation='softmax'))\n",
    "\n",
    "    optimiser = optimizers.Adam()\n",
    "    model.compile(optimizer=optimiser, loss='categorical_crossentropy', metrics=['categorical_accuracy'])\n",
    "    return model"
   ]
  },
  {
   "cell_type": "markdown",
   "metadata": {},
   "source": [
    "## Model Ver 3 - Large Conv3D with filtersize (3,3,3)"
   ]
  },
  {
   "cell_type": "code",
   "execution_count": 8,
   "metadata": {
    "scrolled": false
   },
   "outputs": [
    {
     "name": "stderr",
     "output_type": "stream",
     "text": [
      "WARNING: Logging before flag parsing goes to stderr.\n",
      "W0502 12:50:10.323363 140650824443712 callbacks.py:1071] `period` argument is deprecated. Please use `save_freq` to specify the frequency in number of batches seen.\n"
     ]
    },
    {
     "name": "stdout",
     "output_type": "stream",
     "text": [
      "# training sequences = 663\n",
      "# validation sequences = 100\n",
      "# epochs = 15\n",
      "Source path =  Project_data/train ; batch size = 20\n"
     ]
    },
    {
     "name": "stderr",
     "output_type": "stream",
     "text": [
      "/mnt/disks/user/anaconda3/lib/python3.7/site-packages/ipykernel_launcher.py:13: DeprecationWarning: `imread` is deprecated!\n",
      "`imread` is deprecated in SciPy 1.0.0, and will be removed in 1.2.0.\n",
      "Use ``imageio.imread`` instead.\n",
      "  del sys.path[0]\n",
      "/mnt/disks/user/anaconda3/lib/python3.7/site-packages/ipykernel_launcher.py:18: DeprecationWarning: `imresize` is deprecated!\n",
      "`imresize` is deprecated in SciPy 1.0.0, and will be removed in 1.3.0.\n",
      "Use Pillow instead: ``numpy.array(Image.fromarray(arr).resize())``.\n"
     ]
    },
    {
     "name": "stdout",
     "output_type": "stream",
     "text": [
      "Epoch 1/15\n",
      "32/34 [===========================>..] - ETA: 9s - loss: 1.6473 - categorical_accuracy: 0.1875 "
     ]
    },
    {
     "name": "stderr",
     "output_type": "stream",
     "text": [
      "/mnt/disks/user/anaconda3/lib/python3.7/site-packages/ipykernel_launcher.py:38: DeprecationWarning: `imread` is deprecated!\n",
      "`imread` is deprecated in SciPy 1.0.0, and will be removed in 1.2.0.\n",
      "Use ``imageio.imread`` instead.\n",
      "/mnt/disks/user/anaconda3/lib/python3.7/site-packages/ipykernel_launcher.py:43: DeprecationWarning: `imresize` is deprecated!\n",
      "`imresize` is deprecated in SciPy 1.0.0, and will be removed in 1.3.0.\n",
      "Use Pillow instead: ``numpy.array(Image.fromarray(arr).resize())``.\n"
     ]
    },
    {
     "name": "stdout",
     "output_type": "stream",
     "text": [
      "34/34 [==============================] - ETA: 0s - loss: 1.6409 - categorical_accuracy: 0.1885Source path =  Project_data/val ; batch size = 20\n",
      "\n",
      "Epoch 00001: saving model to model_init_2021-05-0212_50_10.287045/model-00001-1.64085-0.18854-1.60499-0.23000.h5\n",
      "34/34 [==============================] - 193s 6s/step - loss: 1.6409 - categorical_accuracy: 0.1885 - val_loss: 1.6050 - val_categorical_accuracy: 0.2300 - lr: 0.0010\n",
      "Epoch 2/15\n",
      "34/34 [==============================] - ETA: 0s - loss: 1.6035 - categorical_accuracy: 0.1935\n",
      "Epoch 00002: saving model to model_init_2021-05-0212_50_10.287045/model-00002-1.60351-0.19350-1.57810-0.22000.h5\n",
      "34/34 [==============================] - 96s 3s/step - loss: 1.6035 - categorical_accuracy: 0.1935 - val_loss: 1.5781 - val_categorical_accuracy: 0.2200 - lr: 0.0010\n",
      "Epoch 3/15\n",
      "34/34 [==============================] - ETA: 0s - loss: 1.5878 - categorical_accuracy: 0.2035\n",
      "Epoch 00003: saving model to model_init_2021-05-0212_50_10.287045/model-00003-1.58784-0.20350-1.42874-0.21000.h5\n",
      "34/34 [==============================] - 90s 3s/step - loss: 1.5878 - categorical_accuracy: 0.2035 - val_loss: 1.4287 - val_categorical_accuracy: 0.2100 - lr: 0.0010\n",
      "Epoch 4/15\n",
      "34/34 [==============================] - ETA: 0s - loss: 1.5032 - categorical_accuracy: 0.3068\n",
      "Epoch 00004: saving model to model_init_2021-05-0212_50_10.287045/model-00004-1.50316-0.30684-1.46382-0.36000.h5\n",
      "34/34 [==============================] - 91s 3s/step - loss: 1.5032 - categorical_accuracy: 0.3068 - val_loss: 1.4638 - val_categorical_accuracy: 0.3600 - lr: 0.0010\n",
      "Epoch 5/15\n",
      "34/34 [==============================] - ETA: 0s - loss: 1.5620 - categorical_accuracy: 0.2401\n",
      "Epoch 00005: saving model to model_init_2021-05-0212_50_10.287045/model-00005-1.56200-0.24006-1.38502-0.37000.h5\n",
      "34/34 [==============================] - 90s 3s/step - loss: 1.5620 - categorical_accuracy: 0.2401 - val_loss: 1.3850 - val_categorical_accuracy: 0.3700 - lr: 0.0010\n",
      "Epoch 6/15\n",
      "34/34 [==============================] - ETA: 0s - loss: 1.4994 - categorical_accuracy: 0.3355\n",
      "Epoch 00006: saving model to model_init_2021-05-0212_50_10.287045/model-00006-1.49939-0.33545-1.37321-0.41000.h5\n",
      "34/34 [==============================] - 90s 3s/step - loss: 1.4994 - categorical_accuracy: 0.3355 - val_loss: 1.3732 - val_categorical_accuracy: 0.4100 - lr: 0.0010\n",
      "Epoch 7/15\n",
      "34/34 [==============================] - ETA: 0s - loss: 1.4165 - categorical_accuracy: 0.3307\n",
      "Epoch 00007: saving model to model_init_2021-05-0212_50_10.287045/model-00007-1.41648-0.33068-1.31820-0.36000.h5\n",
      "34/34 [==============================] - 90s 3s/step - loss: 1.4165 - categorical_accuracy: 0.3307 - val_loss: 1.3182 - val_categorical_accuracy: 0.3600 - lr: 0.0010\n",
      "Epoch 8/15\n",
      "34/34 [==============================] - ETA: 0s - loss: 1.4033 - categorical_accuracy: 0.3275\n",
      "Epoch 00008: saving model to model_init_2021-05-0212_50_10.287045/model-00008-1.40327-0.32750-1.56638-0.20000.h5\n",
      "34/34 [==============================] - 89s 3s/step - loss: 1.4033 - categorical_accuracy: 0.3275 - val_loss: 1.5664 - val_categorical_accuracy: 0.2000 - lr: 0.0010\n",
      "Epoch 9/15\n",
      "34/34 [==============================] - ETA: 0s - loss: 1.3256 - categorical_accuracy: 0.3768\n",
      "Epoch 00009: saving model to model_init_2021-05-0212_50_10.287045/model-00009-1.32564-0.37679-1.42865-0.29000.h5\n",
      "34/34 [==============================] - 90s 3s/step - loss: 1.3256 - categorical_accuracy: 0.3768 - val_loss: 1.4286 - val_categorical_accuracy: 0.2900 - lr: 0.0010\n",
      "Epoch 10/15\n",
      "34/34 [==============================] - ETA: 0s - loss: 1.3153 - categorical_accuracy: 0.4038\n",
      "Epoch 00010: saving model to model_init_2021-05-0212_50_10.287045/model-00010-1.31529-0.40382-1.21747-0.47000.h5\n",
      "34/34 [==============================] - 90s 3s/step - loss: 1.3153 - categorical_accuracy: 0.4038 - val_loss: 1.2175 - val_categorical_accuracy: 0.4700 - lr: 0.0010\n",
      "Epoch 11/15\n",
      "34/34 [==============================] - ETA: 0s - loss: 1.2642 - categorical_accuracy: 0.4293\n",
      "Epoch 00011: saving model to model_init_2021-05-0212_50_10.287045/model-00011-1.26418-0.42925-1.21816-0.46000.h5\n",
      "34/34 [==============================] - 90s 3s/step - loss: 1.2642 - categorical_accuracy: 0.4293 - val_loss: 1.2182 - val_categorical_accuracy: 0.4600 - lr: 0.0010\n",
      "Epoch 12/15\n",
      "34/34 [==============================] - ETA: 0s - loss: 1.2280 - categorical_accuracy: 0.4245\n",
      "Epoch 00012: saving model to model_init_2021-05-0212_50_10.287045/model-00012-1.22803-0.42448-1.27556-0.48000.h5\n",
      "34/34 [==============================] - 90s 3s/step - loss: 1.2280 - categorical_accuracy: 0.4245 - val_loss: 1.2756 - val_categorical_accuracy: 0.4800 - lr: 0.0010\n",
      "Epoch 13/15\n",
      "34/34 [==============================] - ETA: 0s - loss: 1.1137 - categorical_accuracy: 0.5008\n",
      "Epoch 00013: saving model to model_init_2021-05-0212_50_10.287045/model-00013-1.11367-0.50079-1.10852-0.44000.h5\n",
      "34/34 [==============================] - 90s 3s/step - loss: 1.1137 - categorical_accuracy: 0.5008 - val_loss: 1.1085 - val_categorical_accuracy: 0.4400 - lr: 0.0010\n",
      "Epoch 14/15\n",
      "34/34 [==============================] - ETA: 0s - loss: 1.1023 - categorical_accuracy: 0.5326\n",
      "Epoch 00014: saving model to model_init_2021-05-0212_50_10.287045/model-00014-1.10235-0.53259-1.30957-0.49000.h5\n",
      "34/34 [==============================] - 90s 3s/step - loss: 1.1023 - categorical_accuracy: 0.5326 - val_loss: 1.3096 - val_categorical_accuracy: 0.4900 - lr: 0.0010\n",
      "Epoch 15/15\n",
      "34/34 [==============================] - ETA: 0s - loss: 1.1724 - categorical_accuracy: 0.4944\n",
      "Epoch 00015: saving model to model_init_2021-05-0212_50_10.287045/model-00015-1.17237-0.49444-1.29013-0.33000.h5\n",
      "34/34 [==============================] - 89s 3s/step - loss: 1.1724 - categorical_accuracy: 0.4944 - val_loss: 1.2901 - val_categorical_accuracy: 0.3300 - lr: 0.0010\n",
      "====================================================================================================\n",
      "Time for Training: 0:25:24\n",
      "====================================================================================================\n",
      "<tensorflow.python.keras.callbacks.History object at 0x7feb30577ac8>\n"
     ]
    },
    {
     "data": {
      "image/png": "[encoded data removed]",
      "text/plain": [
       "<Figure size 1080x288 with 2 Axes>"
      ]
     },
     "metadata": {
      "needs_background": "light"
     },
     "output_type": "display_data"
    }
   ],
   "source": [
    "filtersize=(3,3,3)\n",
    "dense_neurons=64\n",
    "dropout=0.25\n",
    "\n",
    "num_classes=5\n",
    "frames=20\n",
    "image_height=160\n",
    "image_width=160\n",
    "channels=3\n",
    "\n",
    "batch_size=20\n",
    "num_epochs = 15\n",
    "\n",
    "dl_model = create_Conv3D_large_model(filtersize, dense_neurons, dropout,\n",
    "                               num_classes, frames, image_height, image_width, channels)\n",
    "\n",
    "hist, time_elapsed = train_model(dl_model, batch_size=batch_size, num_epochs = num_epochs,\n",
    "                                frames=frames, image_height=image_height, image_width=image_width, channels=channels)\n",
    "\n",
    "results.append({'params':(num_classes, frames, image_height, image_width, channels, batch_size),\n",
    "                \"hist\":hist, \n",
    "                \"time_elapsed\":time_elapsed\n",
    "               })\n",
    "\n",
    "plot(hist)"
   ]
  },
  {
   "cell_type": "markdown",
   "metadata": {},
   "source": [
    "## Model Ver 4 - Large Conv3D with filtersize (2,2,2)"
   ]
  },
  {
   "cell_type": "code",
   "execution_count": null,
   "metadata": {
    "scrolled": false
   },
   "outputs": [
    {
     "name": "stderr",
     "output_type": "stream",
     "text": [
      "W0502 13:40:50.611897 140650824443712 callbacks.py:1071] `period` argument is deprecated. Please use `save_freq` to specify the frequency in number of batches seen.\n"
     ]
    },
    {
     "name": "stdout",
     "output_type": "stream",
     "text": [
      "# training sequences = 663\n",
      "# validation sequences = 100\n",
      "# epochs = 25\n",
      "Source path =  Project_data/train ; batch size = 30\n"
     ]
    },
    {
     "name": "stderr",
     "output_type": "stream",
     "text": [
      "/mnt/disks/user/anaconda3/lib/python3.7/site-packages/ipykernel_launcher.py:13: DeprecationWarning: `imread` is deprecated!\n",
      "`imread` is deprecated in SciPy 1.0.0, and will be removed in 1.2.0.\n",
      "Use ``imageio.imread`` instead.\n",
      "  del sys.path[0]\n",
      "/mnt/disks/user/anaconda3/lib/python3.7/site-packages/ipykernel_launcher.py:18: DeprecationWarning: `imresize` is deprecated!\n",
      "`imresize` is deprecated in SciPy 1.0.0, and will be removed in 1.3.0.\n",
      "Use Pillow instead: ``numpy.array(Image.fromarray(arr).resize())``.\n"
     ]
    },
    {
     "name": "stdout",
     "output_type": "stream",
     "text": [
      "Epoch 1/25\n",
      "21/23 [==========================>...] - ETA: 15s - loss: 1.6110 - categorical_accuracy: 0.1905"
     ]
    },
    {
     "name": "stderr",
     "output_type": "stream",
     "text": [
      "/mnt/disks/user/anaconda3/lib/python3.7/site-packages/ipykernel_launcher.py:38: DeprecationWarning: `imread` is deprecated!\n",
      "`imread` is deprecated in SciPy 1.0.0, and will be removed in 1.2.0.\n",
      "Use ``imageio.imread`` instead.\n",
      "/mnt/disks/user/anaconda3/lib/python3.7/site-packages/ipykernel_launcher.py:43: DeprecationWarning: `imresize` is deprecated!\n",
      "`imresize` is deprecated in SciPy 1.0.0, and will be removed in 1.3.0.\n",
      "Use Pillow instead: ``numpy.array(Image.fromarray(arr).resize())``.\n"
     ]
    },
    {
     "name": "stdout",
     "output_type": "stream",
     "text": [
      "23/23 [==============================] - ETA: 0s - loss: 1.6059 - categorical_accuracy: 0.1870Source path =  Project_data/val ; batch size = 30\n",
      "\n",
      "Epoch 00001: saving model to model_init_2021-05-0213_40_50.582024/model-00001-1.60590-0.18703-1.42827-0.21000.h5\n",
      "23/23 [==============================] - 221s 10s/step - loss: 1.6059 - categorical_accuracy: 0.1870 - val_loss: 1.4283 - val_categorical_accuracy: 0.2100 - lr: 0.0010\n",
      "Epoch 2/25\n",
      "23/23 [==============================] - ETA: 0s - loss: 1.6325 - categorical_accuracy: 0.2201\n",
      "Epoch 00002: saving model to model_init_2021-05-0213_40_50.582024/model-00002-1.63254-0.22013-0.72452-0.05000.h5\n",
      "23/23 [==============================] - 219s 10s/step - loss: 1.6325 - categorical_accuracy: 0.2201 - val_loss: 0.7245 - val_categorical_accuracy: 0.0500 - lr: 0.0010\n",
      "Epoch 3/25\n",
      "23/23 [==============================] - ETA: 0s - loss: 1.6011 - categorical_accuracy: 0.1905\n",
      "Epoch 00003: saving model to model_init_2021-05-0213_40_50.582024/model-00003-1.60107-0.19048-1.52516-0.23333.h5\n",
      "23/23 [==============================] - 202s 9s/step - loss: 1.6011 - categorical_accuracy: 0.1905 - val_loss: 1.5252 - val_categorical_accuracy: 0.2333 - lr: 0.0010\n",
      "Epoch 4/25\n",
      "23/23 [==============================] - ETA: 0s - loss: 1.6014 - categorical_accuracy: 0.1921\n",
      "Epoch 00004: saving model to model_init_2021-05-0213_40_50.582024/model-00004-1.60138-0.19212-0.96400-0.18333.h5\n",
      "23/23 [==============================] - 210s 9s/step - loss: 1.6014 - categorical_accuracy: 0.1921 - val_loss: 0.9640 - val_categorical_accuracy: 0.1833 - lr: 0.0010\n",
      "Epoch 5/25\n",
      "23/23 [==============================] - ETA: 0s - loss: 1.6020 - categorical_accuracy: 0.2217\n",
      "Epoch 00005: saving model to model_init_2021-05-0213_40_50.582024/model-00005-1.60197-0.22167-1.04617-0.10000.h5\n",
      "23/23 [==============================] - 196s 9s/step - loss: 1.6020 - categorical_accuracy: 0.2217 - val_loss: 1.0462 - val_categorical_accuracy: 0.1000 - lr: 0.0010\n",
      "Epoch 6/25\n",
      "23/23 [==============================] - ETA: 0s - loss: 1.6007 - categorical_accuracy: 0.2184"
     ]
    }
   ],
   "source": [
    "filtersize=(3,3,3)\n",
    "dense_neurons=64\n",
    "dropout=0.25\n",
    "\n",
    "num_classes=5\n",
    "frames=30\n",
    "image_height=160\n",
    "image_width=160\n",
    "channels=3\n",
    "\n",
    "batch_size=30\n",
    "num_epochs = 25\n",
    "\n",
    "dl_model = create_Conv3D_large_model(filtersize, dense_neurons, dropout,\n",
    "                               num_classes, frames, image_height, image_width, channels)\n",
    "\n",
    "hist, time_elapsed = train_model(dl_model, batch_size=batch_size, num_epochs = num_epochs,\n",
    "                                frames=frames, image_height=image_height, image_width=image_width, channels=channels)\n",
    "\n",
    "results.append({'params':(num_classes, frames, image_height, image_width, channels, batch_size),\n",
    "                \"hist\":hist, \n",
    "                \"time_elapsed\":time_elapsed\n",
    "               })\n",
    "\n",
    "plot(hist)"
   ]
  },
  {
   "cell_type": "markdown",
   "metadata": {},
   "source": [
    "## Large Conv3D Model with Dropout (in Conv Layer)"
   ]
  },
  {
   "cell_type": "code",
   "execution_count": 7,
   "metadata": {},
   "outputs": [],
   "source": [
    "def create_Conv3D_large_dropout_model(filtersize=(3,3,3),dense_neurons=64,dropout=0.25, \n",
    "                        num_classes = 5, frames=30, image_height=100, image_width=100, channels=3):\n",
    "\n",
    "    model = Sequential()\n",
    "    model.add(Conv3D(16, filtersize, padding='same',\n",
    "             input_shape=(frames,image_height,image_width,channels)))\n",
    "    model.add(Activation('relu'))\n",
    "    model.add(BatchNormalization())\n",
    "\n",
    "    model.add(Conv3D(16, filtersize, padding='same',\n",
    "             input_shape=(frames,image_height,image_width,channels)))\n",
    "    model.add(Activation('relu'))\n",
    "    model.add(BatchNormalization())\n",
    "\n",
    "    model.add(MaxPooling3D(pool_size=(2, 2, 2)))\n",
    "    model.add(Dropout(dropout))\n",
    "\n",
    "    model.add(Conv3D(32, filtersize, padding='same'))\n",
    "    model.add(Activation('relu'))\n",
    "    model.add(BatchNormalization())\n",
    "\n",
    "    model.add(Conv3D(32, filtersize, padding='same'))\n",
    "    model.add(Activation('relu'))\n",
    "    model.add(BatchNormalization())\n",
    "\n",
    "    model.add(MaxPooling3D(pool_size=(2, 2, 2)))\n",
    "    model.add(Dropout(dropout))\n",
    "\n",
    "    model.add(Conv3D(64, filtersize, padding='same'))\n",
    "    model.add(Activation('relu'))\n",
    "    model.add(BatchNormalization())\n",
    "\n",
    "    model.add(Conv3D(64, filtersize, padding='same'))\n",
    "    model.add(Activation('relu'))\n",
    "    model.add(BatchNormalization())\n",
    "\n",
    "    model.add(MaxPooling3D(pool_size=(2, 2, 2)))\n",
    "    model.add(Dropout(dropout))\n",
    "\n",
    "    model.add(Conv3D(128, filtersize, padding='same'))\n",
    "    model.add(Activation('relu'))\n",
    "    model.add(BatchNormalization())\n",
    "\n",
    "    model.add(Conv3D(128, filtersize, padding='same'))\n",
    "    model.add(Activation('relu'))\n",
    "    model.add(BatchNormalization())\n",
    "\n",
    "    model.add(MaxPooling3D(pool_size=(2, 2, 2)))\n",
    "    model.add(Dropout(dropout))\n",
    "\n",
    "    model.add(Flatten())\n",
    "    model.add(Dense(dense_neurons,activation='relu'))\n",
    "    model.add(BatchNormalization())\n",
    "    model.add(Dropout(dropout))\n",
    "\n",
    "    model.add(Dense(dense_neurons,activation='relu'))\n",
    "    model.add(BatchNormalization())\n",
    "    model.add(Dropout(dropout))\n",
    "\n",
    "\n",
    "    model.add(Dense(num_classes,activation='softmax'))\n",
    "\n",
    "    optimiser = optimizers.Adam()\n",
    "    model.compile(optimizer=optimiser, loss='categorical_crossentropy', metrics=['categorical_accuracy'])\n",
    "    return model"
   ]
  },
  {
   "cell_type": "markdown",
   "metadata": {},
   "source": [
    "## Model Ver 5 - Large Conv3D (Dropout) with filtersize (3,3,3)"
   ]
  },
  {
   "cell_type": "code",
   "execution_count": 8,
   "metadata": {
    "scrolled": false
   },
   "outputs": [
    {
     "name": "stderr",
     "output_type": "stream",
     "text": [
      "WARNING: Logging before flag parsing goes to stderr.\n",
      "W0501 07:18:23.757009 140211332187968 callbacks.py:1071] `period` argument is deprecated. Please use `save_freq` to specify the frequency in number of batches seen.\n"
     ]
    },
    {
     "name": "stdout",
     "output_type": "stream",
     "text": [
      "# training sequences = 663\n",
      "# validation sequences = 100\n",
      "# epochs = 25\n",
      "Source path =  Project_data/train ; batch size = 50\n"
     ]
    },
    {
     "name": "stderr",
     "output_type": "stream",
     "text": [
      "/mnt/disks/user/anaconda3/lib/python3.7/site-packages/ipykernel_launcher.py:13: DeprecationWarning: `imread` is deprecated!\n",
      "`imread` is deprecated in SciPy 1.0.0, and will be removed in 1.2.0.\n",
      "Use ``imageio.imread`` instead.\n",
      "  del sys.path[0]\n",
      "/mnt/disks/user/anaconda3/lib/python3.7/site-packages/ipykernel_launcher.py:18: DeprecationWarning: `imresize` is deprecated!\n",
      "`imresize` is deprecated in SciPy 1.0.0, and will be removed in 1.3.0.\n",
      "Use Pillow instead: ``numpy.array(Image.fromarray(arr).resize())``.\n"
     ]
    },
    {
     "name": "stdout",
     "output_type": "stream",
     "text": [
      "Epoch 1/25\n",
      "14/14 [==============================] - ETA: 0s - loss: 1.8442 - categorical_accuracy: 0.3057 Source path =  Project_data/val ; batch size = 50\n",
      "\n",
      "Epoch 00001: saving model to model_init_2021-05-0107_18_23.714012/model-00001-1.84417-0.30571-1.63050-0.23000.h5\n",
      "14/14 [==============================] - 216s 15s/step - loss: 1.8442 - categorical_accuracy: 0.3057 - val_loss: 1.6305 - val_categorical_accuracy: 0.2300 - lr: 0.0010\n",
      "Epoch 2/25\n",
      "14/14 [==============================] - ETA: 0s - loss: 1.4024 - categorical_accuracy: 0.4329\n",
      "Epoch 00002: saving model to model_init_2021-05-0107_18_23.714012/model-00002-1.40243-0.43286-2.32082-0.25000.h5\n",
      "14/14 [==============================] - 97s 7s/step - loss: 1.4024 - categorical_accuracy: 0.4329 - val_loss: 2.3208 - val_categorical_accuracy: 0.2500 - lr: 0.0010\n",
      "Epoch 3/25\n",
      "14/14 [==============================] - ETA: 0s - loss: 1.1234 - categorical_accuracy: 0.5186\n",
      "Epoch 00003: saving model to model_init_2021-05-0107_18_23.714012/model-00003-1.12340-0.51857-3.18294-0.21000.h5\n",
      "\n",
      "Epoch 00003: ReduceLROnPlateau reducing learning rate to 0.0005000000237487257.\n",
      "14/14 [==============================] - 98s 7s/step - loss: 1.1234 - categorical_accuracy: 0.5186 - val_loss: 3.1829 - val_categorical_accuracy: 0.2100 - lr: 0.0010\n",
      "Epoch 4/25\n",
      "14/14 [==============================] - ETA: 0s - loss: 1.0462 - categorical_accuracy: 0.5800\n",
      "Epoch 00004: saving model to model_init_2021-05-0107_18_23.714012/model-00004-1.04615-0.58000-3.90685-0.22000.h5\n",
      "14/14 [==============================] - 96s 7s/step - loss: 1.0462 - categorical_accuracy: 0.5800 - val_loss: 3.9069 - val_categorical_accuracy: 0.2200 - lr: 5.0000e-04\n",
      "Epoch 5/25\n",
      "14/14 [==============================] - ETA: 0s - loss: 0.9367 - categorical_accuracy: 0.6257\n",
      "Epoch 00005: saving model to model_init_2021-05-0107_18_23.714012/model-00005-0.93671-0.62571-4.21299-0.21000.h5\n",
      "\n",
      "Epoch 00005: ReduceLROnPlateau reducing learning rate to 0.0002500000118743628.\n",
      "14/14 [==============================] - 96s 7s/step - loss: 0.9367 - categorical_accuracy: 0.6257 - val_loss: 4.2130 - val_categorical_accuracy: 0.2100 - lr: 5.0000e-04\n",
      "Epoch 6/25\n",
      "14/14 [==============================] - ETA: 0s - loss: 0.8169 - categorical_accuracy: 0.6814\n",
      "Epoch 00006: saving model to model_init_2021-05-0107_18_23.714012/model-00006-0.81687-0.68143-4.28056-0.21000.h5\n",
      "14/14 [==============================] - 97s 7s/step - loss: 0.8169 - categorical_accuracy: 0.6814 - val_loss: 4.2806 - val_categorical_accuracy: 0.2100 - lr: 2.5000e-04\n",
      "Epoch 7/25\n",
      "14/14 [==============================] - ETA: 0s - loss: 0.7802 - categorical_accuracy: 0.6914\n",
      "Epoch 00007: saving model to model_init_2021-05-0107_18_23.714012/model-00007-0.78021-0.69143-4.70650-0.21000.h5\n",
      "\n",
      "Epoch 00007: ReduceLROnPlateau reducing learning rate to 0.0001250000059371814.\n",
      "14/14 [==============================] - 97s 7s/step - loss: 0.7802 - categorical_accuracy: 0.6914 - val_loss: 4.7065 - val_categorical_accuracy: 0.2100 - lr: 2.5000e-04\n",
      "Epoch 8/25\n",
      "14/14 [==============================] - ETA: 0s - loss: 0.8027 - categorical_accuracy: 0.6943\n",
      "Epoch 00008: saving model to model_init_2021-05-0107_18_23.714012/model-00008-0.80266-0.69429-5.35390-0.19000.h5\n",
      "14/14 [==============================] - 96s 7s/step - loss: 0.8027 - categorical_accuracy: 0.6943 - val_loss: 5.3539 - val_categorical_accuracy: 0.1900 - lr: 1.2500e-04\n",
      "Epoch 9/25\n",
      "14/14 [==============================] - ETA: 0s - loss: 0.7320 - categorical_accuracy: 0.7171\n",
      "Epoch 00009: saving model to model_init_2021-05-0107_18_23.714012/model-00009-0.73198-0.71714-4.98661-0.21000.h5\n",
      "\n",
      "Epoch 00009: ReduceLROnPlateau reducing learning rate to 6.25000029685907e-05.\n",
      "14/14 [==============================] - 97s 7s/step - loss: 0.7320 - categorical_accuracy: 0.7171 - val_loss: 4.9866 - val_categorical_accuracy: 0.2100 - lr: 1.2500e-04\n",
      "Epoch 10/25\n",
      "14/14 [==============================] - ETA: 0s - loss: 0.6776 - categorical_accuracy: 0.7357\n",
      "Epoch 00010: saving model to model_init_2021-05-0107_18_23.714012/model-00010-0.67756-0.73571-4.83567-0.20000.h5\n",
      "14/14 [==============================] - 95s 7s/step - loss: 0.6776 - categorical_accuracy: 0.7357 - val_loss: 4.8357 - val_categorical_accuracy: 0.2000 - lr: 6.2500e-05\n",
      "Epoch 11/25\n",
      "14/14 [==============================] - ETA: 0s - loss: 0.6446 - categorical_accuracy: 0.7714\n",
      "Epoch 00011: saving model to model_init_2021-05-0107_18_23.714012/model-00011-0.64459-0.77143-5.29750-0.21000.h5\n",
      "\n",
      "Epoch 00011: ReduceLROnPlateau reducing learning rate to 3.125000148429535e-05.\n",
      "14/14 [==============================] - 98s 7s/step - loss: 0.6446 - categorical_accuracy: 0.7714 - val_loss: 5.2975 - val_categorical_accuracy: 0.2100 - lr: 6.2500e-05\n",
      "Epoch 12/25\n",
      "14/14 [==============================] - ETA: 0s - loss: 0.6078 - categorical_accuracy: 0.7786\n",
      "Epoch 00012: saving model to model_init_2021-05-0107_18_23.714012/model-00012-0.60777-0.77857-4.93105-0.23000.h5\n",
      "14/14 [==============================] - 96s 7s/step - loss: 0.6078 - categorical_accuracy: 0.7786 - val_loss: 4.9311 - val_categorical_accuracy: 0.2300 - lr: 3.1250e-05\n",
      "Epoch 13/25\n",
      "14/14 [==============================] - ETA: 0s - loss: 0.6398 - categorical_accuracy: 0.7800\n",
      "Epoch 00013: saving model to model_init_2021-05-0107_18_23.714012/model-00013-0.63984-0.78000-5.65507-0.21000.h5\n",
      "\n",
      "Epoch 00013: ReduceLROnPlateau reducing learning rate to 1.5625000742147677e-05.\n",
      "14/14 [==============================] - 97s 7s/step - loss: 0.6398 - categorical_accuracy: 0.7800 - val_loss: 5.6551 - val_categorical_accuracy: 0.2100 - lr: 3.1250e-05\n",
      "Epoch 14/25\n",
      "14/14 [==============================] - ETA: 0s - loss: 0.6765 - categorical_accuracy: 0.7514\n",
      "Epoch 00014: saving model to model_init_2021-05-0107_18_23.714012/model-00014-0.67655-0.75143-6.00582-0.16000.h5\n",
      "14/14 [==============================] - 96s 7s/step - loss: 0.6765 - categorical_accuracy: 0.7514 - val_loss: 6.0058 - val_categorical_accuracy: 0.1600 - lr: 1.5625e-05\n",
      "Epoch 15/25\n",
      "14/14 [==============================] - ETA: 0s - loss: 0.6304 - categorical_accuracy: 0.7571\n",
      "Epoch 00015: saving model to model_init_2021-05-0107_18_23.714012/model-00015-0.63039-0.75714-5.84539-0.21000.h5\n",
      "\n",
      "Epoch 00015: ReduceLROnPlateau reducing learning rate to 7.812500371073838e-06.\n",
      "14/14 [==============================] - 95s 7s/step - loss: 0.6304 - categorical_accuracy: 0.7571 - val_loss: 5.8454 - val_categorical_accuracy: 0.2100 - lr: 1.5625e-05\n",
      "Epoch 16/25\n",
      "14/14 [==============================] - ETA: 0s - loss: 0.6634 - categorical_accuracy: 0.7557\n",
      "Epoch 00016: saving model to model_init_2021-05-0107_18_23.714012/model-00016-0.66337-0.75571-6.15077-0.23000.h5\n",
      "14/14 [==============================] - 97s 7s/step - loss: 0.6634 - categorical_accuracy: 0.7557 - val_loss: 6.1508 - val_categorical_accuracy: 0.2300 - lr: 7.8125e-06\n",
      "Epoch 17/25\n",
      "14/14 [==============================] - ETA: 0s - loss: 0.6293 - categorical_accuracy: 0.7514\n",
      "Epoch 00017: saving model to model_init_2021-05-0107_18_23.714012/model-00017-0.62933-0.75143-6.04144-0.20000.h5\n",
      "\n",
      "Epoch 00017: ReduceLROnPlateau reducing learning rate to 3.906250185536919e-06.\n",
      "14/14 [==============================] - 97s 7s/step - loss: 0.6293 - categorical_accuracy: 0.7514 - val_loss: 6.0414 - val_categorical_accuracy: 0.2000 - lr: 7.8125e-06\n",
      "Epoch 18/25\n",
      "14/14 [==============================] - ETA: 0s - loss: 0.6004 - categorical_accuracy: 0.7814\n",
      "Epoch 00018: saving model to model_init_2021-05-0107_18_23.714012/model-00018-0.60045-0.78143-6.39961-0.19000.h5\n",
      "14/14 [==============================] - 95s 7s/step - loss: 0.6004 - categorical_accuracy: 0.7814 - val_loss: 6.3996 - val_categorical_accuracy: 0.1900 - lr: 3.9063e-06\n",
      "Epoch 19/25\n",
      "14/14 [==============================] - ETA: 0s - loss: 0.6252 - categorical_accuracy: 0.7700\n",
      "Epoch 00019: saving model to model_init_2021-05-0107_18_23.714012/model-00019-0.62523-0.77000-6.13295-0.20000.h5\n",
      "\n",
      "Epoch 00019: ReduceLROnPlateau reducing learning rate to 1.9531250927684596e-06.\n",
      "14/14 [==============================] - 97s 7s/step - loss: 0.6252 - categorical_accuracy: 0.7700 - val_loss: 6.1329 - val_categorical_accuracy: 0.2000 - lr: 3.9063e-06\n",
      "Epoch 20/25\n",
      "14/14 [==============================] - ETA: 0s - loss: 0.6221 - categorical_accuracy: 0.7743\n",
      "Epoch 00020: saving model to model_init_2021-05-0107_18_23.714012/model-00020-0.62213-0.77429-7.10864-0.16000.h5\n",
      "14/14 [==============================] - 96s 7s/step - loss: 0.6221 - categorical_accuracy: 0.7743 - val_loss: 7.1086 - val_categorical_accuracy: 0.1600 - lr: 1.9531e-06\n",
      "Epoch 21/25\n",
      "14/14 [==============================] - ETA: 0s - loss: 0.5891 - categorical_accuracy: 0.7914\n",
      "Epoch 00021: saving model to model_init_2021-05-0107_18_23.714012/model-00021-0.58910-0.79143-6.20262-0.21000.h5\n",
      "\n",
      "Epoch 00021: ReduceLROnPlateau reducing learning rate to 9.765625463842298e-07.\n",
      "14/14 [==============================] - 96s 7s/step - loss: 0.5891 - categorical_accuracy: 0.7914 - val_loss: 6.2026 - val_categorical_accuracy: 0.2100 - lr: 1.9531e-06\n",
      "Epoch 22/25\n",
      "14/14 [==============================] - ETA: 0s - loss: 0.5950 - categorical_accuracy: 0.7871\n",
      "Epoch 00022: saving model to model_init_2021-05-0107_18_23.714012/model-00022-0.59497-0.78714-6.43842-0.22000.h5\n",
      "14/14 [==============================] - 97s 7s/step - loss: 0.5950 - categorical_accuracy: 0.7871 - val_loss: 6.4384 - val_categorical_accuracy: 0.2200 - lr: 9.7656e-07\n",
      "Epoch 23/25\n",
      "14/14 [==============================] - ETA: 0s - loss: 0.6550 - categorical_accuracy: 0.7471\n",
      "Epoch 00023: saving model to model_init_2021-05-0107_18_23.714012/model-00023-0.65500-0.74714-6.21120-0.20000.h5\n",
      "\n",
      "Epoch 00023: ReduceLROnPlateau reducing learning rate to 4.882812731921149e-07.\n",
      "14/14 [==============================] - 96s 7s/step - loss: 0.6550 - categorical_accuracy: 0.7471 - val_loss: 6.2112 - val_categorical_accuracy: 0.2000 - lr: 9.7656e-07\n",
      "Epoch 24/25\n",
      "14/14 [==============================] - ETA: 0s - loss: 0.6040 - categorical_accuracy: 0.7700\n",
      "Epoch 00024: saving model to model_init_2021-05-0107_18_23.714012/model-00024-0.60398-0.77000-6.40395-0.21000.h5\n",
      "14/14 [==============================] - 96s 7s/step - loss: 0.6040 - categorical_accuracy: 0.7700 - val_loss: 6.4040 - val_categorical_accuracy: 0.2100 - lr: 4.8828e-07\n",
      "Epoch 25/25\n",
      "14/14 [==============================] - ETA: 0s - loss: 0.6517 - categorical_accuracy: 0.7471\n",
      "Epoch 00025: saving model to model_init_2021-05-0107_18_23.714012/model-00025-0.65172-0.74714-6.16596-0.20000.h5\n",
      "\n",
      "Epoch 00025: ReduceLROnPlateau reducing learning rate to 2.4414063659605745e-07.\n",
      "14/14 [==============================] - 100s 7s/step - loss: 0.6517 - categorical_accuracy: 0.7471 - val_loss: 6.1660 - val_categorical_accuracy: 0.2000 - lr: 4.8828e-07\n",
      "====================================================================================================\n",
      "Time for Training: 0:44:35\n",
      "====================================================================================================\n",
      "<tensorflow.python.keras.callbacks.History object at 0x7f84cc0a41d0>\n"
     ]
    },
    {
     "data": {
      "image/png": "[encoded data removed]",
      "text/plain": [
       "<Figure size 1080x288 with 2 Axes>"
      ]
     },
     "metadata": {
      "needs_background": "light"
     },
     "output_type": "display_data"
    }
   ],
   "source": [
    "filtersize=(3,3,3)\n",
    "dense_neurons=64\n",
    "dropout=0.25\n",
    "\n",
    "num_classes=5\n",
    "frames=30\n",
    "image_height=100\n",
    "image_width=100\n",
    "channels=3\n",
    "\n",
    "batch_size=50\n",
    "num_epochs = 25\n",
    "\n",
    "dl_model = create_Conv3D_large_dropout_model(filtersize, dense_neurons, dropout,\n",
    "                               num_classes, frames, image_height, image_width, channels)\n",
    "\n",
    "hist, time_elapsed = train_model(dl_model, batch_size=batch_size, num_epochs = num_epochs,\n",
    "                                frames=frames, image_height=image_height, image_width=image_width, channels=channels)\n",
    "\n",
    "results.append({'params':(num_classes, frames, image_height, image_width, channels, batch_size),\n",
    "                \"hist\":hist, \n",
    "                \"time_elapsed\":time_elapsed\n",
    "               })\n",
    "\n",
    "plot(hist)"
   ]
  },
  {
   "cell_type": "markdown",
   "metadata": {},
   "source": [
    "## Model Ver 6 - Large Conv3D (Dropout) with filtersize (2,2,2)"
   ]
  },
  {
   "cell_type": "code",
   "execution_count": null,
   "metadata": {},
   "outputs": [],
   "source": [
    "filtersize=(2,2,2)\n",
    "dense_neurons=64\n",
    "dropout=0.25\n",
    "\n",
    "num_classes=5\n",
    "frames=30\n",
    "image_height=100\n",
    "image_width=100\n",
    "channels=3\n",
    "\n",
    "batch_size=50\n",
    "num_epochs = 25\n",
    "\n",
    "dl_model = create_Conv3D_large_dropout_model(filtersize, dense_neurons, dropout,\n",
    "                               num_classes, frames, image_height, image_width, channels)\n",
    "\n",
    "hist, time_elapsed = train_model(dl_model, batch_size=batch_size, num_epochs = num_epochs,\n",
    "                                frames=frames, image_height=image_height, image_width=image_width, channels=channels)\n",
    "\n",
    "results.append({'params':(num_classes, frames, image_height, image_width, channels, batch_size),\n",
    "                \"hist\":hist, \n",
    "                \"time_elapsed\":time_elapsed\n",
    "               })\n",
    "\n",
    "plot(hist)"
   ]
  },
  {
   "cell_type": "markdown",
   "metadata": {},
   "source": [
    "## Conv3D Model with Reduced Parameters 1"
   ]
  },
  {
   "cell_type": "code",
   "execution_count": 9,
   "metadata": {},
   "outputs": [],
   "source": [
    "def create_Conv3D_small_model(filtersize=(3,3,3),dense_neurons=64,dropout=0.25, \n",
    "                        num_classes = 5, frames=30, image_height=100, image_width=100, channels=3):\n",
    "\n",
    "    model = Sequential()\n",
    "    model.add(Conv3D(16, (3, 3, 3), padding='same',\n",
    "             input_shape=(frames,image_height,image_width,channels)))\n",
    "    model.add(Activation('relu'))\n",
    "    model.add(BatchNormalization())\n",
    "    model.add(MaxPooling3D(pool_size=(2, 2, 2)))\n",
    "\n",
    "    model.add(Conv3D(32, (3, 3, 3), padding='same'))\n",
    "    model.add(Activation('relu'))\n",
    "    model.add(BatchNormalization())\n",
    "    model.add(MaxPooling3D(pool_size=(2, 2, 2)))\n",
    "\n",
    "    model.add(Conv3D(64, (2, 2, 2), padding='same'))\n",
    "    model.add(Activation('relu'))\n",
    "    model.add(BatchNormalization())\n",
    "    model.add(MaxPooling3D(pool_size=(2, 2, 2)))\n",
    "\n",
    "    model.add(Conv3D(128, (2, 2, 2), padding='same'))\n",
    "    model.add(Activation('relu'))\n",
    "    model.add(BatchNormalization())\n",
    "    model.add(MaxPooling3D(pool_size=(2, 2, 2)))\n",
    "\n",
    "    model.add(Flatten())\n",
    "    model.add(Dense(dense_neurons,activation='relu'))\n",
    "    model.add(BatchNormalization())\n",
    "    model.add(Dropout(dropout))\n",
    "\n",
    "    model.add(Dense(dense_neurons,activation='relu'))\n",
    "    model.add(BatchNormalization())\n",
    "    model.add(Dropout(dropout))\n",
    "\n",
    "    model.add(Dense(num_classes,activation='softmax'))\n",
    "\n",
    "    optimiser = optimizers.Adam(lr=0.0002)\n",
    "    model.compile(optimizer=optimiser, loss='categorical_crossentropy', metrics=['categorical_accuracy'])\n",
    "    return model"
   ]
  },
  {
   "cell_type": "markdown",
   "metadata": {},
   "source": [
    "## Model Ver 7 - Conv3D (Reduced Parameters 1) with filtersize (3,3,3)"
   ]
  },
  {
   "cell_type": "code",
   "execution_count": null,
   "metadata": {},
   "outputs": [
    {
     "name": "stderr",
     "output_type": "stream",
     "text": [
      "WARNING: Logging before flag parsing goes to stderr.\n",
      "W0501 14:09:50.161470 140052999092032 callbacks.py:1071] `period` argument is deprecated. Please use `save_freq` to specify the frequency in number of batches seen.\n"
     ]
    },
    {
     "name": "stdout",
     "output_type": "stream",
     "text": [
      "# training sequences = 663\n",
      "# validation sequences = 100\n",
      "# epochs = 25\n",
      "Source path =  Project_data/train ; batch size = 50\n"
     ]
    },
    {
     "name": "stderr",
     "output_type": "stream",
     "text": [
      "/mnt/disks/user/anaconda3/lib/python3.7/site-packages/ipykernel_launcher.py:13: DeprecationWarning: `imread` is deprecated!\n",
      "`imread` is deprecated in SciPy 1.0.0, and will be removed in 1.2.0.\n",
      "Use ``imageio.imread`` instead.\n",
      "  del sys.path[0]\n",
      "/mnt/disks/user/anaconda3/lib/python3.7/site-packages/ipykernel_launcher.py:18: DeprecationWarning: `imresize` is deprecated!\n",
      "`imresize` is deprecated in SciPy 1.0.0, and will be removed in 1.3.0.\n",
      "Use Pillow instead: ``numpy.array(Image.fromarray(arr).resize())``.\n"
     ]
    },
    {
     "name": "stdout",
     "output_type": "stream",
     "text": [
      "Epoch 1/25\n",
      "12/14 [========================>.....] - ETA: 1:36 - loss: 1.9492 - categorical_accuracy: 0.2750"
     ]
    },
    {
     "name": "stderr",
     "output_type": "stream",
     "text": [
      "/mnt/disks/user/anaconda3/lib/python3.7/site-packages/ipykernel_launcher.py:38: DeprecationWarning: `imread` is deprecated!\n",
      "`imread` is deprecated in SciPy 1.0.0, and will be removed in 1.2.0.\n",
      "Use ``imageio.imread`` instead.\n",
      "/mnt/disks/user/anaconda3/lib/python3.7/site-packages/ipykernel_launcher.py:43: DeprecationWarning: `imresize` is deprecated!\n",
      "`imresize` is deprecated in SciPy 1.0.0, and will be removed in 1.3.0.\n",
      "Use Pillow instead: ``numpy.array(Image.fromarray(arr).resize())``.\n"
     ]
    },
    {
     "name": "stdout",
     "output_type": "stream",
     "text": [
      "14/14 [==============================] - ETA: 0s - loss: 1.9035 - categorical_accuracy: 0.2836 Source path =  Project_data/val ; batch size = 50\n",
      "\n",
      "Epoch 00001: saving model to model_init_2021-05-0114_09_50.148908/model-00001-1.90346-0.28356-1.61036-0.21000.h5\n",
      "14/14 [==============================] - 692s 49s/step - loss: 1.9035 - categorical_accuracy: 0.2836 - val_loss: 1.6104 - val_categorical_accuracy: 0.2100 - lr: 2.0000e-04\n",
      "Epoch 2/25\n",
      "14/14 [==============================] - ETA: 0s - loss: 0.8577 - categorical_accuracy: 0.3867 \n",
      "Epoch 00002: saving model to model_init_2021-05-0114_09_50.148908/model-00002-0.85766-0.38672-1.62880-0.26000.h5\n",
      "14/14 [==============================] - 277s 20s/step - loss: 0.8577 - categorical_accuracy: 0.3867 - val_loss: 1.6288 - val_categorical_accuracy: 0.2600 - lr: 2.0000e-04\n",
      "Epoch 3/25\n",
      "14/14 [==============================] - ETA: 0s - loss: 1.3117 - categorical_accuracy: 0.4312 \n",
      "Epoch 00003: saving model to model_init_2021-05-0114_09_50.148908/model-00003-1.31165-0.43124-1.66333-0.19000.h5\n",
      "\n",
      "Epoch 00003: ReduceLROnPlateau reducing learning rate to 9.999999747378752e-05.\n",
      "14/14 [==============================] - 596s 43s/step - loss: 1.3117 - categorical_accuracy: 0.4312 - val_loss: 1.6633 - val_categorical_accuracy: 0.1900 - lr: 2.0000e-04\n",
      "Epoch 4/25\n",
      "14/14 [==============================] - ETA: 0s - loss: 1.0871 - categorical_accuracy: 0.4576 \n",
      "Epoch 00004: saving model to model_init_2021-05-0114_09_50.148908/model-00004-1.08713-0.45758-1.77609-0.18000.h5\n",
      "14/14 [==============================] - 361s 26s/step - loss: 1.0871 - categorical_accuracy: 0.4576 - val_loss: 1.7761 - val_categorical_accuracy: 0.1800 - lr: 1.0000e-04\n",
      "Epoch 5/25\n",
      "14/14 [==============================] - ETA: 0s - loss: 1.2167 - categorical_accuracy: 0.4660 \n",
      "Epoch 00005: saving model to model_init_2021-05-0114_09_50.148908/model-00005-1.21668-0.46602-1.80328-0.21000.h5\n",
      "\n",
      "Epoch 00005: ReduceLROnPlateau reducing learning rate to 4.999999873689376e-05.\n",
      "14/14 [==============================] - 518s 37s/step - loss: 1.2167 - categorical_accuracy: 0.4660 - val_loss: 1.8033 - val_categorical_accuracy: 0.2100 - lr: 1.0000e-04\n",
      "Epoch 6/25\n",
      "14/14 [==============================] - ETA: 0s - loss: 1.0298 - categorical_accuracy: 0.5322 \n",
      "Epoch 00006: saving model to model_init_2021-05-0114_09_50.148908/model-00006-1.02980-0.53218-1.93576-0.18000.h5\n",
      "14/14 [==============================] - 442s 32s/step - loss: 1.0298 - categorical_accuracy: 0.5322 - val_loss: 1.9358 - val_categorical_accuracy: 0.1800 - lr: 5.0000e-05\n",
      "Epoch 7/25\n",
      "14/14 [==============================] - ETA: 0s - loss: 1.0406 - categorical_accuracy: 0.4807 \n",
      "Epoch 00007: saving model to model_init_2021-05-0114_09_50.148908/model-00007-1.04064-0.48073-1.95735-0.21000.h5\n",
      "\n",
      "Epoch 00007: ReduceLROnPlateau reducing learning rate to 2.499999936844688e-05.\n",
      "14/14 [==============================] - 438s 31s/step - loss: 1.0406 - categorical_accuracy: 0.4807 - val_loss: 1.9573 - val_categorical_accuracy: 0.2100 - lr: 5.0000e-05\n",
      "Epoch 8/25\n",
      "14/14 [==============================] - ETA: 0s - loss: 1.0040 - categorical_accuracy: 0.5753 \n",
      "Epoch 00008: saving model to model_init_2021-05-0114_09_50.148908/model-00008-1.00403-0.57531-2.09543-0.23000.h5\n",
      "14/14 [==============================] - 524s 37s/step - loss: 1.0040 - categorical_accuracy: 0.5753 - val_loss: 2.0954 - val_categorical_accuracy: 0.2300 - lr: 2.5000e-05\n",
      "Epoch 9/25\n",
      "14/14 [==============================] - ETA: 0s - loss: 0.8743 - categorical_accuracy: 0.4986 \n",
      "Epoch 00009: saving model to model_init_2021-05-0114_09_50.148908/model-00009-0.87428-0.49864-2.14870-0.21000.h5\n",
      "\n",
      "Epoch 00009: ReduceLROnPlateau reducing learning rate to 1.249999968422344e-05.\n",
      "14/14 [==============================] - 361s 26s/step - loss: 0.8743 - categorical_accuracy: 0.4986 - val_loss: 2.1487 - val_categorical_accuracy: 0.2100 - lr: 2.5000e-05\n",
      "Epoch 10/25\n",
      "14/14 [==============================] - ETA: 0s - loss: 1.0177 - categorical_accuracy: 0.5851 \n",
      "Epoch 00010: saving model to model_init_2021-05-0114_09_50.148908/model-00010-1.01767-0.58514-2.31844-0.21000.h5\n",
      "14/14 [==============================] - 603s 43s/step - loss: 1.0177 - categorical_accuracy: 0.5851 - val_loss: 2.3184 - val_categorical_accuracy: 0.2100 - lr: 1.2500e-05\n",
      "Epoch 11/25\n",
      "14/14 [==============================] - ETA: 0s - loss: 0.9242 - categorical_accuracy: 0.4130 \n",
      "Epoch 00011: saving model to model_init_2021-05-0114_09_50.148908/model-00011-0.92423-0.41297-2.27839-0.23000.h5\n",
      "\n",
      "Epoch 00011: ReduceLROnPlateau reducing learning rate to 6.24999984211172e-06.\n",
      "14/14 [==============================] - 281s 20s/step - loss: 0.9242 - categorical_accuracy: 0.4130 - val_loss: 2.2784 - val_categorical_accuracy: 0.2300 - lr: 1.2500e-05\n",
      "Epoch 12/25\n",
      "14/14 [==============================] - ETA: 0s - loss: 1.0194 - categorical_accuracy: 0.5958 \n",
      "Epoch 00012: saving model to model_init_2021-05-0114_09_50.148908/model-00012-1.01942-0.59585-2.38455-0.24000.h5\n",
      "14/14 [==============================] - 683s 49s/step - loss: 1.0194 - categorical_accuracy: 0.5958 - val_loss: 2.3846 - val_categorical_accuracy: 0.2400 - lr: 6.2500e-06\n",
      "Epoch 13/25\n",
      "14/14 [==============================] - ETA: 0s - loss: 0.8088 - categorical_accuracy: 0.3790 \n",
      "Epoch 00013: saving model to model_init_2021-05-0114_09_50.148908/model-00013-0.80881-0.37900-2.34675-0.25000.h5\n",
      "\n",
      "Epoch 00013: ReduceLROnPlateau reducing learning rate to 3.12499992105586e-06.\n",
      "14/14 [==============================] - 203s 15s/step - loss: 0.8088 - categorical_accuracy: 0.3790 - val_loss: 2.3468 - val_categorical_accuracy: 0.2500 - lr: 6.2500e-06\n",
      "Epoch 14/25\n",
      "14/14 [==============================] - ETA: 0s - loss: 0.9462 - categorical_accuracy: 0.6063 \n",
      "Epoch 00014: saving model to model_init_2021-05-0114_09_50.148908/model-00014-0.94616-0.60633-2.45892-0.24000.h5\n",
      "14/14 [==============================] - 676s 48s/step - loss: 0.9462 - categorical_accuracy: 0.6063 - val_loss: 2.4589 - val_categorical_accuracy: 0.2400 - lr: 3.1250e-06\n",
      "Epoch 15/25\n",
      "14/14 [==============================] - ETA: 0s - loss: 0.8217 - categorical_accuracy: 0.4258 \n",
      "Epoch 00015: saving model to model_init_2021-05-0114_09_50.148908/model-00015-0.82167-0.42578-2.42336-0.28000.h5\n",
      "\n",
      "Epoch 00015: ReduceLROnPlateau reducing learning rate to 1.56249996052793e-06.\n",
      "14/14 [==============================] - 282s 20s/step - loss: 0.8217 - categorical_accuracy: 0.4258 - val_loss: 2.4234 - val_categorical_accuracy: 0.2800 - lr: 3.1250e-06\n",
      "Epoch 16/25\n",
      "14/14 [==============================] - ETA: 0s - loss: 0.9494 - categorical_accuracy: 0.5806 \n",
      "Epoch 00016: saving model to model_init_2021-05-0114_09_50.148908/model-00016-0.94936-0.58065-2.34034-0.31000.h5\n",
      "14/14 [==============================] - 599s 43s/step - loss: 0.9494 - categorical_accuracy: 0.5806 - val_loss: 2.3403 - val_categorical_accuracy: 0.3100 - lr: 1.5625e-06\n",
      "Epoch 17/25\n",
      "14/14 [==============================] - ETA: 0s - loss: 0.9486 - categorical_accuracy: 0.5000 \n",
      "Epoch 00017: saving model to model_init_2021-05-0114_09_50.148908/model-00017-0.94859-0.50000-2.57105-0.27000.h5\n",
      "\n",
      "Epoch 00017: ReduceLROnPlateau reducing learning rate to 7.81249980263965e-07.\n",
      "14/14 [==============================] - 361s 26s/step - loss: 0.9486 - categorical_accuracy: 0.5000 - val_loss: 2.5710 - val_categorical_accuracy: 0.2700 - lr: 1.5625e-06\n",
      "Epoch 18/25\n",
      "14/14 [==============================] - ETA: 0s - loss: 0.9533 - categorical_accuracy: 0.5534 \n",
      "Epoch 00018: saving model to model_init_2021-05-0114_09_50.148908/model-00018-0.95327-0.55340-2.60435-0.29000.h5\n",
      "14/14 [==============================] - 514s 37s/step - loss: 0.9533 - categorical_accuracy: 0.5534 - val_loss: 2.6044 - val_categorical_accuracy: 0.2900 - lr: 7.8125e-07\n",
      "Epoch 19/25\n",
      "14/14 [==============================] - ETA: 0s - loss: 0.9023 - categorical_accuracy: 0.5817 \n",
      "Epoch 00019: saving model to model_init_2021-05-0114_09_50.148908/model-00019-0.90233-0.58168-2.65069-0.28000.h5\n",
      "\n",
      "Epoch 00019: ReduceLROnPlateau reducing learning rate to 3.906249901319825e-07.\n",
      "14/14 [==============================] - 437s 31s/step - loss: 0.9023 - categorical_accuracy: 0.5817 - val_loss: 2.6507 - val_categorical_accuracy: 0.2800 - lr: 7.8125e-07\n"
     ]
    },
    {
     "name": "stdout",
     "output_type": "stream",
     "text": [
      "Epoch 20/25\n",
      "14/14 [==============================] - ETA: 0s - loss: 0.8737 - categorical_accuracy: 0.5306 \n",
      "Epoch 00020: saving model to model_init_2021-05-0114_09_50.148908/model-00020-0.87367-0.53061-2.56382-0.25000.h5\n",
      "14/14 [==============================] - 439s 31s/step - loss: 0.8737 - categorical_accuracy: 0.5306 - val_loss: 2.5638 - val_categorical_accuracy: 0.2500 - lr: 3.9062e-07\n",
      "Epoch 21/25\n",
      "14/14 [==============================] - ETA: 0s - loss: 0.9567 - categorical_accuracy: 0.5774 \n",
      "Epoch 00021: saving model to model_init_2021-05-0114_09_50.148908/model-00021-0.95670-0.57741-2.64815-0.27000.h5\n",
      "\n",
      "Epoch 00021: ReduceLROnPlateau reducing learning rate to 1.9531249506599124e-07.\n",
      "14/14 [==============================] - 536s 38s/step - loss: 0.9567 - categorical_accuracy: 0.5774 - val_loss: 2.6481 - val_categorical_accuracy: 0.2700 - lr: 3.9062e-07\n",
      "Epoch 22/25\n",
      "14/14 [==============================] - ETA: 0s - loss: 0.8344 - categorical_accuracy: 0.5095 \n",
      "Epoch 00022: saving model to model_init_2021-05-0114_09_50.148908/model-00022-0.83441-0.50954-2.51257-0.29000.h5\n",
      "14/14 [==============================] - 379s 27s/step - loss: 0.8344 - categorical_accuracy: 0.5095 - val_loss: 2.5126 - val_categorical_accuracy: 0.2900 - lr: 1.9531e-07\n",
      "Epoch 23/25\n",
      "12/14 [========================>.....] - ETA: 1:24 - loss: 0.9259 - categorical_accuracy: 0.6438"
     ]
    }
   ],
   "source": [
    "filtersize=(3,3,3)\n",
    "dense_neurons=64\n",
    "dropout=0.25\n",
    "\n",
    "num_classes=5\n",
    "frames=30\n",
    "image_height=100\n",
    "image_width=100\n",
    "channels=3\n",
    "\n",
    "lstm_cells=64\n",
    "\n",
    "batch_size=50\n",
    "num_epochs = 25\n",
    "\n",
    "dl_model = create_Conv3D_small_model(filtersize, dense_neurons, dropout,\n",
    "                               num_classes, frames, image_height, image_width, channels)\n",
    "\n",
    "hist, time_elapsed = train_model(dl_model, batch_size=batch_size, num_epochs = num_epochs,\n",
    "                                frames=frames, image_height=image_height, image_width=image_width, channels=channels)\n",
    "\n",
    "results.append({'params':(num_classes, frames, image_height, image_width, channels, batch_size),\n",
    "                \"hist\":hist, \n",
    "                \"time_elapsed\":time_elapsed\n",
    "               })\n",
    "\n",
    "plot(hist)"
   ]
  },
  {
   "cell_type": "markdown",
   "metadata": {},
   "source": [
    "## Model Ver 8 - Conv3D (Reduced Parameters 1) with filtersize (2,2,2)"
   ]
  },
  {
   "cell_type": "code",
   "execution_count": null,
   "metadata": {},
   "outputs": [],
   "source": [
    "filtersize=(2,2,2)\n",
    "dense_neurons=64\n",
    "dropout=0.25\n",
    "\n",
    "num_classes=5\n",
    "frames=30\n",
    "image_height=100\n",
    "image_width=100\n",
    "channels=3\n",
    "\n",
    "lstm_cells=64\n",
    "\n",
    "batch_size=50\n",
    "num_epochs = 25\n",
    "\n",
    "dl_model = create_Conv3D_small_model(filtersize, dense_neurons, dropout,\n",
    "                               num_classes, frames, image_height, image_width, channels)\n",
    "\n",
    "hist, time_elapsed = train_model(dl_model, batch_size=batch_size, num_epochs = num_epochs,\n",
    "                                frames=frames, image_height=image_height, image_width=image_width, channels=channels)\n",
    "\n",
    "results.append({'params':(num_classes, frames, image_height, image_width, channels, batch_size),\n",
    "                \"hist\":hist, \n",
    "                \"time_elapsed\":time_elapsed\n",
    "               })\n",
    "\n",
    "plot(hist)"
   ]
  },
  {
   "cell_type": "markdown",
   "metadata": {},
   "source": [
    "## Conv3D Model with Reduced Parameters 2"
   ]
  },
  {
   "cell_type": "code",
   "execution_count": null,
   "metadata": {},
   "outputs": [],
   "source": [
    "def create_Conv3D_smallest_model(dense_neurons=64,dropout=0.25, \n",
    "                        num_classes = 5, frames=30, image_height=100, image_width=100, channels=3):\n",
    "\n",
    "    model = Sequential()\n",
    "    model.add(Conv3D(8, (3, 3, 3), padding='same',\n",
    "             input_shape=(frames,image_height,image_width,channels)))\n",
    "    model.add(Activation('relu'))\n",
    "    model.add(BatchNormalization())\n",
    "    model.add(MaxPooling3D(pool_size=(2, 2, 2)))\n",
    "\n",
    "    model.add(Conv3D(16, (3, 3, 3), padding='same'))\n",
    "    model.add(Activation('relu'))\n",
    "    model.add(BatchNormalization())\n",
    "    model.add(MaxPooling3D(pool_size=(2, 2, 2)))\n",
    "\n",
    "    model.add(Conv3D(32, (2, 2, 2), padding='same'))\n",
    "    model.add(Activation('relu'))\n",
    "    model.add(BatchNormalization())\n",
    "    model.add(MaxPooling3D(pool_size=(2, 2, 2)))\n",
    "\n",
    "    model.add(Conv3D(64, (2, 2, 2), padding='same'))\n",
    "    model.add(Activation('relu'))\n",
    "    model.add(BatchNormalization())\n",
    "    model.add(MaxPooling3D(pool_size=(2, 2, 2)))\n",
    "\n",
    "    model.add(Flatten())\n",
    "    model.add(Dense(dense_neurons,activation='relu'))\n",
    "    model.add(BatchNormalization())\n",
    "    model.add(Dropout(dropout))\n",
    "\n",
    "    model.add(Dense(dense_neurons,activation='relu'))\n",
    "    model.add(BatchNormalization())\n",
    "    model.add(Dropout(dropout))\n",
    "\n",
    "    model.add(Dense(self.num_classes,activation='softmax'))\n",
    "\n",
    "    optimiser = optimizers.Adam(lr=0.0002)\n",
    "    model.compile(optimizer=optimiser, loss='categorical_crossentropy', metrics=['categorical_accuracy'])\n",
    "    return model"
   ]
  },
  {
   "cell_type": "markdown",
   "metadata": {},
   "source": [
    "## Model Ver 9 - Conv3D (Reduced Parameters 2 with filtersize (3,3,3)"
   ]
  },
  {
   "cell_type": "code",
   "execution_count": null,
   "metadata": {},
   "outputs": [],
   "source": [
    "filtersize=(3,3,3)\n",
    "dense_neurons=64\n",
    "dropout=0.25\n",
    "\n",
    "num_classes=5\n",
    "frames=30\n",
    "image_height=100\n",
    "image_width=100\n",
    "channels=3\n",
    "\n",
    "batch_size=50\n",
    "num_epochs = 25\n",
    "\n",
    "dl_model = create_Conv3D_smallest_model(filtersize, dense_neurons, dropout,\n",
    "                               num_classes, frames, image_height, image_width, channels)\n",
    "\n",
    "hist, time_elapsed = train_model(dl_model, batch_size=batch_size, num_epochs = num_epochs,\n",
    "                                frames=frames, image_height=image_height, image_width=image_width, channels=channels)\n",
    "\n",
    "results.append({'params':(num_classes, frames, image_height, image_width, channels, batch_size),\n",
    "                \"hist\":hist, \n",
    "                \"time_elapsed\":time_elapsed\n",
    "               })\n",
    "\n",
    "plot(hist)"
   ]
  },
  {
   "cell_type": "markdown",
   "metadata": {},
   "source": [
    "## Model Ver 10 - Conv3D (Reduced Parameters 2 with filtersize (2,2,2)"
   ]
  },
  {
   "cell_type": "code",
   "execution_count": null,
   "metadata": {},
   "outputs": [],
   "source": [
    "filtersize=(2,2,2)\n",
    "dense_neurons=64\n",
    "dropout=0.25\n",
    "\n",
    "num_classes=5\n",
    "frames=30\n",
    "image_height=100\n",
    "image_width=100\n",
    "channels=3\n",
    "\n",
    "batch_size=50\n",
    "num_epochs = 25\n",
    "\n",
    "dl_model = create_Conv3D_smallest_model(filtersize, dense_neurons, dropout,\n",
    "                               num_classes, frames, image_height, image_width, channels)\n",
    "\n",
    "hist, time_elapsed = train_model(dl_model, batch_size=batch_size, num_epochs = num_epochs,\n",
    "                                frames=frames, image_height=image_height, image_width=image_width, channels=channels)\n",
    "\n",
    "results.append({'params':(num_classes, frames, image_height, image_width, channels, batch_size),\n",
    "                \"hist\":hist, \n",
    "                \"time_elapsed\":time_elapsed\n",
    "               })\n",
    "\n",
    "plot(hist)"
   ]
  },
  {
   "cell_type": "code",
   "execution_count": null,
   "metadata": {},
   "outputs": [],
   "source": []
  },
  {
   "cell_type": "code",
   "execution_count": null,
   "metadata": {},
   "outputs": [],
   "source": []
  }
 ],
 "metadata": {
  "kernelspec": {
   "display_name": "Python 3",
   "language": "python",
   "name": "python3"
  },
  "language_info": {
   "codemirror_mode": {
    "name": "ipython",
    "version": 3
   },
   "file_extension": ".py",
   "mimetype": "text/x-python",
   "name": "python",
   "nbconvert_exporter": "python",
   "pygments_lexer": "ipython3",
   "version": "3.6.9"
  }
 },
 "nbformat": 4,
 "nbformat_minor": 2
}
