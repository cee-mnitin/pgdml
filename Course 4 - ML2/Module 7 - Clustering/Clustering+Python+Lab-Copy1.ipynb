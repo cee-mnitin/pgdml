{
 "cells": [
  {
   "cell_type": "markdown",
   "metadata": {},
   "source": [
    "## K-Means Clustering"
   ]
  },
  {
   "cell_type": "markdown",
   "metadata": {},
   "source": [
    "**Overview**<br>\n",
    "<a href=\"https://archive.ics.uci.edu/ml/datasets/online+retail\">Online retail is a transnational data set</a> which contains all the transactions occurring between 01/12/2010 and 09/12/2011 for a UK-based and registered non-store online retail. The company mainly sells unique all-occasion gifts. Many customers of the company are wholesalers.\n",
    "\n",
    "The steps are broadly:\n",
    "1. Read and understand the data\n",
    "2. Clean the data\n",
    "3. Prepare the data for modelling\n",
    "4. Modelling\n",
    "5. Final analysis and reco"
   ]
  },
  {
   "cell_type": "markdown",
   "metadata": {},
   "source": [
    "# 1. Read and visualise the data"
   ]
  },
  {
   "cell_type": "code",
   "execution_count": 19,
   "metadata": {
    "ExecuteTime": {
     "end_time": "2020-12-12T09:06:49.629030Z",
     "start_time": "2020-12-12T09:06:49.623382Z"
    }
   },
   "outputs": [],
   "source": [
    "import numpy as np\n",
    "import pandas as pd\n",
    "import matplotlib.pyplot as plt\n",
    "import seaborn as sns\n",
    "\n",
    "import datetime as dt\n",
    "\n",
    "import sklearn\n",
    "from sklearn.preprocessing import StandardScaler\n",
    "from sklearn.cluster import KMeans\n",
    "from sklearn.metrics import silhouette_score\n",
    "\n",
    "from scipy.cluster.hierarchy import linkage\n",
    "from scipy.cluster.hierarchy import dendrogram\n",
    "from scipy.cluster.hierarchy import cut_tree"
   ]
  },
  {
   "cell_type": "code",
   "execution_count": 20,
   "metadata": {
    "ExecuteTime": {
     "end_time": "2020-12-12T09:06:50.159084Z",
     "start_time": "2020-12-12T09:06:50.132950Z"
    }
   },
   "outputs": [
    {
     "data": {
      "text/html": [
       "<div>\n",
       "<style scoped>\n",
       "    .dataframe tbody tr th:only-of-type {\n",
       "        vertical-align: middle;\n",
       "    }\n",
       "\n",
       "    .dataframe tbody tr th {\n",
       "        vertical-align: top;\n",
       "    }\n",
       "\n",
       "    .dataframe thead th {\n",
       "        text-align: right;\n",
       "    }\n",
       "</style>\n",
       "<table border=\"1\" class=\"dataframe\">\n",
       "  <thead>\n",
       "    <tr style=\"text-align: right;\">\n",
       "      <th></th>\n",
       "      <th>Player</th>\n",
       "      <th>Span</th>\n",
       "      <th>Mat</th>\n",
       "      <th>Inns</th>\n",
       "      <th>NO</th>\n",
       "      <th>Runs</th>\n",
       "      <th>HS</th>\n",
       "      <th>Ave</th>\n",
       "      <th>BF</th>\n",
       "      <th>SR</th>\n",
       "      <th>100</th>\n",
       "      <th>50</th>\n",
       "      <th>0</th>\n",
       "    </tr>\n",
       "  </thead>\n",
       "  <tbody>\n",
       "    <tr>\n",
       "      <th>0</th>\n",
       "      <td>SR Tendulkar (INDIA)</td>\n",
       "      <td>1989-2012</td>\n",
       "      <td>463</td>\n",
       "      <td>452</td>\n",
       "      <td>41</td>\n",
       "      <td>18426</td>\n",
       "      <td>200*</td>\n",
       "      <td>44.83</td>\n",
       "      <td>21367</td>\n",
       "      <td>86.23</td>\n",
       "      <td>49</td>\n",
       "      <td>96</td>\n",
       "      <td>20</td>\n",
       "    </tr>\n",
       "    <tr>\n",
       "      <th>1</th>\n",
       "      <td>KC Sangakkara (Asia/ICC/SL)</td>\n",
       "      <td>2000-2015</td>\n",
       "      <td>404</td>\n",
       "      <td>380</td>\n",
       "      <td>41</td>\n",
       "      <td>14234</td>\n",
       "      <td>169</td>\n",
       "      <td>41.98</td>\n",
       "      <td>18048</td>\n",
       "      <td>78.86</td>\n",
       "      <td>25</td>\n",
       "      <td>93</td>\n",
       "      <td>15</td>\n",
       "    </tr>\n",
       "    <tr>\n",
       "      <th>2</th>\n",
       "      <td>RT Ponting (AUS/ICC)</td>\n",
       "      <td>1995-2012</td>\n",
       "      <td>375</td>\n",
       "      <td>365</td>\n",
       "      <td>39</td>\n",
       "      <td>13704</td>\n",
       "      <td>164</td>\n",
       "      <td>42.03</td>\n",
       "      <td>17046</td>\n",
       "      <td>80.39</td>\n",
       "      <td>30</td>\n",
       "      <td>82</td>\n",
       "      <td>20</td>\n",
       "    </tr>\n",
       "    <tr>\n",
       "      <th>3</th>\n",
       "      <td>ST Jayasuriya (Asia/SL)</td>\n",
       "      <td>1989-2011</td>\n",
       "      <td>445</td>\n",
       "      <td>433</td>\n",
       "      <td>18</td>\n",
       "      <td>13430</td>\n",
       "      <td>189</td>\n",
       "      <td>32.36</td>\n",
       "      <td>14725</td>\n",
       "      <td>91.20</td>\n",
       "      <td>28</td>\n",
       "      <td>68</td>\n",
       "      <td>34</td>\n",
       "    </tr>\n",
       "    <tr>\n",
       "      <th>4</th>\n",
       "      <td>DPMD Jayawardene (Asia/SL)</td>\n",
       "      <td>1998-2015</td>\n",
       "      <td>448</td>\n",
       "      <td>418</td>\n",
       "      <td>39</td>\n",
       "      <td>12650</td>\n",
       "      <td>144</td>\n",
       "      <td>33.37</td>\n",
       "      <td>16020</td>\n",
       "      <td>78.96</td>\n",
       "      <td>19</td>\n",
       "      <td>77</td>\n",
       "      <td>28</td>\n",
       "    </tr>\n",
       "  </tbody>\n",
       "</table>\n",
       "</div>"
      ],
      "text/plain": [
       "                        Player       Span  Mat  Inns  NO   Runs    HS    Ave  \\\n",
       "0         SR Tendulkar (INDIA)  1989-2012  463   452  41  18426  200*  44.83   \n",
       "1  KC Sangakkara (Asia/ICC/SL)  2000-2015  404   380  41  14234   169  41.98   \n",
       "2         RT Ponting (AUS/ICC)  1995-2012  375   365  39  13704   164  42.03   \n",
       "3      ST Jayasuriya (Asia/SL)  1989-2011  445   433  18  13430   189  32.36   \n",
       "4   DPMD Jayawardene (Asia/SL)  1998-2015  448   418  39  12650   144  33.37   \n",
       "\n",
       "      BF     SR  100  50   0  \n",
       "0  21367  86.23   49  96  20  \n",
       "1  18048  78.86   25  93  15  \n",
       "2  17046  80.39   30  82  20  \n",
       "3  14725  91.20   28  68  34  \n",
       "4  16020  78.96   19  77  28  "
      ]
     },
     "execution_count": 20,
     "metadata": {},
     "output_type": "execute_result"
    }
   ],
   "source": [
    "# read the dataset\n",
    "retail_df = pd.read_csv(\"Cricket.csv\", sep=\",\", encoding=\"ISO-8859-1\")\n",
    "retail_df.head()"
   ]
  },
  {
   "cell_type": "code",
   "execution_count": 21,
   "metadata": {
    "ExecuteTime": {
     "end_time": "2020-12-12T09:06:51.460461Z",
     "start_time": "2020-12-12T09:06:50.508710Z"
    }
   },
   "outputs": [
    {
     "name": "stdout",
     "output_type": "stream",
     "text": [
      "<class 'pandas.core.frame.DataFrame'>\n",
      "RangeIndex: 79 entries, 0 to 78\n",
      "Data columns (total 13 columns):\n",
      "Player    79 non-null object\n",
      "Span      79 non-null object\n",
      "Mat       79 non-null int64\n",
      "Inns      79 non-null int64\n",
      "NO        79 non-null int64\n",
      "Runs      79 non-null int64\n",
      "HS        79 non-null object\n",
      "Ave       79 non-null float64\n",
      "BF        79 non-null int64\n",
      "SR        79 non-null float64\n",
      "100       79 non-null int64\n",
      "50        79 non-null int64\n",
      "0         79 non-null int64\n",
      "dtypes: float64(2), int64(8), object(3)\n",
      "memory usage: 8.1+ KB\n"
     ]
    }
   ],
   "source": [
    "# basics of the df\n",
    "retail_df.info()"
   ]
  },
  {
   "cell_type": "markdown",
   "metadata": {},
   "source": [
    "# 2. Clean the data"
   ]
  },
  {
   "cell_type": "code",
   "execution_count": 22,
   "metadata": {
    "ExecuteTime": {
     "end_time": "2020-12-12T09:06:51.571649Z",
     "start_time": "2020-12-12T09:06:51.462466Z"
    }
   },
   "outputs": [
    {
     "data": {
      "text/plain": [
       "Player    0.0\n",
       "Span      0.0\n",
       "Mat       0.0\n",
       "Inns      0.0\n",
       "NO        0.0\n",
       "Runs      0.0\n",
       "HS        0.0\n",
       "Ave       0.0\n",
       "BF        0.0\n",
       "SR        0.0\n",
       "100       0.0\n",
       "50        0.0\n",
       "0         0.0\n",
       "dtype: float64"
      ]
     },
     "execution_count": 22,
     "metadata": {},
     "output_type": "execute_result"
    }
   ],
   "source": [
    "# missing values\n",
    "round(100*(retail_df.isnull().sum())/len(retail_df), 2)"
   ]
  },
  {
   "cell_type": "code",
   "execution_count": 26,
   "metadata": {
    "ExecuteTime": {
     "end_time": "2020-12-12T09:07:38.317499Z",
     "start_time": "2020-12-12T09:07:38.311364Z"
    }
   },
   "outputs": [
    {
     "data": {
      "text/plain": [
       "(79, 3)"
      ]
     },
     "execution_count": 26,
     "metadata": {},
     "output_type": "execute_result"
    }
   ],
   "source": [
    "# drop all rows having missing values\n",
    "retail_df = retail_df[['Player','SR', 'Ave']]\n",
    "retail_df.shape"
   ]
  },
  {
   "cell_type": "code",
   "execution_count": 27,
   "metadata": {
    "ExecuteTime": {
     "end_time": "2020-12-12T09:07:38.981313Z",
     "start_time": "2020-12-12T09:07:38.972330Z"
    }
   },
   "outputs": [
    {
     "data": {
      "text/html": [
       "<div>\n",
       "<style scoped>\n",
       "    .dataframe tbody tr th:only-of-type {\n",
       "        vertical-align: middle;\n",
       "    }\n",
       "\n",
       "    .dataframe tbody tr th {\n",
       "        vertical-align: top;\n",
       "    }\n",
       "\n",
       "    .dataframe thead th {\n",
       "        text-align: right;\n",
       "    }\n",
       "</style>\n",
       "<table border=\"1\" class=\"dataframe\">\n",
       "  <thead>\n",
       "    <tr style=\"text-align: right;\">\n",
       "      <th></th>\n",
       "      <th>Player</th>\n",
       "      <th>SR</th>\n",
       "      <th>Ave</th>\n",
       "    </tr>\n",
       "  </thead>\n",
       "  <tbody>\n",
       "    <tr>\n",
       "      <th>0</th>\n",
       "      <td>SR Tendulkar (INDIA)</td>\n",
       "      <td>86.23</td>\n",
       "      <td>44.83</td>\n",
       "    </tr>\n",
       "    <tr>\n",
       "      <th>1</th>\n",
       "      <td>KC Sangakkara (Asia/ICC/SL)</td>\n",
       "      <td>78.86</td>\n",
       "      <td>41.98</td>\n",
       "    </tr>\n",
       "    <tr>\n",
       "      <th>2</th>\n",
       "      <td>RT Ponting (AUS/ICC)</td>\n",
       "      <td>80.39</td>\n",
       "      <td>42.03</td>\n",
       "    </tr>\n",
       "    <tr>\n",
       "      <th>3</th>\n",
       "      <td>ST Jayasuriya (Asia/SL)</td>\n",
       "      <td>91.20</td>\n",
       "      <td>32.36</td>\n",
       "    </tr>\n",
       "    <tr>\n",
       "      <th>4</th>\n",
       "      <td>DPMD Jayawardene (Asia/SL)</td>\n",
       "      <td>78.96</td>\n",
       "      <td>33.37</td>\n",
       "    </tr>\n",
       "  </tbody>\n",
       "</table>\n",
       "</div>"
      ],
      "text/plain": [
       "                        Player     SR    Ave\n",
       "0         SR Tendulkar (INDIA)  86.23  44.83\n",
       "1  KC Sangakkara (Asia/ICC/SL)  78.86  41.98\n",
       "2         RT Ponting (AUS/ICC)  80.39  42.03\n",
       "3      ST Jayasuriya (Asia/SL)  91.20  32.36\n",
       "4   DPMD Jayawardene (Asia/SL)  78.96  33.37"
      ]
     },
     "execution_count": 27,
     "metadata": {},
     "output_type": "execute_result"
    }
   ],
   "source": [
    "retail_df.head()"
   ]
  },
  {
   "cell_type": "markdown",
   "metadata": {},
   "source": [
    "# 3. Prepare the data for modelling"
   ]
  },
  {
   "cell_type": "markdown",
   "metadata": {},
   "source": [
    "- R (Recency): Number of days since last purchase\n",
    "- F (Frequency): Number of tracsactions\n",
    "- M (Monetary): Total amount of transactions (revenue contributed)"
   ]
  },
  {
   "cell_type": "code",
   "execution_count": 28,
   "metadata": {
    "ExecuteTime": {
     "end_time": "2020-12-12T09:07:41.144004Z",
     "start_time": "2020-12-12T09:07:41.135726Z"
    }
   },
   "outputs": [
    {
     "data": {
      "text/plain": [
       "(79, 2)"
      ]
     },
     "execution_count": 28,
     "metadata": {},
     "output_type": "execute_result"
    }
   ],
   "source": [
    "# 2. rescaling\n",
    "rfm_df = retail_df[['SR', 'Ave']]\n",
    "\n",
    "# instantiate\n",
    "scaler = StandardScaler()\n",
    "\n",
    "# fit_transform\n",
    "rfm_df_scaled = scaler.fit_transform(rfm_df)\n",
    "rfm_df_scaled.shape"
   ]
  },
  {
   "cell_type": "code",
   "execution_count": 29,
   "metadata": {
    "ExecuteTime": {
     "end_time": "2020-12-12T09:07:49.118710Z",
     "start_time": "2020-12-12T09:07:49.109713Z"
    }
   },
   "outputs": [
    {
     "data": {
      "text/html": [
       "<div>\n",
       "<style scoped>\n",
       "    .dataframe tbody tr th:only-of-type {\n",
       "        vertical-align: middle;\n",
       "    }\n",
       "\n",
       "    .dataframe tbody tr th {\n",
       "        vertical-align: top;\n",
       "    }\n",
       "\n",
       "    .dataframe thead th {\n",
       "        text-align: right;\n",
       "    }\n",
       "</style>\n",
       "<table border=\"1\" class=\"dataframe\">\n",
       "  <thead>\n",
       "    <tr style=\"text-align: right;\">\n",
       "      <th></th>\n",
       "      <th>SR</th>\n",
       "      <th>Ave</th>\n",
       "    </tr>\n",
       "  </thead>\n",
       "  <tbody>\n",
       "    <tr>\n",
       "      <th>0</th>\n",
       "      <td>0.703152</td>\n",
       "      <td>1.072294</td>\n",
       "    </tr>\n",
       "    <tr>\n",
       "      <th>1</th>\n",
       "      <td>-0.044139</td>\n",
       "      <td>0.587725</td>\n",
       "    </tr>\n",
       "    <tr>\n",
       "      <th>2</th>\n",
       "      <td>0.110997</td>\n",
       "      <td>0.596226</td>\n",
       "    </tr>\n",
       "    <tr>\n",
       "      <th>3</th>\n",
       "      <td>1.207091</td>\n",
       "      <td>-1.047909</td>\n",
       "    </tr>\n",
       "    <tr>\n",
       "      <th>4</th>\n",
       "      <td>-0.034000</td>\n",
       "      <td>-0.876185</td>\n",
       "    </tr>\n",
       "  </tbody>\n",
       "</table>\n",
       "</div>"
      ],
      "text/plain": [
       "         SR       Ave\n",
       "0  0.703152  1.072294\n",
       "1 -0.044139  0.587725\n",
       "2  0.110997  0.596226\n",
       "3  1.207091 -1.047909\n",
       "4 -0.034000 -0.876185"
      ]
     },
     "execution_count": 29,
     "metadata": {},
     "output_type": "execute_result"
    }
   ],
   "source": [
    "rfm_df_scaled = pd.DataFrame(rfm_df_scaled)\n",
    "rfm_df_scaled.columns = ['SR', 'Ave']\n",
    "rfm_df_scaled.head()"
   ]
  },
  {
   "cell_type": "markdown",
   "metadata": {},
   "source": [
    "# 4. Modelling"
   ]
  },
  {
   "cell_type": "code",
   "execution_count": 30,
   "metadata": {
    "ExecuteTime": {
     "end_time": "2020-12-12T09:08:25.370414Z",
     "start_time": "2020-12-12T09:08:24.052312Z"
    }
   },
   "outputs": [
    {
     "data": {
      "text/plain": [
       "KMeans(algorithm='auto', copy_x=True, init='k-means++', max_iter=50,\n",
       "       n_clusters=4, n_init=10, n_jobs=None, precompute_distances='auto',\n",
       "       random_state=100, tol=0.0001, verbose=0)"
      ]
     },
     "execution_count": 30,
     "metadata": {},
     "output_type": "execute_result"
    }
   ],
   "source": [
    "# k-means with some arbitrary k\n",
    "kmeans = KMeans(n_clusters=4, max_iter=50, random_state=100)\n",
    "kmeans.fit(rfm_df_scaled)"
   ]
  },
  {
   "cell_type": "code",
   "execution_count": 396,
   "metadata": {},
   "outputs": [
    {
     "data": {
      "text/plain": [
       "array([3, 1, 0, ..., 3, 0, 0], dtype=int32)"
      ]
     },
     "execution_count": 396,
     "metadata": {},
     "output_type": "execute_result"
    }
   ],
   "source": [
    "kmeans.labels_"
   ]
  },
  {
   "cell_type": "code",
   "execution_count": 397,
   "metadata": {},
   "outputs": [],
   "source": [
    "# help(KMeans)"
   ]
  },
  {
   "cell_type": "markdown",
   "metadata": {},
   "source": [
    "## Finding the Optimal Number of Clusters\n",
    "\n",
    "### SSD"
   ]
  },
  {
   "cell_type": "code",
   "execution_count": 398,
   "metadata": {},
   "outputs": [
    {
     "data": {
      "text/plain": [
       "[<matplotlib.lines.Line2D at 0x1a545bf400>]"
      ]
     },
     "execution_count": 398,
     "metadata": {},
     "output_type": "execute_result"
    },
    {
     "data": {
      "image/png": "[encoded data removed]",
      "text/plain": [
       "<Figure size 432x288 with 1 Axes>"
      ]
     },
     "metadata": {},
     "output_type": "display_data"
    }
   ],
   "source": [
    "# elbow-curve/SSD\n",
    "ssd = []\n",
    "range_n_clusters = [2, 3, 4, 5, 6, 7, 8]\n",
    "for num_clusters in range_n_clusters:\n",
    "    kmeans = KMeans(n_clusters=num_clusters, max_iter=50)\n",
    "    kmeans.fit(rfm_df_scaled)\n",
    "    \n",
    "    ssd.append(kmeans.inertia_)\n",
    "    \n",
    "# plot the SSDs for each n_clusters\n",
    "# ssd\n",
    "plt.plot(ssd)"
   ]
  },
  {
   "cell_type": "markdown",
   "metadata": {},
   "source": [
    "### Silhouette Analysis\n",
    "\n",
    "$$\\text{silhouette score}=\\frac{p-q}{max(p,q)}$$\n",
    "\n",
    "$p$ is the mean distance to the points in the nearest cluster that the data point is not a part of\n",
    "\n",
    "$q$ is the mean intra-cluster distance to all the points in its own cluster.\n",
    "\n",
    "* The value of the silhouette score range lies between -1 to 1. \n",
    "\n",
    "* A score closer to 1 indicates that the data point is very similar to other data points in the cluster, \n",
    "\n",
    "* A score closer to -1 indicates that the data point is not similar to the data points in its cluster."
   ]
  },
  {
   "cell_type": "code",
   "execution_count": 399,
   "metadata": {},
   "outputs": [
    {
     "name": "stdout",
     "output_type": "stream",
     "text": [
      "For n_clusters=2, the silhouette score is 0.5415858652525395\n",
      "For n_clusters=3, the silhouette score is 0.5084896296141937\n",
      "For n_clusters=4, the silhouette score is 0.4814786837400834\n",
      "For n_clusters=5, the silhouette score is 0.4658529685822305\n",
      "For n_clusters=6, the silhouette score is 0.41707960376211345\n",
      "For n_clusters=7, the silhouette score is 0.4158077420309644\n",
      "For n_clusters=8, the silhouette score is 0.4059904161107271\n"
     ]
    }
   ],
   "source": [
    "# silhouette analysis\n",
    "range_n_clusters = [2, 3, 4, 5, 6, 7, 8]\n",
    "\n",
    "for num_clusters in range_n_clusters:\n",
    "    \n",
    "    # intialise kmeans\n",
    "    kmeans = KMeans(n_clusters=num_clusters, max_iter=50)\n",
    "    kmeans.fit(rfm_df_scaled)\n",
    "    \n",
    "    cluster_labels = kmeans.labels_\n",
    "    \n",
    "    # silhouette score\n",
    "    silhouette_avg = silhouette_score(rfm_df_scaled, cluster_labels)\n",
    "    print(\"For n_clusters={0}, the silhouette score is {1}\".format(num_clusters, silhouette_avg))\n",
    "    \n",
    "    "
   ]
  },
  {
   "cell_type": "code",
   "execution_count": 400,
   "metadata": {},
   "outputs": [
    {
     "data": {
      "text/plain": [
       "KMeans(algorithm='auto', copy_x=True, init='k-means++', max_iter=50,\n",
       "    n_clusters=3, n_init=10, n_jobs=1, precompute_distances='auto',\n",
       "    random_state=None, tol=0.0001, verbose=0)"
      ]
     },
     "execution_count": 400,
     "metadata": {},
     "output_type": "execute_result"
    }
   ],
   "source": [
    "# final model with k=3\n",
    "kmeans = KMeans(n_clusters=3, max_iter=50)\n",
    "kmeans.fit(rfm_df_scaled)"
   ]
  },
  {
   "cell_type": "code",
   "execution_count": 401,
   "metadata": {},
   "outputs": [
    {
     "data": {
      "text/plain": [
       "array([2, 0, 1, ..., 2, 1, 1], dtype=int32)"
      ]
     },
     "execution_count": 401,
     "metadata": {},
     "output_type": "execute_result"
    }
   ],
   "source": [
    "kmeans.labels_"
   ]
  },
  {
   "cell_type": "code",
   "execution_count": 35,
   "metadata": {
    "ExecuteTime": {
     "end_time": "2020-12-12T09:09:59.059232Z",
     "start_time": "2020-12-12T09:09:59.046477Z"
    }
   },
   "outputs": [
    {
     "data": {
      "text/html": [
       "<div>\n",
       "<style scoped>\n",
       "    .dataframe tbody tr th:only-of-type {\n",
       "        vertical-align: middle;\n",
       "    }\n",
       "\n",
       "    .dataframe tbody tr th {\n",
       "        vertical-align: top;\n",
       "    }\n",
       "\n",
       "    .dataframe thead th {\n",
       "        text-align: right;\n",
       "    }\n",
       "</style>\n",
       "<table border=\"1\" class=\"dataframe\">\n",
       "  <thead>\n",
       "    <tr style=\"text-align: right;\">\n",
       "      <th></th>\n",
       "      <th>Player</th>\n",
       "      <th>SR</th>\n",
       "      <th>Ave</th>\n",
       "      <th>cluster_id</th>\n",
       "    </tr>\n",
       "  </thead>\n",
       "  <tbody>\n",
       "    <tr>\n",
       "      <th>0</th>\n",
       "      <td>SR Tendulkar (INDIA)</td>\n",
       "      <td>86.23</td>\n",
       "      <td>44.83</td>\n",
       "      <td>2</td>\n",
       "    </tr>\n",
       "    <tr>\n",
       "      <th>13</th>\n",
       "      <td>MS Dhoni (Asia/INDIA)</td>\n",
       "      <td>88.69</td>\n",
       "      <td>51.32</td>\n",
       "      <td>2</td>\n",
       "    </tr>\n",
       "    <tr>\n",
       "      <th>15</th>\n",
       "      <td>AB de Villiers (Afr/SA)</td>\n",
       "      <td>100.25</td>\n",
       "      <td>53.55</td>\n",
       "      <td>2</td>\n",
       "    </tr>\n",
       "    <tr>\n",
       "      <th>25</th>\n",
       "      <td>V Kohli (INDIA)</td>\n",
       "      <td>90.99</td>\n",
       "      <td>53.94</td>\n",
       "      <td>2</td>\n",
       "    </tr>\n",
       "    <tr>\n",
       "      <th>34</th>\n",
       "      <td>HM Amla (SA)</td>\n",
       "      <td>89.05</td>\n",
       "      <td>50.25</td>\n",
       "      <td>2</td>\n",
       "    </tr>\n",
       "    <tr>\n",
       "      <th>38</th>\n",
       "      <td>MG Bevan (AUS)</td>\n",
       "      <td>74.16</td>\n",
       "      <td>53.58</td>\n",
       "      <td>2</td>\n",
       "    </tr>\n",
       "    <tr>\n",
       "      <th>42</th>\n",
       "      <td>IVA Richards (WI)</td>\n",
       "      <td>90.20</td>\n",
       "      <td>47.00</td>\n",
       "      <td>2</td>\n",
       "    </tr>\n",
       "    <tr>\n",
       "      <th>63</th>\n",
       "      <td>MJ Guptill (NZ)</td>\n",
       "      <td>87.73</td>\n",
       "      <td>43.30</td>\n",
       "      <td>2</td>\n",
       "    </tr>\n",
       "    <tr>\n",
       "      <th>64</th>\n",
       "      <td>MEK Hussey (AUS)</td>\n",
       "      <td>87.16</td>\n",
       "      <td>48.15</td>\n",
       "      <td>2</td>\n",
       "    </tr>\n",
       "  </tbody>\n",
       "</table>\n",
       "</div>"
      ],
      "text/plain": [
       "                     Player      SR    Ave  cluster_id\n",
       "0      SR Tendulkar (INDIA)   86.23  44.83           2\n",
       "13    MS Dhoni (Asia/INDIA)   88.69  51.32           2\n",
       "15  AB de Villiers (Afr/SA)  100.25  53.55           2\n",
       "25          V Kohli (INDIA)   90.99  53.94           2\n",
       "34             HM Amla (SA)   89.05  50.25           2\n",
       "38           MG Bevan (AUS)   74.16  53.58           2\n",
       "42        IVA Richards (WI)   90.20  47.00           2\n",
       "63          MJ Guptill (NZ)   87.73  43.30           2\n",
       "64         MEK Hussey (AUS)   87.16  48.15           2"
      ]
     },
     "execution_count": 35,
     "metadata": {},
     "output_type": "execute_result"
    }
   ],
   "source": [
    "# assign the label\n",
    "retail_df['cluster_id'] = kmeans.labels_\n",
    "\n",
    "retail_df[retail_df['cluster_id']==2]"
   ]
  },
  {
   "cell_type": "code",
   "execution_count": 40,
   "metadata": {
    "ExecuteTime": {
     "end_time": "2020-12-12T09:13:39.735985Z",
     "start_time": "2020-12-12T09:13:39.712972Z"
    }
   },
   "outputs": [
    {
     "name": "stdout",
     "output_type": "stream",
     "text": [
      "--------------------------------------------------\n",
      "0\n",
      "--------------------------------------------------\n",
      "                         Player     SR    Ave  cluster_id\n",
      "1   KC Sangakkara (Asia/ICC/SL)  78.86  41.98           0\n",
      "2          RT Ponting (AUS/ICC)  80.39  42.03           0\n",
      "5     Inzamam-ul-Haq (Asia/PAK)  74.24  39.52           0\n",
      "6        JH Kallis (Afr/ICC/SA)  72.89  44.36           0\n",
      "7       SC Ganguly (Asia/INDIA)  73.70  41.02           0\n",
      "8     R Dravid (Asia/ICC/INDIA)  71.24  39.16           0\n",
      "9              BC Lara (ICC/WI)  79.51  40.48           0\n",
      "11   Mohammad Yousuf (Asia/PAK)  75.10  41.71           0\n",
      "18            Saeed Anwar (PAK)  80.67  39.21           0\n",
      "19           S Chanderpaul (WI)  70.74  41.60           0\n",
      "21               DL Haynes (WI)  63.09  41.37           0\n",
      "23               ME Waugh (AUS)  76.90  39.35           0\n",
      "29              MJ Clarke (AUS)  78.98  44.58           0\n",
      "32          Javed Miandad (PAK)  67.01  41.70           0\n",
      "37            GC Smith (Afr/SA)  80.81  37.98           0\n",
      "39               G Kirsten (SA)  72.04  40.95           0\n",
      "46             LRPL Taylor (NZ)  82.03  44.12           0\n",
      "49          ML Hayden (AUS/ICC)  78.96  43.80           0\n",
      "51               DM Jones (AUS)  72.56  44.61           0\n",
      "56               RR Sarwan (WI)  75.74  42.67           0\n",
      "62               WJ Cronje (SA)  76.47  38.64           0\n",
      "65            RG Sharma (INDIA)  84.56  42.46           0\n",
      "66                IR Bell (ENG)  77.16  37.87           0\n",
      "68              DR Martyn (AUS)  77.73  40.80           0\n",
      "70            G Gambhir (INDIA)  85.25  39.68           0\n",
      "74            CG Greenidge (WI)  64.92  45.03           0\n",
      "75          Misbah-ul-Haq (PAK)  73.75  43.40           0\n",
      "--------------------------------------------------\n",
      "1\n",
      "--------------------------------------------------\n",
      "                          Player      SR    Ave  cluster_id\n",
      "3        ST Jayasuriya (Asia/SL)   91.20  32.36           1\n",
      "10               TM Dilshan (SL)   86.23  39.27           1\n",
      "12        AC Gilchrist (AUS/ICC)   96.94  35.89           1\n",
      "17             CH Gayle (ICC/WI)   85.11  37.33           1\n",
      "20     Yuvraj Singh (Asia/INDIA)   87.67  36.55           1\n",
      "24     V Sehwag (Asia/ICC/INDIA)  104.33  35.05           1\n",
      "27  Shahid Afridi (Asia/ICC/PAK)  117.00  23.57           1\n",
      "50              BB McCullum (NZ)   96.37  30.41           1\n",
      "57          EJG Morgan (ENG/IRE)   88.62  38.73           1\n",
      "59               SR Watson (AUS)   90.44  40.54           1\n",
      "61              SK Raina (INDIA)   93.76  35.46           1\n",
      "77               A Symonds (AUS)   92.44  39.75           1\n",
      "--------------------------------------------------\n",
      "2\n",
      "--------------------------------------------------\n",
      "                     Player      SR    Ave  cluster_id\n",
      "0      SR Tendulkar (INDIA)   86.23  44.83           2\n",
      "13    MS Dhoni (Asia/INDIA)   88.69  51.32           2\n",
      "15  AB de Villiers (Afr/SA)  100.25  53.55           2\n",
      "25          V Kohli (INDIA)   90.99  53.94           2\n",
      "34             HM Amla (SA)   89.05  50.25           2\n",
      "38           MG Bevan (AUS)   74.16  53.58           2\n",
      "42        IVA Richards (WI)   90.20  47.00           2\n",
      "63          MJ Guptill (NZ)   87.73  43.30           2\n",
      "64         MEK Hussey (AUS)   87.16  48.15           2\n",
      "--------------------------------------------------\n",
      "3\n",
      "--------------------------------------------------\n",
      "                        Player     SR    Ave  cluster_id\n",
      "4   DPMD Jayawardene (Asia/SL)  78.96  33.37           3\n",
      "14        M Azharuddin (INDIA)  74.02  36.92           3\n",
      "16            PA de Silva (SL)  81.13  34.90           3\n",
      "22            MS Atapattu (SL)  67.72  37.57           3\n",
      "26               HH Gibbs (SA)  83.26  36.13           3\n",
      "28         SP Fleming (ICC/NZ)  71.49  32.40           3\n",
      "30              SR Waugh (AUS)  75.91  32.90           3\n",
      "31            A Ranatunga (SL)  77.90  35.84           3\n",
      "33           Younis Khan (PAK)  75.29  31.24           3\n",
      "35          Saleem Malik (PAK)  76.41  32.88           3\n",
      "36               NJ Astle (NZ)  72.64  34.92           3\n",
      "40              A Flower (ZIM)  74.59  35.34           3\n",
      "41          Shoaib Malik (PAK)  81.72  35.23           3\n",
      "43             GW Flower (ZIM)  67.58  33.52           3\n",
      "44            Ijaz Ahmed (PAK)  80.30  32.33           3\n",
      "45             AR Border (AUS)  71.42  30.62           3\n",
      "47          RB Richardson (WI)  63.74  33.41           3\n",
      "48       WU Tharanga (Asia/SL)  75.03  34.30           3\n",
      "52               DC Boon (AUS)  65.13  37.04           3\n",
      "53              JN Rhodes (SA)  80.90  35.11           3\n",
      "54       Mohammad Hafeez (PAK)  75.58  33.01           3\n",
      "55           Rameez Raja (PAK)  63.31  32.09           3\n",
      "58              CL Hooper (WI)  76.63  35.34           3\n",
      "60         Tamim Iqbal (BDESH)  78.31  34.38           3\n",
      "67            A Jadeja (INDIA)  69.80  37.47           3\n",
      "69            BRM Taylor (ZIM)  74.47  34.82           3\n",
      "71          ADR Campbell (ZIM)  66.18  30.50           3\n",
      "72             MN Samuels (WI)  76.24  34.30           3\n",
      "73            RS Mahanama (SL)  60.57  29.49           3\n",
      "76        PD Collingwood (ENG)  76.98  35.36           3\n",
      "78     Abdul Razzaq (Asia/PAK)  81.25  29.70           3\n"
     ]
    }
   ],
   "source": [
    "for x in [0,1,2,3]:\n",
    "    print('-'*50)\n",
    "    print(x)\n",
    "    print('-'*50)\n",
    "    \n",
    "    print(retail_df[retail_df['cluster_id']==x])"
   ]
  },
  {
   "cell_type": "code",
   "execution_count": 37,
   "metadata": {
    "ExecuteTime": {
     "end_time": "2020-12-12T09:11:13.259544Z",
     "start_time": "2020-12-12T09:11:12.885819Z"
    }
   },
   "outputs": [
    {
     "data": {
      "text/plain": [
       "<matplotlib.axes._subplots.AxesSubplot at 0x7fd6d321a350>"
      ]
     },
     "execution_count": 37,
     "metadata": {},
     "output_type": "execute_result"
    },
    {
     "data": {
      "image/png": "[encoded data removed]",
      "text/plain": [
       "<Figure size 432x288 with 1 Axes>"
      ]
     },
     "metadata": {
      "needs_background": "light"
     },
     "output_type": "display_data"
    }
   ],
   "source": [
    "# plot\n",
    "sns.boxplot(x='cluster_id', y='Ave', data=retail_df)\n"
   ]
  },
  {
   "cell_type": "code",
   "execution_count": 38,
   "metadata": {
    "ExecuteTime": {
     "end_time": "2020-12-12T09:11:49.826953Z",
     "start_time": "2020-12-12T09:11:49.675891Z"
    }
   },
   "outputs": [
    {
     "data": {
      "text/plain": [
       "<matplotlib.axes._subplots.AxesSubplot at 0x7fd6ca995790>"
      ]
     },
     "execution_count": 38,
     "metadata": {},
     "output_type": "execute_result"
    },
    {
     "data": {
      "image/png": "[encoded data removed]",
      "text/plain": [
       "<Figure size 432x288 with 1 Axes>"
      ]
     },
     "metadata": {
      "needs_background": "light"
     },
     "output_type": "display_data"
    }
   ],
   "source": [
    "# plot\n",
    "sns.boxplot(x='cluster_id', y='SR', data=retail_df)"
   ]
  },
  {
   "cell_type": "markdown",
   "metadata": {},
   "source": [
    "## Hierarchical Clustering"
   ]
  },
  {
   "cell_type": "code",
   "execution_count": 41,
   "metadata": {
    "ExecuteTime": {
     "end_time": "2020-12-13T08:07:27.748655Z",
     "start_time": "2020-12-13T08:07:27.738691Z"
    }
   },
   "outputs": [
    {
     "data": {
      "text/html": [
       "<div>\n",
       "<style scoped>\n",
       "    .dataframe tbody tr th:only-of-type {\n",
       "        vertical-align: middle;\n",
       "    }\n",
       "\n",
       "    .dataframe tbody tr th {\n",
       "        vertical-align: top;\n",
       "    }\n",
       "\n",
       "    .dataframe thead th {\n",
       "        text-align: right;\n",
       "    }\n",
       "</style>\n",
       "<table border=\"1\" class=\"dataframe\">\n",
       "  <thead>\n",
       "    <tr style=\"text-align: right;\">\n",
       "      <th></th>\n",
       "      <th>SR</th>\n",
       "      <th>Ave</th>\n",
       "    </tr>\n",
       "  </thead>\n",
       "  <tbody>\n",
       "    <tr>\n",
       "      <th>0</th>\n",
       "      <td>0.703152</td>\n",
       "      <td>1.072294</td>\n",
       "    </tr>\n",
       "    <tr>\n",
       "      <th>1</th>\n",
       "      <td>-0.044139</td>\n",
       "      <td>0.587725</td>\n",
       "    </tr>\n",
       "    <tr>\n",
       "      <th>2</th>\n",
       "      <td>0.110997</td>\n",
       "      <td>0.596226</td>\n",
       "    </tr>\n",
       "    <tr>\n",
       "      <th>3</th>\n",
       "      <td>1.207091</td>\n",
       "      <td>-1.047909</td>\n",
       "    </tr>\n",
       "    <tr>\n",
       "      <th>4</th>\n",
       "      <td>-0.034000</td>\n",
       "      <td>-0.876185</td>\n",
       "    </tr>\n",
       "  </tbody>\n",
       "</table>\n",
       "</div>"
      ],
      "text/plain": [
       "         SR       Ave\n",
       "0  0.703152  1.072294\n",
       "1 -0.044139  0.587725\n",
       "2  0.110997  0.596226\n",
       "3  1.207091 -1.047909\n",
       "4 -0.034000 -0.876185"
      ]
     },
     "execution_count": 41,
     "metadata": {},
     "output_type": "execute_result"
    }
   ],
   "source": [
    "rfm_df_scaled.head()"
   ]
  },
  {
   "cell_type": "code",
   "execution_count": 43,
   "metadata": {
    "ExecuteTime": {
     "end_time": "2020-12-13T08:08:22.189298Z",
     "start_time": "2020-12-13T08:08:22.178335Z"
    }
   },
   "outputs": [
    {
     "data": {
      "text/html": [
       "<div>\n",
       "<style scoped>\n",
       "    .dataframe tbody tr th:only-of-type {\n",
       "        vertical-align: middle;\n",
       "    }\n",
       "\n",
       "    .dataframe tbody tr th {\n",
       "        vertical-align: top;\n",
       "    }\n",
       "\n",
       "    .dataframe thead th {\n",
       "        text-align: right;\n",
       "    }\n",
       "</style>\n",
       "<table border=\"1\" class=\"dataframe\">\n",
       "  <thead>\n",
       "    <tr style=\"text-align: right;\">\n",
       "      <th></th>\n",
       "      <th>Player</th>\n",
       "      <th>SR</th>\n",
       "      <th>Ave</th>\n",
       "      <th>cluster_id</th>\n",
       "    </tr>\n",
       "  </thead>\n",
       "  <tbody>\n",
       "    <tr>\n",
       "      <th>0</th>\n",
       "      <td>SR Tendulkar (INDIA)</td>\n",
       "      <td>86.23</td>\n",
       "      <td>44.83</td>\n",
       "      <td>2</td>\n",
       "    </tr>\n",
       "    <tr>\n",
       "      <th>1</th>\n",
       "      <td>KC Sangakkara (Asia/ICC/SL)</td>\n",
       "      <td>78.86</td>\n",
       "      <td>41.98</td>\n",
       "      <td>0</td>\n",
       "    </tr>\n",
       "    <tr>\n",
       "      <th>2</th>\n",
       "      <td>RT Ponting (AUS/ICC)</td>\n",
       "      <td>80.39</td>\n",
       "      <td>42.03</td>\n",
       "      <td>0</td>\n",
       "    </tr>\n",
       "    <tr>\n",
       "      <th>3</th>\n",
       "      <td>ST Jayasuriya (Asia/SL)</td>\n",
       "      <td>91.20</td>\n",
       "      <td>32.36</td>\n",
       "      <td>1</td>\n",
       "    </tr>\n",
       "    <tr>\n",
       "      <th>4</th>\n",
       "      <td>DPMD Jayawardene (Asia/SL)</td>\n",
       "      <td>78.96</td>\n",
       "      <td>33.37</td>\n",
       "      <td>3</td>\n",
       "    </tr>\n",
       "  </tbody>\n",
       "</table>\n",
       "</div>"
      ],
      "text/plain": [
       "                        Player     SR    Ave  cluster_id\n",
       "0         SR Tendulkar (INDIA)  86.23  44.83           2\n",
       "1  KC Sangakkara (Asia/ICC/SL)  78.86  41.98           0\n",
       "2         RT Ponting (AUS/ICC)  80.39  42.03           0\n",
       "3      ST Jayasuriya (Asia/SL)  91.20  32.36           1\n",
       "4   DPMD Jayawardene (Asia/SL)  78.96  33.37           3"
      ]
     },
     "execution_count": 43,
     "metadata": {},
     "output_type": "execute_result"
    }
   ],
   "source": [
    "retail_df.head()"
   ]
  },
  {
   "cell_type": "code",
   "execution_count": 44,
   "metadata": {
    "ExecuteTime": {
     "end_time": "2020-12-13T08:08:32.428186Z",
     "start_time": "2020-12-13T08:08:30.087926Z"
    }
   },
   "outputs": [
    {
     "data": {
      "image/png": "[encoded data removed]",
      "text/plain": [
       "<Figure size 432x288 with 1 Axes>"
      ]
     },
     "metadata": {
      "needs_background": "light"
     },
     "output_type": "display_data"
    }
   ],
   "source": [
    "# single linkage\n",
    "mergings = linkage(rfm_df_scaled, method=\"single\", metric='euclidean')\n",
    "dendrogram(mergings)\n",
    "plt.show()"
   ]
  },
  {
   "cell_type": "code",
   "execution_count": 45,
   "metadata": {
    "ExecuteTime": {
     "end_time": "2020-12-13T08:08:48.020432Z",
     "start_time": "2020-12-13T08:08:46.731211Z"
    }
   },
   "outputs": [
    {
     "data": {
      "image/png": "[encoded data removed]",
      "text/plain": [
       "<Figure size 432x288 with 1 Axes>"
      ]
     },
     "metadata": {
      "needs_background": "light"
     },
     "output_type": "display_data"
    }
   ],
   "source": [
    "# complete linkage\n",
    "mergings = linkage(rfm_df_scaled, method=\"complete\", metric='euclidean')\n",
    "dendrogram(mergings)\n",
    "plt.show()"
   ]
  },
  {
   "cell_type": "code",
   "execution_count": 48,
   "metadata": {
    "ExecuteTime": {
     "end_time": "2020-12-13T08:09:19.873667Z",
     "start_time": "2020-12-13T08:09:19.859439Z"
    }
   },
   "outputs": [
    {
     "data": {
      "text/plain": [
       "array([0, 0, 0, 1, 2, 0, 0, 0, 0, 0, 0, 0, 1, 3, 2, 3, 2, 0, 0, 0, 0, 0,\n",
       "       0, 0, 1, 3, 0, 1, 2, 0, 2, 2, 0, 2, 3, 2, 2, 0, 3, 0, 2, 2, 0, 2,\n",
       "       2, 2, 0, 2, 2, 0, 1, 0, 0, 2, 2, 2, 0, 0, 2, 0, 2, 1, 0, 0, 0, 0,\n",
       "       0, 0, 0, 2, 0, 2, 2, 2, 0, 0, 2, 0, 2])"
      ]
     },
     "execution_count": 48,
     "metadata": {},
     "output_type": "execute_result"
    }
   ],
   "source": [
    "# 3 clusters\n",
    "cluster_labels = cut_tree(mergings, n_clusters=4).reshape(-1, )\n",
    "cluster_labels"
   ]
  },
  {
   "cell_type": "code",
   "execution_count": 49,
   "metadata": {
    "ExecuteTime": {
     "end_time": "2020-12-13T08:09:20.913097Z",
     "start_time": "2020-12-13T08:09:20.902494Z"
    }
   },
   "outputs": [
    {
     "data": {
      "text/html": [
       "<div>\n",
       "<style scoped>\n",
       "    .dataframe tbody tr th:only-of-type {\n",
       "        vertical-align: middle;\n",
       "    }\n",
       "\n",
       "    .dataframe tbody tr th {\n",
       "        vertical-align: top;\n",
       "    }\n",
       "\n",
       "    .dataframe thead th {\n",
       "        text-align: right;\n",
       "    }\n",
       "</style>\n",
       "<table border=\"1\" class=\"dataframe\">\n",
       "  <thead>\n",
       "    <tr style=\"text-align: right;\">\n",
       "      <th></th>\n",
       "      <th>Player</th>\n",
       "      <th>SR</th>\n",
       "      <th>Ave</th>\n",
       "      <th>cluster_id</th>\n",
       "      <th>cluster_labels</th>\n",
       "    </tr>\n",
       "  </thead>\n",
       "  <tbody>\n",
       "    <tr>\n",
       "      <th>0</th>\n",
       "      <td>SR Tendulkar (INDIA)</td>\n",
       "      <td>86.23</td>\n",
       "      <td>44.83</td>\n",
       "      <td>2</td>\n",
       "      <td>0</td>\n",
       "    </tr>\n",
       "    <tr>\n",
       "      <th>1</th>\n",
       "      <td>KC Sangakkara (Asia/ICC/SL)</td>\n",
       "      <td>78.86</td>\n",
       "      <td>41.98</td>\n",
       "      <td>0</td>\n",
       "      <td>0</td>\n",
       "    </tr>\n",
       "    <tr>\n",
       "      <th>2</th>\n",
       "      <td>RT Ponting (AUS/ICC)</td>\n",
       "      <td>80.39</td>\n",
       "      <td>42.03</td>\n",
       "      <td>0</td>\n",
       "      <td>0</td>\n",
       "    </tr>\n",
       "    <tr>\n",
       "      <th>3</th>\n",
       "      <td>ST Jayasuriya (Asia/SL)</td>\n",
       "      <td>91.20</td>\n",
       "      <td>32.36</td>\n",
       "      <td>1</td>\n",
       "      <td>1</td>\n",
       "    </tr>\n",
       "    <tr>\n",
       "      <th>4</th>\n",
       "      <td>DPMD Jayawardene (Asia/SL)</td>\n",
       "      <td>78.96</td>\n",
       "      <td>33.37</td>\n",
       "      <td>3</td>\n",
       "      <td>2</td>\n",
       "    </tr>\n",
       "  </tbody>\n",
       "</table>\n",
       "</div>"
      ],
      "text/plain": [
       "                        Player     SR    Ave  cluster_id  cluster_labels\n",
       "0         SR Tendulkar (INDIA)  86.23  44.83           2               0\n",
       "1  KC Sangakkara (Asia/ICC/SL)  78.86  41.98           0               0\n",
       "2         RT Ponting (AUS/ICC)  80.39  42.03           0               0\n",
       "3      ST Jayasuriya (Asia/SL)  91.20  32.36           1               1\n",
       "4   DPMD Jayawardene (Asia/SL)  78.96  33.37           3               2"
      ]
     },
     "execution_count": 49,
     "metadata": {},
     "output_type": "execute_result"
    }
   ],
   "source": [
    "# assign cluster labels\n",
    "retail_df['cluster_labels'] = cluster_labels\n",
    "retail_df.head()"
   ]
  },
  {
   "cell_type": "code",
   "execution_count": 51,
   "metadata": {
    "ExecuteTime": {
     "end_time": "2020-12-13T08:10:02.091023Z",
     "start_time": "2020-12-13T08:10:02.066511Z"
    }
   },
   "outputs": [
    {
     "name": "stdout",
     "output_type": "stream",
     "text": [
      "--------------------------------------------------\n",
      "0\n",
      "--------------------------------------------------\n",
      "                         Player     SR    Ave  cluster_id  cluster_labels\n",
      "0          SR Tendulkar (INDIA)  86.23  44.83           2               0\n",
      "1   KC Sangakkara (Asia/ICC/SL)  78.86  41.98           0               0\n",
      "2          RT Ponting (AUS/ICC)  80.39  42.03           0               0\n",
      "5     Inzamam-ul-Haq (Asia/PAK)  74.24  39.52           0               0\n",
      "6        JH Kallis (Afr/ICC/SA)  72.89  44.36           0               0\n",
      "7       SC Ganguly (Asia/INDIA)  73.70  41.02           0               0\n",
      "8     R Dravid (Asia/ICC/INDIA)  71.24  39.16           0               0\n",
      "9              BC Lara (ICC/WI)  79.51  40.48           0               0\n",
      "10              TM Dilshan (SL)  86.23  39.27           1               0\n",
      "11   Mohammad Yousuf (Asia/PAK)  75.10  41.71           0               0\n",
      "17            CH Gayle (ICC/WI)  85.11  37.33           1               0\n",
      "18            Saeed Anwar (PAK)  80.67  39.21           0               0\n",
      "19           S Chanderpaul (WI)  70.74  41.60           0               0\n",
      "20    Yuvraj Singh (Asia/INDIA)  87.67  36.55           1               0\n",
      "21               DL Haynes (WI)  63.09  41.37           0               0\n",
      "22             MS Atapattu (SL)  67.72  37.57           3               0\n",
      "23               ME Waugh (AUS)  76.90  39.35           0               0\n",
      "26                HH Gibbs (SA)  83.26  36.13           3               0\n",
      "29              MJ Clarke (AUS)  78.98  44.58           0               0\n",
      "32          Javed Miandad (PAK)  67.01  41.70           0               0\n",
      "37            GC Smith (Afr/SA)  80.81  37.98           0               0\n",
      "39               G Kirsten (SA)  72.04  40.95           0               0\n",
      "42            IVA Richards (WI)  90.20  47.00           2               0\n",
      "46             LRPL Taylor (NZ)  82.03  44.12           0               0\n",
      "49          ML Hayden (AUS/ICC)  78.96  43.80           0               0\n",
      "51               DM Jones (AUS)  72.56  44.61           0               0\n",
      "52                DC Boon (AUS)  65.13  37.04           3               0\n",
      "56               RR Sarwan (WI)  75.74  42.67           0               0\n",
      "57         EJG Morgan (ENG/IRE)  88.62  38.73           1               0\n",
      "59              SR Watson (AUS)  90.44  40.54           1               0\n",
      "62               WJ Cronje (SA)  76.47  38.64           0               0\n",
      "63              MJ Guptill (NZ)  87.73  43.30           2               0\n",
      "64             MEK Hussey (AUS)  87.16  48.15           2               0\n",
      "65            RG Sharma (INDIA)  84.56  42.46           0               0\n",
      "66                IR Bell (ENG)  77.16  37.87           0               0\n",
      "67             A Jadeja (INDIA)  69.80  37.47           3               0\n",
      "68              DR Martyn (AUS)  77.73  40.80           0               0\n",
      "70            G Gambhir (INDIA)  85.25  39.68           0               0\n",
      "74            CG Greenidge (WI)  64.92  45.03           0               0\n",
      "75          Misbah-ul-Haq (PAK)  73.75  43.40           0               0\n",
      "77              A Symonds (AUS)  92.44  39.75           1               0\n",
      "--------------------------------------------------\n",
      "1\n",
      "--------------------------------------------------\n",
      "                          Player      SR    Ave  cluster_id  cluster_labels\n",
      "3        ST Jayasuriya (Asia/SL)   91.20  32.36           1               1\n",
      "12        AC Gilchrist (AUS/ICC)   96.94  35.89           1               1\n",
      "24     V Sehwag (Asia/ICC/INDIA)  104.33  35.05           1               1\n",
      "27  Shahid Afridi (Asia/ICC/PAK)  117.00  23.57           1               1\n",
      "50              BB McCullum (NZ)   96.37  30.41           1               1\n",
      "61              SK Raina (INDIA)   93.76  35.46           1               1\n",
      "--------------------------------------------------\n",
      "2\n",
      "--------------------------------------------------\n",
      "                        Player     SR    Ave  cluster_id  cluster_labels\n",
      "4   DPMD Jayawardene (Asia/SL)  78.96  33.37           3               2\n",
      "14        M Azharuddin (INDIA)  74.02  36.92           3               2\n",
      "16            PA de Silva (SL)  81.13  34.90           3               2\n",
      "28         SP Fleming (ICC/NZ)  71.49  32.40           3               2\n",
      "30              SR Waugh (AUS)  75.91  32.90           3               2\n",
      "31            A Ranatunga (SL)  77.90  35.84           3               2\n",
      "33           Younis Khan (PAK)  75.29  31.24           3               2\n",
      "35          Saleem Malik (PAK)  76.41  32.88           3               2\n",
      "36               NJ Astle (NZ)  72.64  34.92           3               2\n",
      "40              A Flower (ZIM)  74.59  35.34           3               2\n",
      "41          Shoaib Malik (PAK)  81.72  35.23           3               2\n",
      "43             GW Flower (ZIM)  67.58  33.52           3               2\n",
      "44            Ijaz Ahmed (PAK)  80.30  32.33           3               2\n",
      "45             AR Border (AUS)  71.42  30.62           3               2\n",
      "47          RB Richardson (WI)  63.74  33.41           3               2\n",
      "48       WU Tharanga (Asia/SL)  75.03  34.30           3               2\n",
      "53              JN Rhodes (SA)  80.90  35.11           3               2\n",
      "54       Mohammad Hafeez (PAK)  75.58  33.01           3               2\n",
      "55           Rameez Raja (PAK)  63.31  32.09           3               2\n",
      "58              CL Hooper (WI)  76.63  35.34           3               2\n",
      "60         Tamim Iqbal (BDESH)  78.31  34.38           3               2\n",
      "69            BRM Taylor (ZIM)  74.47  34.82           3               2\n",
      "71          ADR Campbell (ZIM)  66.18  30.50           3               2\n",
      "72             MN Samuels (WI)  76.24  34.30           3               2\n",
      "73            RS Mahanama (SL)  60.57  29.49           3               2\n",
      "76        PD Collingwood (ENG)  76.98  35.36           3               2\n",
      "78     Abdul Razzaq (Asia/PAK)  81.25  29.70           3               2\n",
      "--------------------------------------------------\n",
      "3\n",
      "--------------------------------------------------\n",
      "                     Player      SR    Ave  cluster_id  cluster_labels\n",
      "13    MS Dhoni (Asia/INDIA)   88.69  51.32           2               3\n",
      "15  AB de Villiers (Afr/SA)  100.25  53.55           2               3\n",
      "25          V Kohli (INDIA)   90.99  53.94           2               3\n",
      "34             HM Amla (SA)   89.05  50.25           2               3\n",
      "38           MG Bevan (AUS)   74.16  53.58           2               3\n"
     ]
    }
   ],
   "source": [
    "for x in [0,1,2,3]:\n",
    "    print('-'*50)\n",
    "    print(x)\n",
    "    print('-'*50)\n",
    "    \n",
    "    print(retail_df[retail_df['cluster_labels']==x])"
   ]
  },
  {
   "cell_type": "code",
   "execution_count": 419,
   "metadata": {},
   "outputs": [
    {
     "data": {
      "text/plain": [
       "<matplotlib.axes._subplots.AxesSubplot at 0x1a5e154438>"
      ]
     },
     "execution_count": 419,
     "metadata": {},
     "output_type": "execute_result"
    },
    {
     "data": {
      "image/png": "[encoded data removed]",
      "text/plain": [
       "<Figure size 432x288 with 1 Axes>"
      ]
     },
     "metadata": {},
     "output_type": "display_data"
    }
   ],
   "source": [
    "# plots\n",
    "sns.boxplot(x='cluster_labels', y='recency', data=grouped_df)"
   ]
  },
  {
   "cell_type": "code",
   "execution_count": 420,
   "metadata": {},
   "outputs": [
    {
     "data": {
      "text/plain": [
       "<matplotlib.axes._subplots.AxesSubplot at 0x1a35360cc0>"
      ]
     },
     "execution_count": 420,
     "metadata": {},
     "output_type": "execute_result"
    },
    {
     "data": {
      "image/png": "[encoded data removed]",
      "text/plain": [
       "<Figure size 432x288 with 1 Axes>"
      ]
     },
     "metadata": {},
     "output_type": "display_data"
    }
   ],
   "source": [
    "# plots\n",
    "sns.boxplot(x='cluster_labels', y='frequency', data=grouped_df)"
   ]
  },
  {
   "cell_type": "code",
   "execution_count": 421,
   "metadata": {},
   "outputs": [
    {
     "data": {
      "text/plain": [
       "<matplotlib.axes._subplots.AxesSubplot at 0x1a48761320>"
      ]
     },
     "execution_count": 421,
     "metadata": {},
     "output_type": "execute_result"
    },
    {
     "data": {
      "image/png": "[encoded data removed]",
      "text/plain": [
       "<Figure size 432x288 with 1 Axes>"
      ]
     },
     "metadata": {},
     "output_type": "display_data"
    }
   ],
   "source": [
    "# plots\n",
    "sns.boxplot(x='cluster_labels', y='amount', data=grouped_df)"
   ]
  }
 ],
 "metadata": {
  "kernelspec": {
   "display_name": "Python 3",
   "language": "python",
   "name": "python3"
  },
  "language_info": {
   "codemirror_mode": {
    "name": "ipython",
    "version": 3
   },
   "file_extension": ".py",
   "mimetype": "text/x-python",
   "name": "python",
   "nbconvert_exporter": "python",
   "pygments_lexer": "ipython3",
   "version": "3.7.6"
  },
  "toc": {
   "base_numbering": 1,
   "nav_menu": {},
   "number_sections": false,
   "sideBar": true,
   "skip_h1_title": false,
   "title_cell": "Table of Contents",
   "title_sidebar": "Contents",
   "toc_cell": false,
   "toc_position": {},
   "toc_section_display": true,
   "toc_window_display": false
  }
 },
 "nbformat": 4,
 "nbformat_minor": 2
}
