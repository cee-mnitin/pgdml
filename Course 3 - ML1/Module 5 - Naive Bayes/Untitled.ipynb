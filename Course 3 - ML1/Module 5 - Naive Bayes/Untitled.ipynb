{
 "cells": [
  {
   "cell_type": "code",
   "execution_count": 1,
   "metadata": {
    "ExecuteTime": {
     "end_time": "2020-10-17T05:23:13.202716Z",
     "start_time": "2020-10-17T05:23:11.311396Z"
    }
   },
   "outputs": [
    {
     "name": "stdout",
     "output_type": "stream",
     "text": [
      "  class                                               text\n",
      "0   Pos   a common complaint amongst film critics is   ...\n",
      "1   Pos   whew   this film oozes energy   the kind of b...\n",
      "2   Pos   steven spielberg s   amistad     which is bas...\n",
      "3   Pos   he has spent his entire life in an awful litt...\n",
      "4   Pos   being that it is a foreign language film with...\n",
      "  class                                               text\n",
      "0   Pos   films adapted from comic books have had plent...\n",
      "1   Pos   every now and then a movie comes along from a...\n",
      "2   Pos   you ve got mail works alot better than it des...\n",
      "3   Pos      jaws   is a rare film that grabs your atte...\n",
      "4   Pos   moviemaking is a lot like being the general m...\n"
     ]
    }
   ],
   "source": [
    "import numpy as np\n",
    "import pandas as pd\n",
    "import sklearn\n",
    "\n",
    "# training data\n",
    "train_docs = pd.read_csv('movie_review_train.csv') \n",
    "train_docs"
   ]
  },
  {
   "cell_type": "code",
   "execution_count": 4,
   "metadata": {
    "ExecuteTime": {
     "end_time": "2020-10-17T05:25:11.650302Z",
     "start_time": "2020-10-17T05:25:11.641129Z"
    }
   },
   "outputs": [],
   "source": [
    "train_docs['label'] = train_docs['class'].map({'Pos':1, 'Neg':0})"
   ]
  },
  {
   "cell_type": "code",
   "execution_count": 10,
   "metadata": {
    "ExecuteTime": {
     "end_time": "2020-10-17T05:29:03.962615Z",
     "start_time": "2020-10-17T05:29:03.954625Z"
    }
   },
   "outputs": [
    {
     "name": "stdout",
     "output_type": "stream",
     "text": [
      "X_train\n",
      "1600\n",
      "y_train\n",
      "1600\n"
     ]
    }
   ],
   "source": [
    "# convert the df to a numpy array \n",
    "train_array = train_docs.values\n",
    "\n",
    "# split X and y\n",
    "X_train = train_array[:,1]\n",
    "y_train = train_array[:,2]\n",
    "y_train = y_train.astype('int') # sklearn needs y as integers\n",
    "\n",
    "print(\"X_train\")\n",
    "print(len(X_train))\n",
    "print(\"y_train\")\n",
    "print(len(y_train))"
   ]
  },
  {
   "cell_type": "code",
   "execution_count": 11,
   "metadata": {
    "ExecuteTime": {
     "end_time": "2020-10-17T05:29:43.303396Z",
     "start_time": "2020-10-17T05:29:42.508650Z"
    }
   },
   "outputs": [
    {
     "name": "stdout",
     "output_type": "stream",
     "text": [
      "1643\n"
     ]
    }
   ],
   "source": [
    "from sklearn.feature_extraction.text import CountVectorizer \n",
    "vec = CountVectorizer(stop_words='english', min_df=.03, max_df=.8)\n",
    "vec.fit(X_train)\n",
    "#vec.vocabulary_\n",
    "#print(vec.get_feature_names())\n",
    "print(len(vec.get_feature_names()))"
   ]
  },
  {
   "cell_type": "code",
   "execution_count": 22,
   "metadata": {
    "ExecuteTime": {
     "end_time": "2020-10-17T05:36:11.666111Z",
     "start_time": "2020-10-17T05:36:10.912133Z"
    }
   },
   "outputs": [],
   "source": [
    "X_transformed = vec.transform(X_train)"
   ]
  },
  {
   "cell_type": "code",
   "execution_count": null,
   "metadata": {},
   "outputs": [],
   "source": []
  },
  {
   "cell_type": "code",
   "execution_count": null,
   "metadata": {},
   "outputs": [],
   "source": [
    "test_docs = pd.read_csv('movie_review_test.csv') \n",
    "test_docs"
   ]
  },
  {
   "cell_type": "code",
   "execution_count": 13,
   "metadata": {
    "ExecuteTime": {
     "end_time": "2020-10-17T05:31:52.329342Z",
     "start_time": "2020-10-17T05:31:52.319675Z"
    }
   },
   "outputs": [
    {
     "name": "stdout",
     "output_type": "stream",
     "text": [
      "X_test\n",
      "400\n",
      "y_test\n",
      "400\n"
     ]
    }
   ],
   "source": [
    "test_docs['label'] = test_docs['class'].map({'Pos':1, 'Neg':0})\n",
    "\n",
    "# convert the df to a numpy array \n",
    "test_array = test_docs.values\n",
    "\n",
    "# split X and y\n",
    "X_test = test_array[:,1]\n",
    "y_test = test_array[:,2]\n",
    "y_test = y_test.astype('int') # sklearn needs y as integers\n",
    "\n",
    "print(\"X_test\")\n",
    "print(len(X_test))\n",
    "print(\"y_test\")\n",
    "print(len(y_test))"
   ]
  },
  {
   "cell_type": "code",
   "execution_count": 24,
   "metadata": {
    "ExecuteTime": {
     "end_time": "2020-10-17T05:36:18.627436Z",
     "start_time": "2020-10-17T05:36:18.437894Z"
    }
   },
   "outputs": [],
   "source": [
    "X_test_transformed = vec.transform(X_test)"
   ]
  },
  {
   "cell_type": "code",
   "execution_count": 18,
   "metadata": {
    "ExecuteTime": {
     "end_time": "2020-10-17T05:33:09.374891Z",
     "start_time": "2020-10-17T05:33:09.369472Z"
    }
   },
   "outputs": [
    {
     "name": "stdout",
     "output_type": "stream",
     "text": [
      "(400, 1643)\n"
     ]
    }
   ],
   "source": [
    "print(tmp.shape)"
   ]
  },
  {
   "cell_type": "code",
   "execution_count": 26,
   "metadata": {
    "ExecuteTime": {
     "end_time": "2020-10-17T05:38:00.601795Z",
     "start_time": "2020-10-17T05:38:00.591544Z"
    }
   },
   "outputs": [],
   "source": [
    "from sklearn.naive_bayes import BernoulliNB\n",
    "\n",
    "# instantiating bernoulli NB class\n",
    "bnb=BernoulliNB()\n",
    "\n",
    "# fitting the model\n",
    "bnb.fit(X_transformed, y_train)\n",
    "\n",
    "# also works\n",
    "# bnb.fit(X_transformed.toarray(), y_train)\n",
    "\n",
    "# predicting probability of test data\n",
    "y_pred_class = bnb.predict(X_test_transformed)"
   ]
  },
  {
   "cell_type": "code",
   "execution_count": 27,
   "metadata": {
    "ExecuteTime": {
     "end_time": "2020-10-17T05:38:03.570304Z",
     "start_time": "2020-10-17T05:38:03.143817Z"
    }
   },
   "outputs": [
    {
     "data": {
      "text/plain": [
       "0.79"
      ]
     },
     "execution_count": 27,
     "metadata": {},
     "output_type": "execute_result"
    }
   ],
   "source": [
    "# accuracy\n",
    "from sklearn import metrics\n",
    "metrics.accuracy_score(y_test, y_pred_class)"
   ]
  },
  {
   "cell_type": "code",
   "execution_count": 28,
   "metadata": {
    "ExecuteTime": {
     "end_time": "2020-10-17T05:38:38.259889Z",
     "start_time": "2020-10-17T05:38:38.251380Z"
    }
   },
   "outputs": [
    {
     "data": {
      "text/plain": [
       "array([[177,  23],\n",
       "       [ 61, 139]])"
      ]
     },
     "execution_count": 28,
     "metadata": {},
     "output_type": "execute_result"
    }
   ],
   "source": [
    "metrics.confusion_matrix(y_test, y_pred_class)"
   ]
  },
  {
   "cell_type": "code",
   "execution_count": null,
   "metadata": {},
   "outputs": [],
   "source": []
  }
 ],
 "metadata": {
  "kernelspec": {
   "display_name": "Python 3",
   "language": "python",
   "name": "python3"
  },
  "language_info": {
   "codemirror_mode": {
    "name": "ipython",
    "version": 3
   },
   "file_extension": ".py",
   "mimetype": "text/x-python",
   "name": "python",
   "nbconvert_exporter": "python",
   "pygments_lexer": "ipython3",
   "version": "3.7.6"
  },
  "toc": {
   "base_numbering": 1,
   "nav_menu": {},
   "number_sections": false,
   "sideBar": true,
   "skip_h1_title": false,
   "title_cell": "Table of Contents",
   "title_sidebar": "Contents",
   "toc_cell": false,
   "toc_position": {},
   "toc_section_display": true,
   "toc_window_display": false
  }
 },
 "nbformat": 4,
 "nbformat_minor": 2
}
