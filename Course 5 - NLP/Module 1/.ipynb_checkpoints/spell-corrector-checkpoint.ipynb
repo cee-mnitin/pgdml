{
 "cells": [
  {
   "cell_type": "code",
   "execution_count": 1,
   "metadata": {
    "ExecuteTime": {
     "end_time": "2021-01-10T13:42:20.466823Z",
     "start_time": "2021-01-10T13:42:20.462615Z"
    }
   },
   "outputs": [],
   "source": [
    "import re\n",
    "from collections import Counter"
   ]
  },
  {
   "cell_type": "code",
   "execution_count": 2,
   "metadata": {
    "ExecuteTime": {
     "end_time": "2021-01-10T13:42:21.379342Z",
     "start_time": "2021-01-10T13:42:21.375911Z"
    }
   },
   "outputs": [],
   "source": [
    "# function to tokenise words\n",
    "def words(document):\n",
    "    \"Convert text to lower case and tokenise the document\"\n",
    "    return re.findall(r'\\w+', document.lower())"
   ]
  },
  {
   "cell_type": "code",
   "execution_count": 3,
   "metadata": {
    "ExecuteTime": {
     "end_time": "2021-01-10T13:42:24.091982Z",
     "start_time": "2021-01-10T13:42:23.607978Z"
    }
   },
   "outputs": [],
   "source": [
    "# create a frequency table of all the words of the document\n",
    "all_words = Counter(words(open('big.txt').read()))"
   ]
  },
  {
   "cell_type": "code",
   "execution_count": 4,
   "metadata": {
    "ExecuteTime": {
     "end_time": "2021-01-10T13:42:29.229487Z",
     "start_time": "2021-01-10T13:42:29.222715Z"
    }
   },
   "outputs": [
    {
     "data": {
      "text/plain": [
       "135"
      ]
     },
     "execution_count": 4,
     "metadata": {},
     "output_type": "execute_result"
    }
   ],
   "source": [
    "# check frequency of a random word, say, 'chair'\n",
    "all_words['chair']"
   ]
  },
  {
   "cell_type": "code",
   "execution_count": 5,
   "metadata": {
    "ExecuteTime": {
     "end_time": "2021-01-10T13:42:30.381100Z",
     "start_time": "2021-01-10T13:42:30.368169Z"
    }
   },
   "outputs": [
    {
     "data": {
      "text/plain": [
       "[('the', 79809),\n",
       " ('of', 40024),\n",
       " ('and', 38312),\n",
       " ('to', 28765),\n",
       " ('in', 22023),\n",
       " ('a', 21124),\n",
       " ('that', 12512),\n",
       " ('he', 12401),\n",
       " ('was', 11410),\n",
       " ('it', 10681)]"
      ]
     },
     "execution_count": 5,
     "metadata": {},
     "output_type": "execute_result"
    }
   ],
   "source": [
    "# look at top 10 frequent words\n",
    "all_words.most_common(10)"
   ]
  },
  {
   "cell_type": "code",
   "execution_count": 6,
   "metadata": {
    "ExecuteTime": {
     "end_time": "2021-01-10T13:42:30.919144Z",
     "start_time": "2021-01-10T13:42:30.910327Z"
    }
   },
   "outputs": [],
   "source": [
    "def edits_one(word):\n",
    "    \"Create all edits that are one edit away from `word`.\"\n",
    "    alphabets    = 'abcdefghijklmnopqrstuvwxyz'\n",
    "    splits     = [(word[:i], word[i:])                   for i in range(len(word) + 1)]\n",
    "    deletes    = [left + right[1:]                       for left, right in splits if right]\n",
    "    inserts    = [left + c + right                       for left, right in splits for c in alphabets]\n",
    "    replaces   = [left + c + right[1:]                   for left, right in splits if right for c in alphabets]\n",
    "    transposes = [left + right[1] + right[0] + right[2:] for left, right in splits if len(right)>1]\n",
    "    return set(deletes + inserts + replaces + transposes)"
   ]
  },
  {
   "cell_type": "code",
   "execution_count": 7,
   "metadata": {
    "ExecuteTime": {
     "end_time": "2021-01-10T13:42:31.649009Z",
     "start_time": "2021-01-10T13:42:31.645490Z"
    }
   },
   "outputs": [],
   "source": [
    "def edits_two(word):\n",
    "    \"Create all edits that are two edits away from `word`.\"\n",
    "    return (e2 for e1 in edits_one(word) for e2 in edits_one(e1))"
   ]
  },
  {
   "cell_type": "code",
   "execution_count": 8,
   "metadata": {
    "ExecuteTime": {
     "end_time": "2021-01-10T13:42:32.446879Z",
     "start_time": "2021-01-10T13:42:32.443416Z"
    }
   },
   "outputs": [],
   "source": [
    "def known(words):\n",
    "    \"The subset of `words` that appear in the `all_words`.\"\n",
    "    return set(word for word in words if word in all_words)"
   ]
  },
  {
   "cell_type": "code",
   "execution_count": 9,
   "metadata": {
    "ExecuteTime": {
     "end_time": "2021-01-10T13:42:33.222648Z",
     "start_time": "2021-01-10T13:42:33.218253Z"
    }
   },
   "outputs": [],
   "source": [
    "def possible_corrections(word):\n",
    "    \"Generate possible spelling corrections for word.\"\n",
    "    return (known([word]) or known(edits_one(word)) or known(edits_two(word)) or [word])"
   ]
  },
  {
   "cell_type": "code",
   "execution_count": 10,
   "metadata": {
    "ExecuteTime": {
     "end_time": "2021-01-10T13:42:33.663968Z",
     "start_time": "2021-01-10T13:42:33.658367Z"
    }
   },
   "outputs": [],
   "source": [
    "def prob(word, N=sum(all_words.values())): \n",
    "    \"Probability of `word`: Number of appearances of 'word' / total number of tokens\"\n",
    "    return all_words[word] / N"
   ]
  },
  {
   "cell_type": "code",
   "execution_count": 13,
   "metadata": {
    "ExecuteTime": {
     "end_time": "2021-01-10T13:43:42.437403Z",
     "start_time": "2021-01-10T13:43:42.432921Z"
    }
   },
   "outputs": [
    {
     "name": "stdout",
     "output_type": "stream",
     "text": [
      "336\n",
      "{'emfgasize', 'emfasqze', 'emfasoize', 'etfasize', 'emfasizce', 'emfasiqze', 'emfasirze', 'emfaysize', 'emflsize', 'emfdsize', 'emfasioze', 'ekfasize', 'vmfasize', 'emdfasize', 'emaasize', 'emfysize', 'emfacize', 'emfasizk', 'emlasize', 'emfasire', 'emfasise', 'emfausize', 'emfasizew', 'emfaaize', 'emyfasize', 'emfasiez', 'emfaeize', 'efmasize', 'emvfasize', 'exmfasize', 'eamfasize', 'demfasize', 'emfasjze', 'emfarize', 'emfasdize', 'emfuasize', 'yemfasize', 'emfaasize', 'lmfasize', 'emfasizeq', 'emfmsize', 'emfasvze', 'emifasize', 'emfassize', 'emfaslze', 'emfrasize', 'emfasizex', 'emsasize', 'emfpsize', 'emsfasize', 'emffasize', 'emfaxize', 'emfosize', 'emfasnize', 'emfasizv', 'emxasize', 'emfasizp', 'omfasize', 'emfarsize', 'emfasiyze', 'remfasize', 'memfasize', 'emfabize', 'emfyasize', 'emfaisize', 'empasize', 'emfgsize', 'emfasixze', 'tmfasize', 'emfasidze', 'cemfasize', 'emfasizeu', 'fmfasize', 'emfamize', 'emgfasize', 'emfasizem', 'emfasizq', 'emfafsize', 'ecfasize', 'embasize', 'emfasizae', 'nmfasize', 'emfasmze', 'eqmfasize', 'emfapize', 'emfnsize', 'emfqasize', 'emfasizqe', 'pmfasize', 'emfasijze', 'emfasizx', 'emgasize', 'emfasized', 'emfasizle', 'emfaswze', 'hmfasize', 'emfwsize', 'emfazsize', 'emfasivze', 'cmfasize', 'emfaswize', 'emfesize', 'emfasizer', 'emefasize', 'emfasizge', 'emfsize', 'emuasize', 'emfasizre', 'emfasizek', 'emjasize', 'emfasizo', 'emeasize', 'emfasiwze', 'emfzsize', 'emfxsize', 'dmfasize', 'emoasize', 'emfascize', 'emfjsize', 'emfalize', 'emfasizn', 'emfasice', 'emwasize', 'emfasizye', 'emftsize', 'emfasizb', 'emfasizs', 'emfasze', 'emfaspze', 'egfasize', 'emfanize', 'emfastize', 'emfwasize', 'emfsasize', 'emfasizez', 'exfasize', 'eufasize', 'ermfasize', 'emfaszize', 'lemfasize', 'emfasdze', 'eemfasize', 'emfasizse', 'emfcasize', 'emfasimze', 'emfasrze', 'empfasize', 'emfasizve', 'jmfasize', 'emfasiwe', 'emfasizl', 'temfasize', 'emfasicze', 'emftasize', 'emfasxize', 'emfasizxe', 'emfabsize', 'emfdasize', 'emffsize', 'emfasinze', 'emiasize', 'emfasizi', 'emfasizie', 'emqasize', 'effasize', 'emfmasize', 'emfasife', 'emfasizeh', 'imfasize', 'emfaxsize', 'emdasize', 'emfaize', 'emrasize', 'emfaqize', 'emfisize', 'eumfasize', 'emfajsize', 'emfasizet', 'emfasibze', 'emfascze', 'emfasizeb', 'emfatize', 'emfaksize', 'elfasize', 'emfamsize', 'emfjasize', 'aemfasize', 'emfasikze', 'emfavize', 'efmfasize', 'ebmfasize', 'ekmfasize', 'emufasize', 'emfasizeo', 'emfasuze', 'iemfasize', 'emfasgze', 'zemfasize', 'amfasize', 'gemfasize', 'emfasizj', 'emfasiqe', 'emfxasize', 'emfadize', 'emfasuize', 'emfasmize', 'mmfasize', 'gmfasize', 'emfasizep', 'xemfasize', 'emfasiza', 'emfasiee', 'mfasize', 'emfasizde', 'emfasizec', 'emfpasize', 'emflasize', 'emfajize', 'emfasizpe', 'wmfasize', 'uemfasize', 'emqfasize', 'emfasizbe', 'emfasigze', 'wemfasize', 'bmfasize', 'emfkasize', 'emfusize', 'nemfasize', 'emmfasize', 'emfasoze', 'emfasizen', 'emfasizef', 'efasize', 'emfasizc', 'emfatsize', 'emfasige', 'emnasize', 'emfasizwe', 'emafasize', 'emfasaize', 'emfasizze', 'emfasibe', 'emfasizu', 'eafasize', 'edfasize', 'emfalsize', 'emfaskize', 'emfaside', 'ezfasize', 'emfasipze', 'emfakize', 'esmfasize', 'emfasbize', 'emfasihze', 'emfagsize', 'emfasike', 'emfasilze', 'emfahize', 'emfasizke', 'emmasize', 'kemfasize', 'evmfasize', 'emwfasize', 'rmfasize', 'emfasixe', 'emkasize', 'emfassze', 'ebfasize', 'emfansize', 'emfasbze', 'emtasize', 'emfafize', 'qemfasize', 'emfaiize', 'edmfasize', 'emfrsize', 'jemfasize', 'ymfasize', 'emfssize', 'emfasfze', 'emfasizue', 'emfasizme', 'eefasize', 'ehmfasize', 'emfasizf', 'emfasqize', 'emfasizey', 'emkfasize', 'elmfasize', 'emfasizh', 'emnfasize', 'emfaslize', 'emfasizje', 'emfoasize', 'emfasizei', 'emfaesize', 'emfasiaze', 'qmfasize', 'emfasizd', 'emfhasize', 'emfasie', 'zmfasize', 'emfasite', 'emfasitze', 'emafsize', 'emfasxze', 'emfazize', 'emfksize', 'emfasipe', 'emfnasize', 'emfasizeg', 'emfasiie', 'enmfasize', 'emfasizg', 'emfvsize', 'emfasiuze', 'emfawsize', 'emhfasize', 'emfeasize', 'emfasieze', 'epmfasize', 'emfadsize', 'emvasize', 'emfasizte', 'emzfasize', 'emfasine', 'emfasnze', 'eqfasize', 'emfaseze', 'emfayize', 'ewfasize', 'emlfasize', 'emfaosize', 'evfasize', 'pemfasize', 'emfacsize', 'emfauize', 'erfasize', 'emxfasize', 'egmfasize', 'emofasize', 'xmfasize', 'emhasize', 'emfasaze', 'emfasizm', 'oemfasize', 'emfasrize', 'epfasize', 'emfasvize', 'emfaszze', 'emrfasize', 'emfasiae', 'emfasjize', 'emfasisze', 'emfasizes', 'emfasfize', 'ehfasize', 'emfsaize', 'emfasizhe', 'emfaszie', 'emfasiz', 'emfasizej', 'hemfasize', 'emfcsize', 'emfasizea', 'emcasize', 'emfasizel', 'eyfasize', 'emfasizt', 'smfasize', 'emfbsize', 'enfasize', 'emfawize', 'ezmfasize', 'vemfasize', 'eifasize', 'etmfasize', 'emfasizfe', 'eymfasize', 'emfasive', 'emfasioe', 'emfiasize', 'emfaoize', 'emfzasize', 'emfasyize', 'emfashize', 'umfasize', 'emfashze', 'emfasizev', 'embfasize', 'emfasizr', 'emfasile', 'emfavsize', 'ejmfasize', 'emzasize', 'emfaspize', 'ecmfasize', 'emyasize', 'emfasiize', 'ejfasize', 'emfbasize', 'emasize', 'emfhsize', 'emfaseize', 'emfasize', 'emfapsize', 'emfasizoe', 'emfasyze', 'emfagize', 'emcfasize', 'kmfasize', 'emfasizw', 'eomfasize', 'femfasize', 'emfastze', 'semfasize', 'emfasgize', 'emjfasize', 'emfasizy', 'eofasize', 'emfaqsize', 'esfasize', 'emfasizz', 'emfasime', 'emtfasize', 'ewmfasize', 'emfasije', 'emfasihe', 'emfasizne', 'emfasiue', 'emfasifze', 'bemfasize', 'emfaskze', 'emfqsize', 'emfaisze', 'mefasize', 'emfvasize', 'emfahsize', 'eimfasize', 'emfasizee', 'emfasiye'}\n"
     ]
    }
   ],
   "source": [
    "print(len(set(edits_one(\"monney\"))))\n",
    "print(edits_one(\"emfasize\"))"
   ]
  },
  {
   "cell_type": "code",
   "execution_count": 12,
   "metadata": {
    "ExecuteTime": {
     "end_time": "2021-01-10T13:43:33.611623Z",
     "start_time": "2021-01-10T13:43:33.605515Z"
    }
   },
   "outputs": [
    {
     "name": "stdout",
     "output_type": "stream",
     "text": [
      "set()\n"
     ]
    }
   ],
   "source": [
    "print(known(edits_one(\"monney\")))"
   ]
  },
  {
   "cell_type": "code",
   "execution_count": null,
   "metadata": {},
   "outputs": [],
   "source": [
    "# Let's look at words that are two edits away\n",
    "print(len(set(edits_two(\"monney\"))))\n",
    "print(known(edits_one(\"monney\")))"
   ]
  },
  {
   "cell_type": "code",
   "execution_count": 11,
   "metadata": {
    "ExecuteTime": {
     "end_time": "2021-01-10T13:42:44.580910Z",
     "start_time": "2021-01-10T13:42:44.482180Z"
    }
   },
   "outputs": [
    {
     "name": "stdout",
     "output_type": "stream",
     "text": [
      "{'emphasize'}\n"
     ]
    }
   ],
   "source": [
    "# Let's look at possible corrections of a word\n",
    "print(possible_corrections(\"monney\"))"
   ]
  },
  {
   "cell_type": "code",
   "execution_count": null,
   "metadata": {},
   "outputs": [],
   "source": [
    "# Let's look at probability of a word\n",
    "print(prob(\"money\"))\n",
    "print(prob(\"monkey\"))"
   ]
  },
  {
   "cell_type": "code",
   "execution_count": null,
   "metadata": {},
   "outputs": [],
   "source": [
    "def spell_check(word):\n",
    "    \"Print the most probable spelling correction for `word` out of all the `possible_corrections`\"\n",
    "    correct_word = max(possible_corrections(word), key=prob)\n",
    "    if correct_word != word:\n",
    "        return \"Did you mean \" + correct_word + \"?\"\n",
    "    else:\n",
    "        return \"Correct spelling.\""
   ]
  },
  {
   "cell_type": "code",
   "execution_count": null,
   "metadata": {},
   "outputs": [],
   "source": [
    "# test spell check\n",
    "print(spell_check(\"monney\"))"
   ]
  }
 ],
 "metadata": {
  "kernelspec": {
   "display_name": "Python 3",
   "language": "python",
   "name": "python3"
  },
  "language_info": {
   "codemirror_mode": {
    "name": "ipython",
    "version": 3
   },
   "file_extension": ".py",
   "mimetype": "text/x-python",
   "name": "python",
   "nbconvert_exporter": "python",
   "pygments_lexer": "ipython3",
   "version": "3.7.6"
  },
  "toc": {
   "base_numbering": 1,
   "nav_menu": {},
   "number_sections": false,
   "sideBar": true,
   "skip_h1_title": false,
   "title_cell": "Table of Contents",
   "title_sidebar": "Contents",
   "toc_cell": false,
   "toc_position": {},
   "toc_section_display": true,
   "toc_window_display": false
  }
 },
 "nbformat": 4,
 "nbformat_minor": 2
}
