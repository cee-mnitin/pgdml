{
 "cells": [
  {
   "cell_type": "markdown",
   "metadata": {},
   "source": [
    "## Assignment - Syntactic Analysis"
   ]
  },
  {
   "cell_type": "markdown",
   "metadata": {},
   "source": [
    "### Problem Statement - HMMs and Viterbi algorithm for POS tagging\n",
    "\n",
    "#### In this assignment, you need to modify the Viterbi algorithm to solve the problem of unknown words using at least two techniques. You need to accomplish the following in this assignment:\n",
    "\n",
    "- Write the vanilla Viterbi algorithm for assigning POS tags (i.e. without dealing with unknown words) \n",
    "- Solve the problem of unknown words using at least two techniques. These techniques can use any of the approaches discussed in the class - lexicon, rule-based, probabilistic etc. Note that to implement these techniques, you can either write separate functions and call them from the main Viterbi algorithm, or modify the Viterbi algorithm, or both.\n",
    "- Compare the tagging accuracy after making these modifications with the vanilla Viterbi algorithm.\n",
    "- List down at least three cases from the sample test file (i.e. unknown word-tag pairs) which were incorrectly tagged by the original Viterbi POS tagger and got corrected after your modifications."
   ]
  },
  {
   "cell_type": "markdown",
   "metadata": {},
   "source": [
    "### Import Libraries"
   ]
  },
  {
   "cell_type": "code",
   "execution_count": 1,
   "metadata": {
    "ExecuteTime": {
     "end_time": "2021-01-31T05:54:59.302393Z",
     "start_time": "2021-01-31T05:54:58.590360Z"
    }
   },
   "outputs": [],
   "source": [
    "#Importing libraries\n",
    "import nltk, re, pprint\n",
    "import numpy as np\n",
    "import pandas as pd\n",
    "import requests\n",
    "import matplotlib.pyplot as plt\n",
    "import seaborn as sns\n",
    "import pprint, time\n",
    "import random\n",
    "from sklearn.model_selection import train_test_split\n",
    "from sklearn.metrics import accuracy_score\n",
    "from nltk.tokenize import word_tokenize\n",
    "\n",
    "nltk.download('treebank')\n",
    "nltk.download('universal_tagset')\n",
    "nltk.download('averaged_perceptron_tagger')"
   ]
  },
  {
   "cell_type": "markdown",
   "metadata": {},
   "source": [
    "### Data Loading and Preparation"
   ]
  },
  {
   "cell_type": "code",
   "execution_count": 2,
   "metadata": {
    "ExecuteTime": {
     "end_time": "2021-01-31T05:55:02.466520Z",
     "start_time": "2021-01-31T05:54:59.304621Z"
    }
   },
   "outputs": [
    {
     "name": "stdout",
     "output_type": "stream",
     "text": [
      "[[('Pierre', 'NOUN'),\n",
      "  ('Vinken', 'NOUN'),\n",
      "  (',', '.'),\n",
      "  ('61', 'NUM'),\n",
      "  ('years', 'NOUN'),\n",
      "  ('old', 'ADJ'),\n",
      "  (',', '.'),\n",
      "  ('will', 'VERB'),\n",
      "  ('join', 'VERB'),\n",
      "  ('the', 'DET'),\n",
      "  ('board', 'NOUN'),\n",
      "  ('as', 'ADP'),\n",
      "  ('a', 'DET'),\n",
      "  ('nonexecutive', 'ADJ'),\n",
      "  ('director', 'NOUN'),\n",
      "  ('Nov.', 'NOUN'),\n",
      "  ('29', 'NUM'),\n",
      "  ('.', '.')]]\n"
     ]
    }
   ],
   "source": [
    "# reading the Treebank tagged sentences\n",
    "nltk_data = list(nltk.corpus.treebank.tagged_sents(tagset='universal'))\n",
    "pprint.pprint(nltk_data[:1])"
   ]
  },
  {
   "cell_type": "code",
   "execution_count": 3,
   "metadata": {
    "ExecuteTime": {
     "end_time": "2021-01-31T05:55:02.476433Z",
     "start_time": "2021-01-31T05:55:02.469667Z"
    }
   },
   "outputs": [
    {
     "name": "stdout",
     "output_type": "stream",
     "text": [
      "Sentence Count: 11\n",
      "['Android is a mobile operating system developed by Google.', 'Android has been the best-selling OS worldwide on smartphones since 2011 and on tablets since 2013.']\n"
     ]
    }
   ],
   "source": [
    "# Loading Test Sentences\n",
    "with open('Test_sentences.txt', 'r') as f:\n",
    "    test_sentences = f.read().rstrip().split('\\n')\n",
    "print(f\"Sentence Count: {len(test_sentences)}\")\n",
    "print(test_sentences[0:2])"
   ]
  },
  {
   "cell_type": "code",
   "execution_count": 4,
   "metadata": {
    "ExecuteTime": {
     "end_time": "2021-01-31T05:55:02.630673Z",
     "start_time": "2021-01-31T05:55:02.478710Z"
    }
   },
   "outputs": [
    {
     "name": "stdout",
     "output_type": "stream",
     "text": [
      "Size of Train set: 3718, Test Set: 196\n"
     ]
    }
   ],
   "source": [
    "# Split data into train and test sets\n",
    "train_set, test_set = train_test_split(nltk_data,test_size=0.05, random_state=42)\n",
    "print(f\"Size of Train set: {len(train_set)}, Test Set: {len(test_set)}\")"
   ]
  },
  {
   "cell_type": "code",
   "execution_count": 5,
   "metadata": {
    "ExecuteTime": {
     "end_time": "2021-01-31T05:55:02.767389Z",
     "start_time": "2021-01-31T05:55:02.638894Z"
    }
   },
   "outputs": [
    {
     "name": "stdout",
     "output_type": "stream",
     "text": [
      "Count of train_tagged_words: 95589, test_tagged_words: 5087, tokens: 95589, vocab: 12109 and Tags: 12\n"
     ]
    }
   ],
   "source": [
    "# Getting list of tagged words\n",
    "train_tagged_words = [tup for sent in train_set for tup in sent]\n",
    "test_tagged_words = [tup for sent in test_set for tup in sent]\n",
    "# tokens \n",
    "tokens = [pair[0] for pair in train_tagged_words]\n",
    "# vocabulary\n",
    "V = set(tokens)\n",
    "# number of tags\n",
    "T = set([pair[1] for pair in train_tagged_words])\n",
    "print(f\"Count of train_tagged_words: {len(train_tagged_words)}, test_tagged_words: {len(test_tagged_words)}, tokens: {len(tokens)}, vocab: {len(V)} and Tags: {len(T)}\")"
   ]
  },
  {
   "cell_type": "markdown",
   "metadata": {},
   "source": [
    "##  POS Tagging Algorithm - HMM\n",
    "### Emission Probabilities"
   ]
  },
  {
   "cell_type": "code",
   "execution_count": 6,
   "metadata": {
    "ExecuteTime": {
     "end_time": "2021-01-31T05:55:02.903239Z",
     "start_time": "2021-01-31T05:55:02.769382Z"
    }
   },
   "outputs": [],
   "source": [
    "# computing P(w/t) and storing in T x V matrix\n",
    "t = len(T)\n",
    "v = len(V)\n",
    "w_given_t = np.zeros((t, v))"
   ]
  },
  {
   "cell_type": "code",
   "execution_count": 7,
   "metadata": {
    "ExecuteTime": {
     "end_time": "2021-01-31T05:55:03.004022Z",
     "start_time": "2021-01-31T05:55:02.912692Z"
    }
   },
   "outputs": [],
   "source": [
    "# compute word given tag: Emission Probability\n",
    "def word_given_tag(word, tag, train_bag = train_tagged_words):\n",
    "    tag_list = [pair for pair in train_bag if pair[1]==tag]\n",
    "    count_tag = len(tag_list)\n",
    "    w_given_tag_list = [pair[0] for pair in tag_list if pair[0]==word]\n",
    "    count_w_given_tag = len(w_given_tag_list)\n",
    "    return (count_w_given_tag, count_tag)"
   ]
  },
  {
   "cell_type": "markdown",
   "metadata": {},
   "source": [
    "### Transition Probabilities"
   ]
  },
  {
   "cell_type": "code",
   "execution_count": 8,
   "metadata": {
    "ExecuteTime": {
     "end_time": "2021-01-31T05:55:03.126932Z",
     "start_time": "2021-01-31T05:55:03.007074Z"
    }
   },
   "outputs": [],
   "source": [
    "# compute tag given tag: tag2(t2) given tag1 (t1), i.e. Transition Probability\n",
    "\n",
    "def t2_given_t1(t2, t1, train_bag = train_tagged_words):\n",
    "    tags = [pair[1] for pair in train_bag]\n",
    "    count_t1 = len([t for t in tags if t==t1])\n",
    "    count_t2_t1 = 0\n",
    "    for index in range(len(tags)-1):\n",
    "        if tags[index]==t1 and tags[index+1] == t2:\n",
    "            count_t2_t1 += 1\n",
    "    return (count_t2_t1, count_t1)"
   ]
  },
  {
   "cell_type": "code",
   "execution_count": 9,
   "metadata": {
    "ExecuteTime": {
     "end_time": "2021-01-31T05:55:07.725564Z",
     "start_time": "2021-01-31T05:55:03.139029Z"
    }
   },
   "outputs": [
    {
     "data": {
      "text/html": [
       "<div>\n",
       "<style scoped>\n",
       "    .dataframe tbody tr th:only-of-type {\n",
       "        vertical-align: middle;\n",
       "    }\n",
       "\n",
       "    .dataframe tbody tr th {\n",
       "        vertical-align: top;\n",
       "    }\n",
       "\n",
       "    .dataframe thead th {\n",
       "        text-align: right;\n",
       "    }\n",
       "</style>\n",
       "<table border=\"1\" class=\"dataframe\">\n",
       "  <thead>\n",
       "    <tr style=\"text-align: right;\">\n",
       "      <th></th>\n",
       "      <th>ADJ</th>\n",
       "      <th>ADP</th>\n",
       "      <th>VERB</th>\n",
       "      <th>.</th>\n",
       "      <th>NUM</th>\n",
       "      <th>ADV</th>\n",
       "      <th>PRON</th>\n",
       "      <th>PRT</th>\n",
       "      <th>X</th>\n",
       "      <th>DET</th>\n",
       "      <th>CONJ</th>\n",
       "      <th>NOUN</th>\n",
       "    </tr>\n",
       "  </thead>\n",
       "  <tbody>\n",
       "    <tr>\n",
       "      <th>ADJ</th>\n",
       "      <td>0.066645</td>\n",
       "      <td>0.078986</td>\n",
       "      <td>0.012342</td>\n",
       "      <td>0.065328</td>\n",
       "      <td>0.020405</td>\n",
       "      <td>0.004608</td>\n",
       "      <td>0.000658</td>\n",
       "      <td>0.010861</td>\n",
       "      <td>0.021392</td>\n",
       "      <td>0.005101</td>\n",
       "      <td>0.016949</td>\n",
       "      <td>0.696725</td>\n",
       "    </tr>\n",
       "    <tr>\n",
       "      <th>ADP</th>\n",
       "      <td>0.105297</td>\n",
       "      <td>0.017228</td>\n",
       "      <td>0.008240</td>\n",
       "      <td>0.039486</td>\n",
       "      <td>0.062921</td>\n",
       "      <td>0.013162</td>\n",
       "      <td>0.069128</td>\n",
       "      <td>0.001498</td>\n",
       "      <td>0.034029</td>\n",
       "      <td>0.326378</td>\n",
       "      <td>0.000856</td>\n",
       "      <td>0.321776</td>\n",
       "    </tr>\n",
       "    <tr>\n",
       "      <th>VERB</th>\n",
       "      <td>0.064649</td>\n",
       "      <td>0.090493</td>\n",
       "      <td>0.169189</td>\n",
       "      <td>0.035312</td>\n",
       "      <td>0.022817</td>\n",
       "      <td>0.082577</td>\n",
       "      <td>0.036244</td>\n",
       "      <td>0.031121</td>\n",
       "      <td>0.218005</td>\n",
       "      <td>0.133101</td>\n",
       "      <td>0.005588</td>\n",
       "      <td>0.110904</td>\n",
       "    </tr>\n",
       "    <tr>\n",
       "      <th>.</th>\n",
       "      <td>0.044972</td>\n",
       "      <td>0.091114</td>\n",
       "      <td>0.088505</td>\n",
       "      <td>0.093812</td>\n",
       "      <td>0.080500</td>\n",
       "      <td>0.052078</td>\n",
       "      <td>0.065389</td>\n",
       "      <td>0.002339</td>\n",
       "      <td>0.026623</td>\n",
       "      <td>0.173502</td>\n",
       "      <td>0.057924</td>\n",
       "      <td>0.223152</td>\n",
       "    </tr>\n",
       "    <tr>\n",
       "      <th>NUM</th>\n",
       "      <td>0.034196</td>\n",
       "      <td>0.034790</td>\n",
       "      <td>0.017544</td>\n",
       "      <td>0.118347</td>\n",
       "      <td>0.184062</td>\n",
       "      <td>0.002974</td>\n",
       "      <td>0.001487</td>\n",
       "      <td>0.027951</td>\n",
       "      <td>0.206661</td>\n",
       "      <td>0.003271</td>\n",
       "      <td>0.013381</td>\n",
       "      <td>0.355338</td>\n",
       "    </tr>\n",
       "    <tr>\n",
       "      <th>ADV</th>\n",
       "      <td>0.130233</td>\n",
       "      <td>0.119601</td>\n",
       "      <td>0.344518</td>\n",
       "      <td>0.136877</td>\n",
       "      <td>0.030565</td>\n",
       "      <td>0.081063</td>\n",
       "      <td>0.015615</td>\n",
       "      <td>0.013621</td>\n",
       "      <td>0.023588</td>\n",
       "      <td>0.067110</td>\n",
       "      <td>0.006312</td>\n",
       "      <td>0.030897</td>\n",
       "    </tr>\n",
       "    <tr>\n",
       "      <th>PRON</th>\n",
       "      <td>0.074866</td>\n",
       "      <td>0.022918</td>\n",
       "      <td>0.480901</td>\n",
       "      <td>0.041253</td>\n",
       "      <td>0.007257</td>\n",
       "      <td>0.033995</td>\n",
       "      <td>0.008021</td>\n",
       "      <td>0.012223</td>\n",
       "      <td>0.092819</td>\n",
       "      <td>0.009549</td>\n",
       "      <td>0.004966</td>\n",
       "      <td>0.211230</td>\n",
       "    </tr>\n",
       "    <tr>\n",
       "      <th>PRT</th>\n",
       "      <td>0.086303</td>\n",
       "      <td>0.021576</td>\n",
       "      <td>0.402746</td>\n",
       "      <td>0.041517</td>\n",
       "      <td>0.058516</td>\n",
       "      <td>0.010134</td>\n",
       "      <td>0.018960</td>\n",
       "      <td>0.001635</td>\n",
       "      <td>0.013403</td>\n",
       "      <td>0.100360</td>\n",
       "      <td>0.002288</td>\n",
       "      <td>0.242563</td>\n",
       "    </tr>\n",
       "    <tr>\n",
       "      <th>X</th>\n",
       "      <td>0.016571</td>\n",
       "      <td>0.142925</td>\n",
       "      <td>0.203633</td>\n",
       "      <td>0.163799</td>\n",
       "      <td>0.002709</td>\n",
       "      <td>0.025175</td>\n",
       "      <td>0.056087</td>\n",
       "      <td>0.185787</td>\n",
       "      <td>0.076482</td>\n",
       "      <td>0.055131</td>\n",
       "      <td>0.010357</td>\n",
       "      <td>0.061345</td>\n",
       "    </tr>\n",
       "    <tr>\n",
       "      <th>DET</th>\n",
       "      <td>0.204973</td>\n",
       "      <td>0.009054</td>\n",
       "      <td>0.038387</td>\n",
       "      <td>0.017986</td>\n",
       "      <td>0.021970</td>\n",
       "      <td>0.012313</td>\n",
       "      <td>0.003742</td>\n",
       "      <td>0.000241</td>\n",
       "      <td>0.045509</td>\n",
       "      <td>0.005311</td>\n",
       "      <td>0.000483</td>\n",
       "      <td>0.640029</td>\n",
       "    </tr>\n",
       "    <tr>\n",
       "      <th>CONJ</th>\n",
       "      <td>0.116847</td>\n",
       "      <td>0.054435</td>\n",
       "      <td>0.153918</td>\n",
       "      <td>0.034256</td>\n",
       "      <td>0.042234</td>\n",
       "      <td>0.055842</td>\n",
       "      <td>0.058658</td>\n",
       "      <td>0.004693</td>\n",
       "      <td>0.007977</td>\n",
       "      <td>0.121539</td>\n",
       "      <td>0.000469</td>\n",
       "      <td>0.349132</td>\n",
       "    </tr>\n",
       "    <tr>\n",
       "      <th>NOUN</th>\n",
       "      <td>0.012289</td>\n",
       "      <td>0.176275</td>\n",
       "      <td>0.147978</td>\n",
       "      <td>0.239179</td>\n",
       "      <td>0.009627</td>\n",
       "      <td>0.016884</td>\n",
       "      <td>0.004923</td>\n",
       "      <td>0.043832</td>\n",
       "      <td>0.029136</td>\n",
       "      <td>0.013310</td>\n",
       "      <td>0.041936</td>\n",
       "      <td>0.264632</td>\n",
       "    </tr>\n",
       "  </tbody>\n",
       "</table>\n",
       "</div>"
      ],
      "text/plain": [
       "           ADJ       ADP      VERB         .       NUM       ADV      PRON  \\\n",
       "ADJ   0.066645  0.078986  0.012342  0.065328  0.020405  0.004608  0.000658   \n",
       "ADP   0.105297  0.017228  0.008240  0.039486  0.062921  0.013162  0.069128   \n",
       "VERB  0.064649  0.090493  0.169189  0.035312  0.022817  0.082577  0.036244   \n",
       ".     0.044972  0.091114  0.088505  0.093812  0.080500  0.052078  0.065389   \n",
       "NUM   0.034196  0.034790  0.017544  0.118347  0.184062  0.002974  0.001487   \n",
       "ADV   0.130233  0.119601  0.344518  0.136877  0.030565  0.081063  0.015615   \n",
       "PRON  0.074866  0.022918  0.480901  0.041253  0.007257  0.033995  0.008021   \n",
       "PRT   0.086303  0.021576  0.402746  0.041517  0.058516  0.010134  0.018960   \n",
       "X     0.016571  0.142925  0.203633  0.163799  0.002709  0.025175  0.056087   \n",
       "DET   0.204973  0.009054  0.038387  0.017986  0.021970  0.012313  0.003742   \n",
       "CONJ  0.116847  0.054435  0.153918  0.034256  0.042234  0.055842  0.058658   \n",
       "NOUN  0.012289  0.176275  0.147978  0.239179  0.009627  0.016884  0.004923   \n",
       "\n",
       "           PRT         X       DET      CONJ      NOUN  \n",
       "ADJ   0.010861  0.021392  0.005101  0.016949  0.696725  \n",
       "ADP   0.001498  0.034029  0.326378  0.000856  0.321776  \n",
       "VERB  0.031121  0.218005  0.133101  0.005588  0.110904  \n",
       ".     0.002339  0.026623  0.173502  0.057924  0.223152  \n",
       "NUM   0.027951  0.206661  0.003271  0.013381  0.355338  \n",
       "ADV   0.013621  0.023588  0.067110  0.006312  0.030897  \n",
       "PRON  0.012223  0.092819  0.009549  0.004966  0.211230  \n",
       "PRT   0.001635  0.013403  0.100360  0.002288  0.242563  \n",
       "X     0.185787  0.076482  0.055131  0.010357  0.061345  \n",
       "DET   0.000241  0.045509  0.005311  0.000483  0.640029  \n",
       "CONJ  0.004693  0.007977  0.121539  0.000469  0.349132  \n",
       "NOUN  0.043832  0.029136  0.013310  0.041936  0.264632  "
      ]
     },
     "execution_count": 9,
     "metadata": {},
     "output_type": "execute_result"
    }
   ],
   "source": [
    "# creating t x t transition matrix of tags\n",
    "# each column is t2, each row is t1\n",
    "# thus M(i, j) represents P(tj given ti)\n",
    "\n",
    "tags_matrix = np.zeros((len(T), len(T)), dtype='float32')\n",
    "for i, t1 in enumerate(list(T)):\n",
    "    for j, t2 in enumerate(list(T)): \n",
    "        tags_matrix[i, j] = t2_given_t1(t2, t1)[0]/t2_given_t1(t2, t1)[1]\n",
    "\n",
    "# convert the matrix to a df for better readability\n",
    "tags_df = pd.DataFrame(tags_matrix, columns = list(T), index=list(T))\n",
    "tags_df"
   ]
  },
  {
   "cell_type": "code",
   "execution_count": 10,
   "metadata": {
    "ExecuteTime": {
     "end_time": "2021-01-31T05:55:08.009554Z",
     "start_time": "2021-01-31T05:55:07.728304Z"
    }
   },
   "outputs": [
    {
     "data": {
      "image/png": "[encoded data removed]",
      "text/plain": [
       "<Figure size 1296x864 with 2 Axes>"
      ]
     },
     "metadata": {
      "needs_background": "light"
     },
     "output_type": "display_data"
    }
   ],
   "source": [
    "# heatmap of tags matrix\n",
    "# T(i, j) means P(tag j given tag i)\n",
    "plt.figure(figsize=(18, 12))\n",
    "sns.heatmap(tags_df)\n",
    "plt.show()\n"
   ]
  },
  {
   "cell_type": "code",
   "execution_count": 11,
   "metadata": {
    "ExecuteTime": {
     "end_time": "2021-01-31T05:55:08.271994Z",
     "start_time": "2021-01-31T05:55:08.011221Z"
    }
   },
   "outputs": [
    {
     "data": {
      "image/png": "[encoded data removed]",
      "text/plain": [
       "<Figure size 1296x864 with 2 Axes>"
      ]
     },
     "metadata": {
      "needs_background": "light"
     },
     "output_type": "display_data"
    }
   ],
   "source": [
    "# frequent tags\n",
    "# filter the df to get P(t2, t1) > 0.5\n",
    "tags_frequent = tags_df[tags_df>0.5]\n",
    "plt.figure(figsize=(18, 12))\n",
    "sns.heatmap(tags_frequent)\n",
    "plt.show()"
   ]
  },
  {
   "cell_type": "markdown",
   "metadata": {},
   "source": [
    "## Requirement 1 - Vanilla Viterbi Algorithm for Assigning POS tags"
   ]
  },
  {
   "cell_type": "code",
   "execution_count": 12,
   "metadata": {
    "ExecuteTime": {
     "end_time": "2021-01-31T05:55:08.286840Z",
     "start_time": "2021-01-31T05:55:08.274833Z"
    }
   },
   "outputs": [],
   "source": [
    "# Viterbi Heuristic\n",
    "def viterbi_heuristic(words, train_bag = train_tagged_words, unk_tagger=None, optimize=False):\n",
    "    state = []\n",
    "    T = list(set([pair[1] for pair in train_bag]))\n",
    "    \n",
    "    for key, word in enumerate(words): # If unknown words and tagger provided\n",
    "        word_list = [pair[0] for pair in train_tagged_words]\n",
    "        if word not in word_list and unk_tagger:\n",
    "            unk_word_tag=unk_tagger(word)\n",
    "            for sent in unk_word_tag:\n",
    "                for tup in sent:\n",
    "                    state.append(tup[1])\n",
    "        else: # Else use Vanilla/Optimized Viterbi Heuristic\n",
    "            p = [] \n",
    "            for tag in T:\n",
    "                if key == 0:\n",
    "                    transition_p = tags_df.loc['.', tag]\n",
    "                else:\n",
    "                    transition_p = tags_df.loc[state[-1], tag]\n",
    "                \n",
    "                # compute emission and state probabilities\n",
    "                emission_p = word_given_tag(words[key], tag)[0]/word_given_tag(words[key], tag)[1]\n",
    "                \n",
    "                if word not in word_list and optimize:\n",
    "                    # If optimize is true, only consider transition probability\n",
    "                    state_probability = transition_p\n",
    "                else:\n",
    "                    state_probability = emission_p * transition_p    \n",
    "                p.append(state_probability)\n",
    "            \n",
    "            pmax = max(p)\n",
    "            # getting state for which probability is maximum\n",
    "            state_max = T[p.index(pmax)] \n",
    "            state.append(state_max)\n",
    "            \n",
    "    return list(zip(words, state))"
   ]
  },
  {
   "cell_type": "code",
   "execution_count": 13,
   "metadata": {
    "ExecuteTime": {
     "end_time": "2021-01-31T05:55:08.461704Z",
     "start_time": "2021-01-31T05:55:08.288651Z"
    }
   },
   "outputs": [],
   "source": [
    "# Take a subset of Test data. Split into word and tag\n",
    "test_count = len(test_tagged_words)\n",
    "test_words = [tup[0] for tup in test_tagged_words][0:test_count]\n",
    "test_tags = [tup[1] for tup in test_tagged_words][0:test_count]"
   ]
  },
  {
   "cell_type": "code",
   "execution_count": 14,
   "metadata": {
    "ExecuteTime": {
     "end_time": "2021-01-31T06:09:00.453841Z",
     "start_time": "2021-01-31T05:55:08.470852Z"
    }
   },
   "outputs": [
    {
     "name": "stdout",
     "output_type": "stream",
     "text": [
      "Accuracy with Vanilla Viterbi: 92.5%\n"
     ]
    }
   ],
   "source": [
    "# Apply Vanilla Viterbi\n",
    "test_results = viterbi_heuristic(test_words)\n",
    "pred_tags = [tup[1] for tup in test_results]\n",
    "# accuracy\n",
    "accuracy_vanilla_viterbi = round(100 * accuracy_score(test_tags, pred_tags), 1)\n",
    "print(f\"Accuracy with Vanilla Viterbi: {accuracy_vanilla_viterbi}%\")\n",
    "#incorrect_tagged_vanilla_viterbi = [(test_words[x], test_tags[x], pred_tags[x]) for x in range(test_count) if test_tags[x]!=pred_tags[x]]\n",
    "#print(incorrect_tagged_vanilla_viterbi)"
   ]
  },
  {
   "cell_type": "code",
   "execution_count": 15,
   "metadata": {
    "ExecuteTime": {
     "end_time": "2021-01-31T06:09:31.198566Z",
     "start_time": "2021-01-31T06:09:00.456343Z"
    }
   },
   "outputs": [
    {
     "name": "stdout",
     "output_type": "stream",
     "text": [
      "Count of unknown words tagged by Vanilla Viterbi: 28, Accuracy: 0.0                                                                                                         \n",
      "[('Android', 'ADJ', 'NOUN'),\n",
      " ('Google', 'ADJ', 'NOUN'),\n",
      " ('OS', 'ADJ', 'NOUN'),\n",
      " ('worldwide', 'ADJ', 'NOUN'),\n",
      " ('smartphones', 'ADJ', 'NOUN'),\n",
      " ('2011', 'ADJ', 'NUM'),\n",
      " ('2013', 'ADJ', 'NUM'),\n",
      " ('Twitter', 'ADJ', 'NOUN'),\n",
      " ('2015', 'ADJ', 'NUM'),\n",
      " ('firehose', 'ADJ', 'NOUN'),\n",
      " ('online', 'ADJ', 'NOUN'),\n",
      " ('interact', 'ADJ', 'NOUN'),\n",
      " ('messages', 'ADJ', 'NOUN'),\n",
      " ('tweets', 'ADJ', 'NOUN'),\n",
      " ('domineering', 'ADJ', 'VERB'),\n",
      " ('personality', 'ADJ', 'NOUN'),\n",
      " ('2018', 'ADJ', 'NUM'),\n",
      " ('FIFA', 'ADJ', 'NOUN'),\n",
      " ('Cup', 'ADJ', 'NOUN'),\n",
      " ('21st', 'ADJ', 'NUM'),\n",
      " ('tournament', 'ADJ', 'NOUN'),\n",
      " ('contested', 'ADJ', 'VERB'),\n",
      " ('trips', 'ADJ', 'NOUN'),\n",
      " ('arriving', 'ADJ', 'VERB'),\n",
      " ('NASA', 'ADJ', 'NOUN'),\n",
      " ('invited', 'ADJ', 'VERB'),\n",
      " ('ICESAT-2', 'ADJ', 'NOUN'),\n",
      " ('Satellite', 'ADJ', 'NOUN')]\n"
     ]
    }
   ],
   "source": [
    "def unk_words_in_test_set(func_pos_tagger, kwargs, name_pos_tagger):\n",
    "    ## Testing on Test Set with Unknown Words\n",
    "    word_list = [pair[0] for pair in train_tagged_words]\n",
    "    unk_pairs = []\n",
    "    for sentence in test_sentences:\n",
    "        print(sentence, ' ' * 50, end='\\r')\n",
    "        words = word_tokenize(sentence)\n",
    "        kwargs.update({'words': words})\n",
    "        # Apply Pos Tagger\n",
    "        unk_pairs.extend([(*x,y[1]) for x in func_pos_tagger(**kwargs) for y in nltk.pos_tag(nltk.word_tokenize(x[0]), tagset='universal') if x[0] not in word_list])\n",
    "        accuracy = round(100 * accuracy_score([x[2] for x in unk_pairs], [x[1] for x in unk_pairs]), 2)\n",
    "    k_cleaned = []\n",
    "    for ele in unk_pairs:\n",
    "        if ele[0] not in [x[0] for x in k_cleaned]:\n",
    "            k_cleaned.append(ele)\n",
    "    unk_pairs = k_cleaned\n",
    "    #print([x[2] for x in unk_pairs], [x[1] for x in unk_pairs])\n",
    "    return unk_pairs, accuracy\n",
    "    \n",
    "unk_pairs_vanilla, unk_accuracy_vanilla = unk_words_in_test_set(viterbi_heuristic, {}, \"Vanilla Viterbi\")\n",
    "print(f\"Count of unknown words tagged by Vanilla Viterbi: {len(unk_pairs_vanilla)}, Accuracy: {unk_accuracy_vanilla}\", ' ' * 50)\n",
    "pprint.pprint(unk_pairs_vanilla)"
   ]
  },
  {
   "cell_type": "markdown",
   "metadata": {},
   "source": [
    "### Remarks on Performance of Vanilla Viterbi\n",
    "\n",
    "- As can be seen, the performance of the Vanilla Viterbi Heuristic is decent and gives an **accuracy of 92.5% on the test set**.\n",
    "- However, when applied to the test sentences which have a large number of unknow words, we can see that many of them are incorrectly tagged.\n",
    "- I have compared the Pos Tagging of Unknown Words by my tagger with the results of the standard Pos Tagger of NLTK.\n",
    "- As can be seen that all words are tagged as NOUN. This is because, for unknown words, the emission probabilities for all candidate tags are 0, so the algorithm arbitrarily chooses the first tag.\n",
    "- **The accuracy of the Vanilla Viterbi Heuristic Tagger on Unknown Words is 0% as all words have been tagged as ADJ and since none of the unknown words are Adjectives, the accuracy is showing as 0%. So, in actuals, the tagger is ineffective for unknown words.**"
   ]
  },
  {
   "cell_type": "markdown",
   "metadata": {},
   "source": [
    "## Requirement 2 - Solve Problem of Unknown Words by Two Methods"
   ]
  },
  {
   "cell_type": "markdown",
   "metadata": {},
   "source": [
    "### Method 1: Modified Viterbi Algorithm to Consider only one of the transition or emission probabilities for unknown words\n",
    "\n",
    "If a word is not present in the training vocabulary  and is an unknown word, its emission probability will be ZERO. Therefore, the state probability will also be ZERO. In order to avoid this situation, where the unknown word is tagged as the first tag arbitrarily, we can omit the emission probability and only consider the transition probability for the calculation of State Probability.\n",
    "\n",
    "The algorithm can now be optimized to improve its performance when it encounters an unknown word by considering only the transition_p (emission probability being 0). For words in the training vocabulary, we will condider both the emission and transition probability as done for the Vanilla Viterbi."
   ]
  },
  {
   "cell_type": "code",
   "execution_count": 16,
   "metadata": {
    "ExecuteTime": {
     "end_time": "2021-01-31T06:23:19.991228Z",
     "start_time": "2021-01-31T06:09:31.201427Z"
    }
   },
   "outputs": [
    {
     "name": "stdout",
     "output_type": "stream",
     "text": [
      "Accuracy with Optimized Viterbi: 93.9%\n"
     ]
    }
   ],
   "source": [
    "# Apply Optimised Viterbi\n",
    "test_results = viterbi_heuristic(test_words, optimize=True)\n",
    "pred_tags = [tup[1] for tup in test_results]\n",
    "# accuracy\n",
    "accuracy_optimized_viterbi = round(100 * accuracy_score(test_tags, pred_tags), 1)\n",
    "print(f\"Accuracy with Optimized Viterbi: {accuracy_optimized_viterbi}%\")\n",
    "#incorrect_tagged_optimized_viterbi = [(test_words[x], test_tags[x], pred_tags[x]) for x in range(test_count) if test_tags[x]!=pred_tags[x]]\n",
    "#print(incorrect_tagged_optimized_viterbi)"
   ]
  },
  {
   "cell_type": "code",
   "execution_count": 17,
   "metadata": {
    "ExecuteTime": {
     "end_time": "2021-01-31T06:23:50.406163Z",
     "start_time": "2021-01-31T06:23:19.993403Z"
    }
   },
   "outputs": [
    {
     "name": "stdout",
     "output_type": "stream",
     "text": [
      "Count of unknown words tagged by Optimized Viterbi: 28, Accuracy: 52.78                                                                                                     \n",
      "[('Android', 'NOUN', 'NOUN'),\n",
      " ('Google', 'DET', 'NOUN'),\n",
      " ('OS', 'NOUN', 'NOUN'),\n",
      " ('worldwide', 'NOUN', 'NOUN'),\n",
      " ('smartphones', 'DET', 'NOUN'),\n",
      " ('2011', 'DET', 'NUM'),\n",
      " ('2013', 'DET', 'NUM'),\n",
      " ('Twitter', 'NOUN', 'NOUN'),\n",
      " ('2015', 'DET', 'NUM'),\n",
      " ('firehose', 'VERB', 'NOUN'),\n",
      " ('online', 'NOUN', 'NOUN'),\n",
      " ('interact', 'NOUN', 'NOUN'),\n",
      " ('messages', 'DET', 'NOUN'),\n",
      " ('tweets', 'DET', 'NOUN'),\n",
      " ('domineering', 'NOUN', 'VERB'),\n",
      " ('personality', 'NOUN', 'NOUN'),\n",
      " ('2018', 'NOUN', 'NUM'),\n",
      " ('FIFA', 'NOUN', 'NOUN'),\n",
      " ('Cup', 'NOUN', 'NOUN'),\n",
      " ('21st', 'NOUN', 'NUM'),\n",
      " ('tournament', 'NOUN', 'NOUN'),\n",
      " ('contested', 'NOUN', 'VERB'),\n",
      " ('trips', 'NOUN', 'NOUN'),\n",
      " ('arriving', 'NOUN', 'VERB'),\n",
      " ('NASA', 'NOUN', 'NOUN'),\n",
      " ('invited', 'NOUN', 'VERB'),\n",
      " ('ICESAT-2', 'DET', 'NOUN'),\n",
      " ('Satellite', 'NOUN', 'NOUN')]\n"
     ]
    }
   ],
   "source": [
    "unk_pairs_optimized, unk_accuracy_optimized = unk_words_in_test_set(viterbi_heuristic, {'optimize':True}, \"Optimized Viterbi\")\n",
    "print(f\"Count of unknown words tagged by Optimized Viterbi: {len(unk_pairs_optimized)}, Accuracy: {unk_accuracy_optimized}\", ' ' * 50)\n",
    "pprint.pprint(unk_pairs_optimized)"
   ]
  },
  {
   "cell_type": "markdown",
   "metadata": {},
   "source": [
    "### Remarks on Performance of Optimized Viterbi\n",
    "\n",
    "- As can be seen, the Optimized Viterbi Heuristic gives an **accuracy of 93.9% on the test set.** It is slightly, but not greatly, better than Vanilla Viterbi tagger as the tagging heuristic for words in the training set remains the same.\n",
    "- However, when applied to the test sentences which have a large number of unknown words, we can see a marked improvement with an accuracy of 52.78%. However, many words are still incorrectly tagged.\n",
    "- On comparing the Pos Tagging of Unknown Words with the results of the standard Pos Tagger of NLTK, we see that many NOUNS like Android, OS, WORLDWIDE, NASA, Twitter, FIFA, etc have been correctly tagged. However other words like Google, Smartphones, arriving, etc are still tagged incorrectly.\n",
    "- Numbers like 2011, 2013, 2015 and 21st have been identified wrongly as DET.\n",
    "- As can be seen, a large number of unknown words have been tagged as NOUN.\n",
    "- **The accuracy of the Optimized Viterbi Heuristic Tagger on Unknown Words is 52.78%.**"
   ]
  },
  {
   "cell_type": "markdown",
   "metadata": {},
   "source": [
    "### Method 2: Using another Tagger in Tandem  (Unigram/Bigram/Trigram/Regex)"
   ]
  },
  {
   "cell_type": "markdown",
   "metadata": {},
   "source": [
    "#### Regexp Rule Based Tagger"
   ]
  },
  {
   "cell_type": "code",
   "execution_count": 18,
   "metadata": {
    "ExecuteTime": {
     "end_time": "2021-01-31T06:23:50.418166Z",
     "start_time": "2021-01-31T06:23:50.408594Z"
    }
   },
   "outputs": [],
   "source": [
    "# specify patterns for tagging\n",
    "# example from the NLTK book\n",
    "patterns = [\n",
    "    (r'.*ing$', 'VBG'),              # gerund\n",
    "    (r'.*ed$', 'VBD'),               # past tense\n",
    "    (r'.*es$', 'VBZ'),               # 3rd singular present\n",
    "    (r'.*ould$', 'MD'),              # modals\n",
    "    (r'.*\\'s$', 'NN$'),              # possessive nouns\n",
    "    (r'.*s$', 'NNS'),                # plural nouns\n",
    "    (r'^-?[0-9]+(.[0-9]+)?$', 'CD'), # cardinal numbers\n",
    "    (r'.*', 'NN')                    # nouns\n",
    "]\n",
    "\n",
    "# rule based tagger\n",
    "rule_based_tagger = nltk.RegexpTagger(patterns)"
   ]
  },
  {
   "cell_type": "markdown",
   "metadata": {},
   "source": [
    "#### Unigram Tagger"
   ]
  },
  {
   "cell_type": "code",
   "execution_count": 19,
   "metadata": {
    "ExecuteTime": {
     "end_time": "2021-01-31T06:23:52.625525Z",
     "start_time": "2021-01-31T06:23:50.421427Z"
    }
   },
   "outputs": [
    {
     "name": "stdout",
     "output_type": "stream",
     "text": [
      "Accuracy of Unigram tagger: 0.911735797129939\n",
      "With rule based backoff: 0.911735797129939\n"
     ]
    }
   ],
   "source": [
    "# Lexicon (or unigram tagger)\n",
    "unigram_tagger = nltk.UnigramTagger(train_set)\n",
    "accuracy_unigram_tagger = unigram_tagger.evaluate(test_set)\n",
    "print(f\"Accuracy of Unigram tagger: {accuracy_unigram_tagger}\")\n",
    "\n",
    "# lexicon backed up by the rule-based tagger\n",
    "lexicon_tagger = nltk.UnigramTagger(train_set, backoff=rule_based_tagger)\n",
    "\n",
    "accuracy_lexicon_tagger = lexicon_tagger.evaluate(test_set)\n",
    "print(f\"With rule based backoff: {accuracy_lexicon_tagger}\")"
   ]
  },
  {
   "cell_type": "markdown",
   "metadata": {},
   "source": [
    "#### Bigram tagger"
   ]
  },
  {
   "cell_type": "code",
   "execution_count": 20,
   "metadata": {
    "ExecuteTime": {
     "end_time": "2021-01-31T06:23:53.292615Z",
     "start_time": "2021-01-31T06:23:52.628322Z"
    }
   },
   "outputs": [
    {
     "name": "stdout",
     "output_type": "stream",
     "text": [
      "On adding Bigram tagger: 0.9154708079418125\n"
     ]
    }
   ],
   "source": [
    "# Bigram and Trigram tagger\n",
    "bigram_tagger = nltk.BigramTagger(train_set,backoff=lexicon_tagger)\n",
    "bigram_tagger.evaluate(test_set)\n",
    "accuracy_bigram_tagger = bigram_tagger.evaluate(test_set)\n",
    "print(\"On adding Bigram tagger:\", accuracy_bigram_tagger)"
   ]
  },
  {
   "cell_type": "markdown",
   "metadata": {},
   "source": [
    "#### Trigram tagger"
   ]
  },
  {
   "cell_type": "code",
   "execution_count": 21,
   "metadata": {
    "ExecuteTime": {
     "end_time": "2021-01-31T06:23:54.222761Z",
     "start_time": "2021-01-31T06:23:53.294707Z"
    }
   },
   "outputs": [
    {
     "name": "stdout",
     "output_type": "stream",
     "text": [
      "On adding Trigram tagger: 0.9146844898761549\n"
     ]
    }
   ],
   "source": [
    "trigram_tagger = nltk.TrigramTagger(train_set, backoff=bigram_tagger)\n",
    "trigram_tagger.evaluate(test_set)\n",
    "accuracy_trigram_tagger = trigram_tagger.evaluate(test_set)\n",
    "print(\"On adding Trigram tagger:\", accuracy_trigram_tagger)"
   ]
  },
  {
   "cell_type": "code",
   "execution_count": 22,
   "metadata": {
    "ExecuteTime": {
     "end_time": "2021-01-31T06:23:54.232731Z",
     "start_time": "2021-01-31T06:23:54.225680Z"
    }
   },
   "outputs": [],
   "source": [
    "def combined_tagger(word,train_set = train_set):\n",
    "    patterns1 = [\n",
    "    (r'.*ing$', 'VERB'),              # gerund\n",
    "    (r'.*ed$', 'VERB'),               # past tense\n",
    "    (r'.*es$', 'VERB'),               # 3rd singular present\n",
    "    (r'.*ould$', 'X'),              # modals\n",
    "    (r'.*\\'s$', 'NOUN'),              # possessive nouns\n",
    "    (r'.*s$', 'NOUN'),                # plural nouns\n",
    "    (r'^-?[0-9]+(.[0-9]+)?$', 'NUM'), # cardinal numbers\n",
    "    (r'.*', 'NOUN')                    # nouns\n",
    "    ]\n",
    "    regex_based_tagger = nltk.RegexpTagger(patterns1)\n",
    "\n",
    "    # trigram backed up by the regex tagger\n",
    "    trigram_regex_tagger = nltk.TrigramTagger(train_set, backoff=regex_based_tagger)\n",
    "    return trigram_regex_tagger.tag_sents([[(word)]])"
   ]
  },
  {
   "cell_type": "code",
   "execution_count": 23,
   "metadata": {
    "ExecuteTime": {
     "end_time": "2021-01-31T06:46:53.344117Z",
     "start_time": "2021-01-31T06:23:54.237983Z"
    }
   },
   "outputs": [
    {
     "name": "stdout",
     "output_type": "stream",
     "text": [
      "Accuracy with Combined Trigram Viterbi: 95.3%\n"
     ]
    }
   ],
   "source": [
    "# Apply Viterbi with Combined Tagger\n",
    "test_results = viterbi_heuristic(test_words, unk_tagger=combined_tagger)\n",
    "pred_tags = [tup[1] for tup in test_results]\n",
    "# accuracy\n",
    "accuracy_trigram_viterbi = round(100 * accuracy_score(test_tags, pred_tags), 1)\n",
    "print(f\"Accuracy with Combined Trigram Viterbi: {accuracy_trigram_viterbi}%\")\n",
    "#incorrect_tagged_trigram_viterbi = [(test_words[x], test_tags[x], pred_tags[x]) for x in range(test_count) if test_tags[x]!=pred_tags[x]]\n",
    "#print(incorrect_tagged_trigram_viterbi)"
   ]
  },
  {
   "cell_type": "code",
   "execution_count": 24,
   "metadata": {
    "ExecuteTime": {
     "end_time": "2021-01-31T06:48:27.553374Z",
     "start_time": "2021-01-31T06:46:53.347312Z"
    }
   },
   "outputs": [
    {
     "name": "stdout",
     "output_type": "stream",
     "text": [
      "Count of unknown words tagged by Viterbi with Combined Trigram tagger: 28, Accuracy: 91.67                                                                                  \n",
      "[('Android', 'NOUN', 'NOUN'),\n",
      " ('Google', 'NOUN', 'NOUN'),\n",
      " ('OS', 'NOUN', 'NOUN'),\n",
      " ('worldwide', 'NOUN', 'NOUN'),\n",
      " ('smartphones', 'VERB', 'NOUN'),\n",
      " ('2011', 'NUM', 'NUM'),\n",
      " ('2013', 'NUM', 'NUM'),\n",
      " ('Twitter', 'NOUN', 'NOUN'),\n",
      " ('2015', 'NUM', 'NUM'),\n",
      " ('firehose', 'NOUN', 'NOUN'),\n",
      " ('online', 'NOUN', 'NOUN'),\n",
      " ('interact', 'NOUN', 'NOUN'),\n",
      " ('messages', 'VERB', 'NOUN'),\n",
      " ('tweets', 'NOUN', 'NOUN'),\n",
      " ('domineering', 'VERB', 'VERB'),\n",
      " ('personality', 'NOUN', 'NOUN'),\n",
      " ('2018', 'NUM', 'NUM'),\n",
      " ('FIFA', 'NOUN', 'NOUN'),\n",
      " ('Cup', 'NOUN', 'NOUN'),\n",
      " ('21st', 'NOUN', 'NUM'),\n",
      " ('tournament', 'NOUN', 'NOUN'),\n",
      " ('contested', 'VERB', 'VERB'),\n",
      " ('trips', 'NOUN', 'NOUN'),\n",
      " ('arriving', 'VERB', 'VERB'),\n",
      " ('NASA', 'NOUN', 'NOUN'),\n",
      " ('invited', 'VERB', 'VERB'),\n",
      " ('ICESAT-2', 'NOUN', 'NOUN'),\n",
      " ('Satellite', 'NOUN', 'NOUN')]\n"
     ]
    }
   ],
   "source": [
    "unk_pairs_combined, unk_accuracy_combined = unk_words_in_test_set(viterbi_heuristic, {'unk_tagger':combined_tagger}, \"Viterbi with Combined tagger\")\n",
    "print(f\"Count of unknown words tagged by Viterbi with Combined Trigram tagger: {len(unk_pairs_combined)}, Accuracy: {unk_accuracy_combined}\", ' ' * 50)\n",
    "pprint.pprint(unk_pairs_combined)"
   ]
  },
  {
   "cell_type": "markdown",
   "metadata": {},
   "source": [
    "### Remarks on Performance of Combined (Trigram / Regex) Viterbi\n",
    "\n",
    "- As can be seen, the Combined Viterbi Heuristic gives an **accuracy of 95.3% on the test set.** It performs better that the Vanilla and Optimized Viterbi taggers on words in the training set.\n",
    "- When applied to the test sentences which have a large number of unknown words, we can see a significant improvement with an accuracy of 91.7%.\n",
    "- **Only three words have been tagged incorrectly - \"smartphones\", \"messages\" and \"21st\"**.\n",
    "- **The accuracy of the Combined Viterbi Heuristic Tagger on Unknown Words is 91.7%.**"
   ]
  },
  {
   "cell_type": "markdown",
   "metadata": {},
   "source": [
    "### Compare the tagging accuracies of the modifications with the vanilla Viterbi algorithm"
   ]
  },
  {
   "cell_type": "code",
   "execution_count": 29,
   "metadata": {
    "ExecuteTime": {
     "end_time": "2021-01-31T11:20:04.309352Z",
     "start_time": "2021-01-31T11:20:04.299138Z"
    }
   },
   "outputs": [
    {
     "data": {
      "text/html": [
       "<div>\n",
       "<style scoped>\n",
       "    .dataframe tbody tr th:only-of-type {\n",
       "        vertical-align: middle;\n",
       "    }\n",
       "\n",
       "    .dataframe tbody tr th {\n",
       "        vertical-align: top;\n",
       "    }\n",
       "\n",
       "    .dataframe thead th {\n",
       "        text-align: right;\n",
       "    }\n",
       "</style>\n",
       "<table border=\"1\" class=\"dataframe\">\n",
       "  <thead>\n",
       "    <tr style=\"text-align: right;\">\n",
       "      <th></th>\n",
       "      <th>Vanilla Viterbi</th>\n",
       "      <th>Optimized Viterbi</th>\n",
       "      <th>Combined (Trigram/Regex) Viterbi</th>\n",
       "    </tr>\n",
       "  </thead>\n",
       "  <tbody>\n",
       "    <tr>\n",
       "      <th>On Test Words</th>\n",
       "      <td>92.5</td>\n",
       "      <td>93.90</td>\n",
       "      <td>95.30</td>\n",
       "    </tr>\n",
       "    <tr>\n",
       "      <th>On Unknown Words</th>\n",
       "      <td>0.0</td>\n",
       "      <td>52.78</td>\n",
       "      <td>91.67</td>\n",
       "    </tr>\n",
       "  </tbody>\n",
       "</table>\n",
       "</div>"
      ],
      "text/plain": [
       "                  Vanilla Viterbi  Optimized Viterbi  \\\n",
       "On Test Words                92.5              93.90   \n",
       "On Unknown Words              0.0              52.78   \n",
       "\n",
       "                  Combined (Trigram/Regex) Viterbi  \n",
       "On Test Words                                95.30  \n",
       "On Unknown Words                             91.67  "
      ]
     },
     "execution_count": 29,
     "metadata": {},
     "output_type": "execute_result"
    }
   ],
   "source": [
    "df = pd.DataFrame({\"Vanilla Viterbi\": [accuracy_vanilla_viterbi, unk_accuracy_vanilla],\n",
    "                   \"Optimized Viterbi\": [accuracy_optimized_viterbi, unk_accuracy_optimized], \n",
    "                   \"Combined (Trigram/Regex) Viterbi\": [accuracy_trigram_viterbi, unk_accuracy_combined]}, index=[\"On Test Words\", \"On Unknown Words\"])\n",
    "df"
   ]
  },
  {
   "cell_type": "markdown",
   "metadata": {},
   "source": [
    "### List down cases which were incorrectly tagged by original POS tagger and got corrected by your modifications"
   ]
  },
  {
   "cell_type": "code",
   "execution_count": 26,
   "metadata": {
    "ExecuteTime": {
     "end_time": "2021-01-31T06:48:27.804547Z",
     "start_time": "2021-01-31T06:48:27.573714Z"
    }
   },
   "outputs": [
    {
     "name": "stdout",
     "output_type": "stream",
     "text": [
      "Total number of Unknown Words: 28\n",
      "\n",
      "Correctly tagged by Vanilla Viterbi:    0, Incorrect: 28\n",
      "Correctly tagged by Optimized Viterbi:  13, Incorrect: 15\n",
      "Correctly tagged by Trigram Viterbi:    25, Incorrect: 3\n",
      "\n",
      "List of Unknown words and results of Tagging by each method: \n"
     ]
    },
    {
     "data": {
      "text/html": [
       "<div>\n",
       "<style scoped>\n",
       "    .dataframe tbody tr th:only-of-type {\n",
       "        vertical-align: middle;\n",
       "    }\n",
       "\n",
       "    .dataframe tbody tr th {\n",
       "        vertical-align: top;\n",
       "    }\n",
       "\n",
       "    .dataframe thead th {\n",
       "        text-align: right;\n",
       "    }\n",
       "</style>\n",
       "<table border=\"1\" class=\"dataframe\">\n",
       "  <thead>\n",
       "    <tr style=\"text-align: right;\">\n",
       "      <th></th>\n",
       "      <th>Android</th>\n",
       "      <th>Google</th>\n",
       "      <th>OS</th>\n",
       "      <th>worldwide</th>\n",
       "      <th>smartphones</th>\n",
       "      <th>2011</th>\n",
       "      <th>2013</th>\n",
       "      <th>Twitter</th>\n",
       "      <th>2015</th>\n",
       "      <th>firehose</th>\n",
       "      <th>online</th>\n",
       "      <th>interact</th>\n",
       "      <th>messages</th>\n",
       "      <th>tweets</th>\n",
       "      <th>domineering</th>\n",
       "      <th>personality</th>\n",
       "      <th>2018</th>\n",
       "      <th>FIFA</th>\n",
       "      <th>Cup</th>\n",
       "      <th>21st</th>\n",
       "      <th>tournament</th>\n",
       "      <th>contested</th>\n",
       "      <th>trips</th>\n",
       "      <th>arriving</th>\n",
       "      <th>NASA</th>\n",
       "      <th>invited</th>\n",
       "      <th>ICESAT-2</th>\n",
       "      <th>Satellite</th>\n",
       "    </tr>\n",
       "  </thead>\n",
       "  <tbody>\n",
       "    <tr>\n",
       "      <th>Vanilla Viterbi</th>\n",
       "      <td>False</td>\n",
       "      <td>False</td>\n",
       "      <td>False</td>\n",
       "      <td>False</td>\n",
       "      <td>False</td>\n",
       "      <td>False</td>\n",
       "      <td>False</td>\n",
       "      <td>False</td>\n",
       "      <td>False</td>\n",
       "      <td>False</td>\n",
       "      <td>False</td>\n",
       "      <td>False</td>\n",
       "      <td>False</td>\n",
       "      <td>False</td>\n",
       "      <td>False</td>\n",
       "      <td>False</td>\n",
       "      <td>False</td>\n",
       "      <td>False</td>\n",
       "      <td>False</td>\n",
       "      <td>False</td>\n",
       "      <td>False</td>\n",
       "      <td>False</td>\n",
       "      <td>False</td>\n",
       "      <td>False</td>\n",
       "      <td>False</td>\n",
       "      <td>False</td>\n",
       "      <td>False</td>\n",
       "      <td>False</td>\n",
       "    </tr>\n",
       "    <tr>\n",
       "      <th>Optimized Viterbi</th>\n",
       "      <td>True</td>\n",
       "      <td>False</td>\n",
       "      <td>True</td>\n",
       "      <td>True</td>\n",
       "      <td>False</td>\n",
       "      <td>False</td>\n",
       "      <td>False</td>\n",
       "      <td>True</td>\n",
       "      <td>False</td>\n",
       "      <td>False</td>\n",
       "      <td>True</td>\n",
       "      <td>True</td>\n",
       "      <td>False</td>\n",
       "      <td>False</td>\n",
       "      <td>False</td>\n",
       "      <td>True</td>\n",
       "      <td>False</td>\n",
       "      <td>True</td>\n",
       "      <td>True</td>\n",
       "      <td>False</td>\n",
       "      <td>True</td>\n",
       "      <td>False</td>\n",
       "      <td>True</td>\n",
       "      <td>False</td>\n",
       "      <td>True</td>\n",
       "      <td>False</td>\n",
       "      <td>False</td>\n",
       "      <td>True</td>\n",
       "    </tr>\n",
       "    <tr>\n",
       "      <th>Trigram Viterbi</th>\n",
       "      <td>True</td>\n",
       "      <td>True</td>\n",
       "      <td>True</td>\n",
       "      <td>True</td>\n",
       "      <td>False</td>\n",
       "      <td>True</td>\n",
       "      <td>True</td>\n",
       "      <td>True</td>\n",
       "      <td>True</td>\n",
       "      <td>True</td>\n",
       "      <td>True</td>\n",
       "      <td>True</td>\n",
       "      <td>False</td>\n",
       "      <td>True</td>\n",
       "      <td>True</td>\n",
       "      <td>True</td>\n",
       "      <td>True</td>\n",
       "      <td>True</td>\n",
       "      <td>True</td>\n",
       "      <td>False</td>\n",
       "      <td>True</td>\n",
       "      <td>True</td>\n",
       "      <td>True</td>\n",
       "      <td>True</td>\n",
       "      <td>True</td>\n",
       "      <td>True</td>\n",
       "      <td>True</td>\n",
       "      <td>True</td>\n",
       "    </tr>\n",
       "  </tbody>\n",
       "</table>\n",
       "</div>"
      ],
      "text/plain": [
       "                   Android  Google     OS  worldwide  smartphones   2011  \\\n",
       "Vanilla Viterbi      False   False  False      False        False  False   \n",
       "Optimized Viterbi     True   False   True       True        False  False   \n",
       "Trigram Viterbi       True    True   True       True        False   True   \n",
       "\n",
       "                    2013  Twitter   2015  firehose  online  interact  \\\n",
       "Vanilla Viterbi    False    False  False     False   False     False   \n",
       "Optimized Viterbi  False     True  False     False    True      True   \n",
       "Trigram Viterbi     True     True   True      True    True      True   \n",
       "\n",
       "                   messages  tweets  domineering  personality   2018   FIFA  \\\n",
       "Vanilla Viterbi       False   False        False        False  False  False   \n",
       "Optimized Viterbi     False   False        False         True  False   True   \n",
       "Trigram Viterbi       False    True         True         True   True   True   \n",
       "\n",
       "                     Cup   21st  tournament  contested  trips  arriving  \\\n",
       "Vanilla Viterbi    False  False       False      False  False     False   \n",
       "Optimized Viterbi   True  False        True      False   True     False   \n",
       "Trigram Viterbi     True  False        True       True   True      True   \n",
       "\n",
       "                    NASA  invited  ICESAT-2  Satellite  \n",
       "Vanilla Viterbi    False    False     False      False  \n",
       "Optimized Viterbi   True    False     False       True  \n",
       "Trigram Viterbi     True     True      True       True  "
      ]
     },
     "execution_count": 26,
     "metadata": {},
     "output_type": "execute_result"
    }
   ],
   "source": [
    "print(f\"Total number of Unknown Words: {len(unk_pairs_vanilla)}\")\n",
    "\n",
    "unk = {}\n",
    "for pairs in unk_pairs_vanilla:\n",
    "    unk.setdefault(pairs[0], []).append([pairs[1], pairs[2]])\n",
    "for pairs in unk_pairs_optimized:\n",
    "    unk.setdefault(pairs[0], []).append([pairs[1], pairs[2]])\n",
    "for pairs in unk_pairs_combined:\n",
    "    unk.setdefault(pairs[0], []).append([pairs[1], pairs[2]])\n",
    "    \n",
    "df = pd.DataFrame({word: [True if x[0]==x[1] else False for x in results ] for word, results in unk.items()}, \n",
    "             index=['Vanilla Viterbi', 'Optimized Viterbi', 'Trigram Viterbi'])\n",
    "\n",
    "print(f\"\\nCorrectly tagged by Vanilla Viterbi:    {df.loc['Vanilla Viterbi'].sum()}, Incorrect: {len(df.loc['Vanilla Viterbi']) - df.loc['Vanilla Viterbi'].sum()}\")\n",
    "print(f\"Correctly tagged by Optimized Viterbi:  {df.loc['Optimized Viterbi'].sum()}, Incorrect: {len(df.loc['Vanilla Viterbi']) - df.loc['Optimized Viterbi'].sum()}\")\n",
    "print(f\"Correctly tagged by Trigram Viterbi:    {df.loc['Trigram Viterbi'].sum()}, Incorrect: {len(df.loc['Vanilla Viterbi']) - df.loc['Trigram Viterbi'].sum()}\")\n",
    "print(\"\\nList of Unknown words and results of Tagging by each method: \")\n",
    "pd.options.display.max_columns = None\n",
    "df"
   ]
  },
  {
   "cell_type": "markdown",
   "metadata": {},
   "source": [
    "#### Android, OS, Worldwide, Twitter, Online and Interact are some of the words which were wrongly tagged by Vanilla Viterbi but correctly tagged by both the Optimized and Combined Taggers.\n",
    "\n",
    "#### Google, 2011, 2015, firehose and tweets are some of the words which were wrongly tagged by both Vanilla and Optmized Viterbi but correctly tagged by the Combined Tagger.\n",
    "\n",
    "#### The only unknown words which have not been tagged correctly by either the Vanilla, Optimized or Combined Taggers are smartphones, messages and 21st."
   ]
  },
  {
   "cell_type": "code",
   "execution_count": null,
   "metadata": {},
   "outputs": [],
   "source": []
  }
 ],
 "metadata": {
  "kernelspec": {
   "display_name": "Python 3",
   "language": "python",
   "name": "python3"
  },
  "language_info": {
   "codemirror_mode": {
    "name": "ipython",
    "version": 3
   },
   "file_extension": ".py",
   "mimetype": "text/x-python",
   "name": "python",
   "nbconvert_exporter": "python",
   "pygments_lexer": "ipython3",
   "version": "3.7.6"
  },
  "toc": {
   "base_numbering": 1,
   "nav_menu": {},
   "number_sections": false,
   "sideBar": true,
   "skip_h1_title": false,
   "title_cell": "Table of Contents",
   "title_sidebar": "Contents",
   "toc_cell": false,
   "toc_position": {},
   "toc_section_display": true,
   "toc_window_display": false
  }
 },
 "nbformat": 4,
 "nbformat_minor": 2
}
